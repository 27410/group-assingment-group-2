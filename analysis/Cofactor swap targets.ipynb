{
 "cells": [
  {
   "cell_type": "markdown",
   "id": "b23dfad7",
   "metadata": {},
   "source": [
    "## Cofactor swap targets"
   ]
  },
  {
   "cell_type": "markdown",
   "id": "32bb540d",
   "metadata": {},
   "source": [
    "We are going to perform an analysis on cofactor swap focused on the availability of NADPH with the aim of improving the yield of our product even though the reactions the added to the model don't have NADPH as a cofactor and we haven't found any evidence on cofactor swap altering ethylene production by the EFE."
   ]
  },
  {
   "cell_type": "code",
   "execution_count": null,
   "id": "6057f670",
   "metadata": {},
   "outputs": [],
   "source": [
    "%run iJO1366_V0.ipynb\n",
    "\n",
    "#from cameo.strain_design.heuristic.evolutionary_based import CofactorSwapOptimization\n",
    "#from cameo.strain_design.heuristic.evolutionary.objective_functions import product_yield\n",
    "from cameo.strain_design.heuristic.evolutionary.objective_functions import product_yield\n",
    "\n",
    "from cameo.strain_design.heuristic.evolutionary.optimization import CofactorSwapOptimization, NADH_NADPH"
   ]
  },
  {
   "cell_type": "code",
   "execution_count": 72,
   "id": "2579e60b",
   "metadata": {},
   "outputs": [],
   "source": [
    "#model.solver = \"glpk\""
   ]
  },
  {
   "cell_type": "code",
   "execution_count": 73,
   "id": "34cd54f1",
   "metadata": {},
   "outputs": [],
   "source": [
    "demand = model.reactions.DM_eth_c\n",
    "model.objective = demand"
   ]
  },
  {
   "cell_type": "code",
   "execution_count": 74,
   "id": "915be236",
   "metadata": {},
   "outputs": [],
   "source": [
    "p_y = product_yield(demand, model.reactions.EX_glc__D_e)"
   ]
  },
  {
   "cell_type": "code",
   "execution_count": 75,
   "id": "95911b13",
   "metadata": {},
   "outputs": [],
   "source": [
    "swap_opt = CofactorSwapOptimization(model=model, objective_function=p_y, plot=False, cofactor_id_swaps=(['nadp_c', 'nadph_c'], ['nad_c', 'nadh_c']))"
   ]
  },
  {
   "cell_type": "code",
   "execution_count": 76,
   "id": "5bc67ce3",
   "metadata": {
    "scrolled": true
   },
   "outputs": [
    {
     "name": "stdout",
     "output_type": "stream",
     "text": [
      "Wall time: 0 ns\n",
      "Starting optimization at Fri, 24 Nov 2023 19:02:06\n"
     ]
    },
    {
     "data": {
      "application/vnd.jupyter.widget-view+json": {
       "model_id": "9c432b1a3c2d4fe583a493455b9fa5a6",
       "version_major": 2,
       "version_minor": 0
      },
      "text/plain": [
       "HBox()"
      ]
     },
     "metadata": {},
     "output_type": "display_data"
    },
    {
     "name": "stdout",
     "output_type": "stream",
     "text": [
      "Finished after 00:00:42\n"
     ]
    }
   ],
   "source": [
    "%time\n",
    "result = swap_opt.run(max_size=10)"
   ]
  },
  {
   "cell_type": "code",
   "execution_count": 77,
   "id": "524795dc",
   "metadata": {},
   "outputs": [
    {
     "data": {
      "text/html": [
       "\n",
       "        <h4>Result:</h4>\n",
       "        <ul>\n",
       "            <li>model: iJO1366</li>\n",
       "            <li>heuristic: GA</li>\n",
       "            <li>objective function: $$yield = \\frac{DM\\_eth\\_c}{EX\\_glc\\_\\_D\\_e}$$</li>\n",
       "            <li>simulation method: pfba</li>\n",
       "            <li>target type: cofactor-swap</li>\n",
       "        <ul>\n",
       "        <div>\n",
       "<style scoped>\n",
       "    .dataframe tbody tr th:only-of-type {\n",
       "        vertical-align: middle;\n",
       "    }\n",
       "\n",
       "    .dataframe tbody tr th {\n",
       "        vertical-align: top;\n",
       "    }\n",
       "\n",
       "    .dataframe thead th {\n",
       "        text-align: right;\n",
       "    }\n",
       "</style>\n",
       "<table border=\"1\" class=\"dataframe\">\n",
       "  <thead>\n",
       "    <tr style=\"text-align: right;\">\n",
       "      <th></th>\n",
       "      <th>index</th>\n",
       "      <th>targets</th>\n",
       "      <th>fitness</th>\n",
       "    </tr>\n",
       "  </thead>\n",
       "  <tbody>\n",
       "    <tr>\n",
       "      <th>0</th>\n",
       "      <td>0</td>\n",
       "      <td>(GAPD,)</td>\n",
       "      <td>0.432096</td>\n",
       "    </tr>\n",
       "    <tr>\n",
       "      <th>1</th>\n",
       "      <td>1</td>\n",
       "      <td>(ACALD,)</td>\n",
       "      <td>0.429814</td>\n",
       "    </tr>\n",
       "    <tr>\n",
       "      <th>2</th>\n",
       "      <td>4</td>\n",
       "      <td>(GLUDy,)</td>\n",
       "      <td>0.429203</td>\n",
       "    </tr>\n",
       "    <tr>\n",
       "      <th>3</th>\n",
       "      <td>5</td>\n",
       "      <td>(MTHFD,)</td>\n",
       "      <td>0.429203</td>\n",
       "    </tr>\n",
       "    <tr>\n",
       "      <th>4</th>\n",
       "      <td>6</td>\n",
       "      <td>(ASAD,)</td>\n",
       "      <td>0.429203</td>\n",
       "    </tr>\n",
       "    <tr>\n",
       "      <th>5</th>\n",
       "      <td>8</td>\n",
       "      <td>(HSDy,)</td>\n",
       "      <td>0.429203</td>\n",
       "    </tr>\n",
       "    <tr>\n",
       "      <th>6</th>\n",
       "      <td>9</td>\n",
       "      <td>(TRDR,)</td>\n",
       "      <td>0.427056</td>\n",
       "    </tr>\n",
       "    <tr>\n",
       "      <th>7</th>\n",
       "      <td>10</td>\n",
       "      <td>(FLDR2,)</td>\n",
       "      <td>0.427056</td>\n",
       "    </tr>\n",
       "    <tr>\n",
       "      <th>8</th>\n",
       "      <td>11</td>\n",
       "      <td>(GTHOr,)</td>\n",
       "      <td>0.427056</td>\n",
       "    </tr>\n",
       "    <tr>\n",
       "      <th>9</th>\n",
       "      <td>22</td>\n",
       "      <td>(PDH,)</td>\n",
       "      <td>0.426610</td>\n",
       "    </tr>\n",
       "  </tbody>\n",
       "</table>\n",
       "</div>"
      ],
      "text/plain": [
       "<cameo.strain_design.heuristic.evolutionary.optimization.TargetOptimizationResult at 0x1af07d56bb0>"
      ]
     },
     "execution_count": 77,
     "metadata": {},
     "output_type": "execute_result"
    }
   ],
   "source": [
    "result"
   ]
  },
  {
   "cell_type": "code",
   "execution_count": 78,
   "id": "70e4fa52",
   "metadata": {},
   "outputs": [
    {
     "data": {
      "text/html": [
       "\n",
       "        <table>\n",
       "            <tr>\n",
       "                <td><strong>Reaction identifier</strong></td><td>GAPD</td>\n",
       "            </tr><tr>\n",
       "                <td><strong>Name</strong></td><td>Glyceraldehyde-3-phosphate dehydrogenase</td>\n",
       "            </tr><tr>\n",
       "                <td><strong>Memory address</strong></td>\n",
       "                <td>0x1af0c52a2e0</td>\n",
       "            </tr><tr>\n",
       "                <td><strong>Stoichiometry</strong></td>\n",
       "                <td>\n",
       "                    <p style='text-align:right'>g3p_c + nad_c + pi_c <=> 13dpg_c + h_c + nadh_c</p>\n",
       "                    <p style='text-align:right'>Glyceraldehyde 3-phosphate + Nicotinamide adenine dinucleotide + Phosphate <=> 3-Phospho-D-glyceroyl phosphate + H+ + Nicotinamide adenine dinucleotide - reduced</p>\n",
       "                </td>\n",
       "            </tr><tr>\n",
       "                <td><strong>GPR</strong></td><td>b1779</td>\n",
       "            </tr><tr>\n",
       "                <td><strong>Lower bound</strong></td><td>-1000.0</td>\n",
       "            </tr><tr>\n",
       "                <td><strong>Upper bound</strong></td><td>1000.0</td>\n",
       "            </tr>\n",
       "        </table>\n",
       "        "
      ],
      "text/plain": [
       "<Reaction GAPD at 0x1af0c52a2e0>"
      ]
     },
     "execution_count": 78,
     "metadata": {},
     "output_type": "execute_result"
    }
   ],
   "source": [
    "model.reactions.GAPD"
   ]
  },
  {
   "cell_type": "code",
   "execution_count": 79,
   "id": "541e0dde",
   "metadata": {},
   "outputs": [
    {
     "data": {
      "text/html": [
       "\n",
       "        <table>\n",
       "            <tr>\n",
       "                <td><strong>Reaction identifier</strong></td><td>ACALD</td>\n",
       "            </tr><tr>\n",
       "                <td><strong>Name</strong></td><td>Acetaldehyde dehydrogenase (acetylating)</td>\n",
       "            </tr><tr>\n",
       "                <td><strong>Memory address</strong></td>\n",
       "                <td>0x1af07f3d970</td>\n",
       "            </tr><tr>\n",
       "                <td><strong>Stoichiometry</strong></td>\n",
       "                <td>\n",
       "                    <p style='text-align:right'>acald_c + coa_c + nad_c <=> accoa_c + h_c + nadh_c</p>\n",
       "                    <p style='text-align:right'>Acetaldehyde + Coenzyme A + Nicotinamide adenine dinucleotide <=> Acetyl-CoA + H+ + Nicotinamide adenine dinucleotide - reduced</p>\n",
       "                </td>\n",
       "            </tr><tr>\n",
       "                <td><strong>GPR</strong></td><td>b0351 or b1241</td>\n",
       "            </tr><tr>\n",
       "                <td><strong>Lower bound</strong></td><td>-1000.0</td>\n",
       "            </tr><tr>\n",
       "                <td><strong>Upper bound</strong></td><td>1000.0</td>\n",
       "            </tr>\n",
       "        </table>\n",
       "        "
      ],
      "text/plain": [
       "<Reaction ACALD at 0x1af07f3d970>"
      ]
     },
     "execution_count": 79,
     "metadata": {},
     "output_type": "execute_result"
    }
   ],
   "source": [
    "model.reactions.ACALD"
   ]
  },
  {
   "cell_type": "code",
   "execution_count": 80,
   "id": "f8e933b6",
   "metadata": {},
   "outputs": [
    {
     "data": {
      "text/html": [
       "\n",
       "        <table>\n",
       "            <tr>\n",
       "                <td><strong>Reaction identifier</strong></td><td>GLUDy</td>\n",
       "            </tr><tr>\n",
       "                <td><strong>Name</strong></td><td>Glutamate dehydrogenase (NADP)</td>\n",
       "            </tr><tr>\n",
       "                <td><strong>Memory address</strong></td>\n",
       "                <td>0x1af0c52a0a0</td>\n",
       "            </tr><tr>\n",
       "                <td><strong>Stoichiometry</strong></td>\n",
       "                <td>\n",
       "                    <p style='text-align:right'>glu__L_c + h2o_c + nadp_c <=> akg_c + h_c + nadph_c + nh4_c</p>\n",
       "                    <p style='text-align:right'>L-Glutamate + H2O H2O + Nicotinamide adenine dinucleotide phosphate <=> 2-Oxoglutarate + H+ + Nicotinamide adenine dinucleotide phosphate - reduced + Ammonium</p>\n",
       "                </td>\n",
       "            </tr><tr>\n",
       "                <td><strong>GPR</strong></td><td>b1761</td>\n",
       "            </tr><tr>\n",
       "                <td><strong>Lower bound</strong></td><td>-1000.0</td>\n",
       "            </tr><tr>\n",
       "                <td><strong>Upper bound</strong></td><td>1000.0</td>\n",
       "            </tr>\n",
       "        </table>\n",
       "        "
      ],
      "text/plain": [
       "<Reaction GLUDy at 0x1af0c52a0a0>"
      ]
     },
     "execution_count": 80,
     "metadata": {},
     "output_type": "execute_result"
    }
   ],
   "source": [
    "model.reactions.GLUDy"
   ]
  },
  {
   "cell_type": "markdown",
   "id": "162d6fd3",
   "metadata": {},
   "source": [
    "As we can see above, some of the reactions that would improve the ethylene yield thanks to a cofactor swap are reactions related to the obtention of precursors of some of our important metabolites."
   ]
  },
  {
   "cell_type": "code",
   "execution_count": null,
   "id": "482fbd86",
   "metadata": {},
   "outputs": [],
   "source": []
  }
 ],
 "metadata": {
  "kernelspec": {
   "display_name": "Python 3 (ipykernel)",
   "language": "python",
   "name": "python3"
  },
  "language_info": {
   "codemirror_mode": {
    "name": "ipython",
    "version": 3
   },
   "file_extension": ".py",
   "mimetype": "text/x-python",
   "name": "python",
   "nbconvert_exporter": "python",
   "pygments_lexer": "ipython3",
   "version": "3.9.7"
  }
 },
 "nbformat": 4,
 "nbformat_minor": 5
}
