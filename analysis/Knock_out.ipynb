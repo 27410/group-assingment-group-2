{
 "cells": [
  {
   "cell_type": "code",
   "execution_count": null,
   "metadata": {},
   "outputs": [],
   "source": [
    "pip install --upgrade pip"
   ]
  },
  {
   "cell_type": "code",
   "execution_count": null,
   "metadata": {},
   "outputs": [],
   "source": [
    "pip install jinja2==3.0.3 --force-reinstall"
   ]
  },
  {
   "cell_type": "code",
   "execution_count": null,
   "metadata": {},
   "outputs": [],
   "source": [
    "pip install flask --upgrade"
   ]
  },
  {
   "cell_type": "code",
   "execution_count": null,
   "metadata": {},
   "outputs": [],
   "source": [
    "pip install markupsafe==2.0.1"
   ]
  },
  {
   "cell_type": "markdown",
   "metadata": {},
   "source": [
    "# Generating gene knockout strategies\n",
    "Studying computationally the effects of gene knockouts in a cell factory provides a powerful and efficient means to design and optimize microbial strains for industrial production. It could complement experimental work by guiding the selection of genetic modifications and offering valuable insights into the complex interactions within cellular metabolism [1].\n",
    "\n",
    "Therefore, using some computational tools, like the ones presented below, we could define knock outs of certain genes or pathways that could improve the flux of our reaction."
   ]
  },
  {
   "cell_type": "markdown",
   "metadata": {},
   "source": [
    "In the python library **cameo** we have two ways of predicting gene knockout targets: using evolutionary algorithms (OptGene) or linear programming (OptKnock) [2]:"
   ]
  },
  {
   "cell_type": "code",
   "execution_count": null,
   "metadata": {},
   "outputs": [],
   "source": [
    "pip install --upgrade cameo\n"
   ]
  },
  {
   "cell_type": "markdown",
   "metadata": {},
   "source": [
    "### Optgene\n",
    "OptGene is an approach to search for gene or reaction knockouts that relies on evolutionary algorithms. At every iteration, we keep the best 50 individuals found overall so we can generate a library of targets.\n",
    "In this algorithm, reaction knockouts are implemented randomly, creating a mutant population [3]."
   ]
  },
  {
   "cell_type": "code",
   "execution_count": 2,
   "metadata": {},
   "outputs": [],
   "source": [
    "from collections.abc import Mapping"
   ]
  },
  {
   "cell_type": "code",
   "execution_count": 4,
   "metadata": {},
   "outputs": [
    {
     "ename": "ImportError",
     "evalue": "cannot import name 'find_gene_knockout_reactions' from 'cobra.manipulation.delete' (/home/codespace/.python/current/lib/python3.10/site-packages/cobra/manipulation/delete.py)",
     "output_type": "error",
     "traceback": [
      "\u001b[0;31m---------------------------------------------------------------------------\u001b[0m",
      "\u001b[0;31mImportError\u001b[0m                               Traceback (most recent call last)",
      "\u001b[1;32m/workspaces/group-assingment-group-2/analysis/Knock_out.ipynb Celda 12\u001b[0m line \u001b[0;36m3\n\u001b[1;32m      <a href='vscode-notebook-cell://codespaces%2Bvigilant-palm-tree-wr74g7wg47v42gv4q/workspaces/group-assingment-group-2/analysis/Knock_out.ipynb#X11sdnNjb2RlLXJlbW90ZQ%3D%3D?line=0'>1</a>\u001b[0m \u001b[39mfrom\u001b[39;00m \u001b[39mcobra\u001b[39;00m\u001b[39m.\u001b[39;00m\u001b[39mio\u001b[39;00m \u001b[39mimport\u001b[39;00m read_sbml_model\n\u001b[1;32m      <a href='vscode-notebook-cell://codespaces%2Bvigilant-palm-tree-wr74g7wg47v42gv4q/workspaces/group-assingment-group-2/analysis/Knock_out.ipynb#X11sdnNjb2RlLXJlbW90ZQ%3D%3D?line=1'>2</a>\u001b[0m \u001b[39mfrom\u001b[39;00m \u001b[39mcameo\u001b[39;00m \u001b[39mimport\u001b[39;00m phenotypic_phase_plane\n\u001b[0;32m----> <a href='vscode-notebook-cell://codespaces%2Bvigilant-palm-tree-wr74g7wg47v42gv4q/workspaces/group-assingment-group-2/analysis/Knock_out.ipynb#X11sdnNjb2RlLXJlbW90ZQ%3D%3D?line=2'>3</a>\u001b[0m \u001b[39mfrom\u001b[39;00m \u001b[39mcameo\u001b[39;00m\u001b[39m.\u001b[39;00m\u001b[39mstrain_design\u001b[39;00m \u001b[39mimport\u001b[39;00m OptGene\n",
      "File \u001b[0;32m~/.python/current/lib/python3.10/site-packages/cameo/strain_design/__init__.py:18\u001b[0m\n\u001b[1;32m     15\u001b[0m \u001b[39mfrom\u001b[39;00m \u001b[39m__future__\u001b[39;00m \u001b[39mimport\u001b[39;00m absolute_import\n\u001b[1;32m     17\u001b[0m \u001b[39mfrom\u001b[39;00m \u001b[39mcameo\u001b[39;00m\u001b[39m.\u001b[39;00m\u001b[39mstrain_design\u001b[39;00m\u001b[39m.\u001b[39;00m\u001b[39mdeterministic\u001b[39;00m \u001b[39mimport\u001b[39;00m OptKnock, FSEOF, DifferentialFVA\n\u001b[0;32m---> 18\u001b[0m \u001b[39mfrom\u001b[39;00m \u001b[39mcameo\u001b[39;00m\u001b[39m.\u001b[39;00m\u001b[39mstrain_design\u001b[39;00m\u001b[39m.\u001b[39;00m\u001b[39mheuristic\u001b[39;00m \u001b[39mimport\u001b[39;00m OptGene\n",
      "File \u001b[0;32m~/.python/current/lib/python3.10/site-packages/cameo/strain_design/heuristic/__init__.py:17\u001b[0m\n\u001b[1;32m      1\u001b[0m \u001b[39m# Copyright 2014 Novo Nordisk Foundation Center for Biosustainability, DTU.\u001b[39;00m\n\u001b[1;32m      2\u001b[0m \u001b[39m#\u001b[39;00m\n\u001b[1;32m      3\u001b[0m \u001b[39m# Licensed under the Apache License, Version 2.0 (the \"License\");\u001b[39;00m\n\u001b[0;32m   (...)\u001b[0m\n\u001b[1;32m     12\u001b[0m \u001b[39m# See the License for the specific language governing permissions and\u001b[39;00m\n\u001b[1;32m     13\u001b[0m \u001b[39m# limitations under the License.\u001b[39;00m\n\u001b[1;32m     15\u001b[0m \u001b[39mfrom\u001b[39;00m \u001b[39m__future__\u001b[39;00m \u001b[39mimport\u001b[39;00m absolute_import\n\u001b[0;32m---> 17\u001b[0m \u001b[39mfrom\u001b[39;00m \u001b[39mcameo\u001b[39;00m\u001b[39m.\u001b[39;00m\u001b[39mstrain_design\u001b[39;00m\u001b[39m.\u001b[39;00m\u001b[39mheuristic\u001b[39;00m\u001b[39m.\u001b[39;00m\u001b[39mevolutionary_based\u001b[39;00m \u001b[39mimport\u001b[39;00m OptGene\n",
      "File \u001b[0;32m~/.python/current/lib/python3.10/site-packages/cameo/strain_design/heuristic/evolutionary_based.py:38\u001b[0m\n\u001b[1;32m     34\u001b[0m \u001b[39mfrom\u001b[39;00m \u001b[39mcameo\u001b[39;00m\u001b[39m.\u001b[39;00m\u001b[39mstrain_design\u001b[39;00m\u001b[39m.\u001b[39;00m\u001b[39mheuristic\u001b[39;00m\u001b[39m.\u001b[39;00m\u001b[39mevolutionary\u001b[39;00m\u001b[39m.\u001b[39;00m\u001b[39mobjective_functions\u001b[39;00m \u001b[39mimport\u001b[39;00m biomass_product_coupled_min_yield, \\\n\u001b[1;32m     35\u001b[0m     biomass_product_coupled_yield\n\u001b[1;32m     36\u001b[0m \u001b[39mfrom\u001b[39;00m \u001b[39mcameo\u001b[39;00m\u001b[39m.\u001b[39;00m\u001b[39mstrain_design\u001b[39;00m\u001b[39m.\u001b[39;00m\u001b[39mheuristic\u001b[39;00m\u001b[39m.\u001b[39;00m\u001b[39mevolutionary\u001b[39;00m\u001b[39m.\u001b[39;00m\u001b[39moptimization\u001b[39;00m \u001b[39mimport\u001b[39;00m GeneKnockoutOptimization, \\\n\u001b[1;32m     37\u001b[0m     ReactionKnockoutOptimization, CofactorSwapOptimization, NADH_NADPH\n\u001b[0;32m---> 38\u001b[0m \u001b[39mfrom\u001b[39;00m \u001b[39mcameo\u001b[39;00m\u001b[39m.\u001b[39;00m\u001b[39mstrain_design\u001b[39;00m\u001b[39m.\u001b[39;00m\u001b[39mheuristic\u001b[39;00m\u001b[39m.\u001b[39;00m\u001b[39mevolutionary\u001b[39;00m\u001b[39m.\u001b[39;00m\u001b[39mprocessing\u001b[39;00m \u001b[39mimport\u001b[39;00m process_reaction_knockout_solution, \\\n\u001b[1;32m     39\u001b[0m     process_gene_knockout_solution, process_reaction_swap_solution\n\u001b[1;32m     40\u001b[0m \u001b[39mfrom\u001b[39;00m \u001b[39mcameo\u001b[39;00m\u001b[39m.\u001b[39;00m\u001b[39mutil\u001b[39;00m \u001b[39mimport\u001b[39;00m TimeMachine\n\u001b[1;32m     41\u001b[0m \u001b[39mfrom\u001b[39;00m \u001b[39mcameo\u001b[39;00m\u001b[39m.\u001b[39;00m\u001b[39mcore\u001b[39;00m\u001b[39m.\u001b[39;00m\u001b[39mutils\u001b[39;00m \u001b[39mimport\u001b[39;00m get_reaction_for\n",
      "File \u001b[0;32m~/.python/current/lib/python3.10/site-packages/cameo/strain_design/heuristic/evolutionary/processing.py:14\u001b[0m\n\u001b[1;32m      1\u001b[0m \u001b[39m# Copyright 2016 Novo Nordisk Foundation Center for Biosustainability, DTU.\u001b[39;00m\n\u001b[1;32m      2\u001b[0m \n\u001b[1;32m      3\u001b[0m \u001b[39m# Licensed under the Apache License, Version 2.0 (the \"License\");\u001b[39;00m\n\u001b[0;32m   (...)\u001b[0m\n\u001b[1;32m     12\u001b[0m \u001b[39m# See the License for the specific language governing permissions and\u001b[39;00m\n\u001b[1;32m     13\u001b[0m \u001b[39m# limitations under the License.\u001b[39;00m\n\u001b[0;32m---> 14\u001b[0m \u001b[39mfrom\u001b[39;00m \u001b[39mcobra\u001b[39;00m\u001b[39m.\u001b[39;00m\u001b[39mmanipulation\u001b[39;00m\u001b[39m.\u001b[39;00m\u001b[39mdelete\u001b[39;00m \u001b[39mimport\u001b[39;00m find_gene_knockout_reactions\n\u001b[1;32m     15\u001b[0m \u001b[39mfrom\u001b[39;00m \u001b[39mcameo\u001b[39;00m\u001b[39m.\u001b[39;00m\u001b[39mcore\u001b[39;00m\u001b[39m.\u001b[39;00m\u001b[39mmanipulation\u001b[39;00m \u001b[39mimport\u001b[39;00m swap_cofactors\n\u001b[1;32m     17\u001b[0m \u001b[39mfrom\u001b[39;00m \u001b[39mcameo\u001b[39;00m \u001b[39mimport\u001b[39;00m flux_variability_analysis\n",
      "\u001b[0;31mImportError\u001b[0m: cannot import name 'find_gene_knockout_reactions' from 'cobra.manipulation.delete' (/home/codespace/.python/current/lib/python3.10/site-packages/cobra/manipulation/delete.py)"
     ]
    }
   ],
   "source": [
    "from cameo.strain_design import OptGene"
   ]
  },
  {
   "cell_type": "code",
   "execution_count": 13,
   "metadata": {},
   "outputs": [],
   "source": [
    "from cobra.io import read_sbml_model\n",
    "model = read_sbml_model('/workspaces/group-assingment-group-2/models/iJO1366.xml')"
   ]
  },
  {
   "cell_type": "code",
   "execution_count": 12,
   "metadata": {},
   "outputs": [
    {
     "ename": "NameError",
     "evalue": "name 'OptGene' is not defined",
     "output_type": "error",
     "traceback": [
      "\u001b[0;31m---------------------------------------------------------------------------\u001b[0m",
      "\u001b[0;31mNameError\u001b[0m                                 Traceback (most recent call last)",
      "\u001b[1;32m/workspaces/group-assingment-group-2/analysis/Knock_out.ipynb Celda 13\u001b[0m line \u001b[0;36m1\n\u001b[0;32m----> <a href='vscode-notebook-cell://codespaces%2Bvigilant-palm-tree-wr74g7wg47v42gv4q/workspaces/group-assingment-group-2/analysis/Knock_out.ipynb#X24sdnNjb2RlLXJlbW90ZQ%3D%3D?line=0'>1</a>\u001b[0m optgene \u001b[39m=\u001b[39m OptGene(model)\n",
      "\u001b[0;31mNameError\u001b[0m: name 'OptGene' is not defined"
     ]
    }
   ],
   "source": [
    "optgene = OptGene(model)"
   ]
  },
  {
   "cell_type": "markdown",
   "metadata": {},
   "source": [
    "### Optknock"
   ]
  },
  {
   "cell_type": "markdown",
   "metadata": {},
   "source": [
    "OptKnock is one of the tools that was first developed to try to implement an optimal knockout framework where the idea is how the fluxes are optimally distributed when there is a gene knockout. The result is a list of knockouts, that when executed in silico, result in a strain where product synthesis occurs at maximum growth [4]"
   ]
  },
  {
   "cell_type": "code",
   "execution_count": 5,
   "metadata": {},
   "outputs": [],
   "source": [
    "from cameo.strain_design.deterministic import OptKnock"
   ]
  },
  {
   "cell_type": "code",
   "execution_count": 9,
   "metadata": {},
   "outputs": [],
   "source": [
    "from cobra.io import read_sbml_model\n",
    "model = read_sbml_model('/workspaces/group-assingment-group-2/models/iJO1366.xml')"
   ]
  },
  {
   "cell_type": "code",
   "execution_count": 10,
   "metadata": {},
   "outputs": [
    {
     "name": "stderr",
     "output_type": "stream",
     "text": [
      "/home/codespace/.python/current/lib/python3.10/site-packages/cameo/strain_design/deterministic/linear_programming.py:118: UserWarning: You are trying to run OptKnock with glpk_interface. This might not end well.\n",
      "  warnings.warn(\"You are trying to run OptKnock with %s. This might not end well.\" %\n"
     ]
    }
   ],
   "source": [
    "optknock = OptKnock(model, fraction_of_optimum=0.1)"
   ]
  },
  {
   "cell_type": "code",
   "execution_count": 11,
   "metadata": {},
   "outputs": [
    {
     "ename": "NameError",
     "evalue": "name 'optgene' is not defined",
     "output_type": "error",
     "traceback": [
      "\u001b[0;31m---------------------------------------------------------------------------\u001b[0m",
      "\u001b[0;31mNameError\u001b[0m                                 Traceback (most recent call last)",
      "\u001b[1;32m/workspaces/group-assingment-group-2/analysis/Knock_out.ipynb Celda 18\u001b[0m line \u001b[0;36m1\n\u001b[0;32m----> <a href='vscode-notebook-cell://codespaces%2Bvigilant-palm-tree-wr74g7wg47v42gv4q/workspaces/group-assingment-group-2/analysis/Knock_out.ipynb#X25sdnNjb2RlLXJlbW90ZQ%3D%3D?line=0'>1</a>\u001b[0m result \u001b[39m=\u001b[39m optgene\u001b[39m.\u001b[39mrun(target\u001b[39m=\u001b[39mmodel\u001b[39m.\u001b[39mreactions\u001b[39m.\u001b[39mEFE_m,\n\u001b[1;32m      <a href='vscode-notebook-cell://codespaces%2Bvigilant-palm-tree-wr74g7wg47v42gv4q/workspaces/group-assingment-group-2/analysis/Knock_out.ipynb#X25sdnNjb2RlLXJlbW90ZQ%3D%3D?line=1'>2</a>\u001b[0m                      biomass\u001b[39m=\u001b[39mmodel\u001b[39m.\u001b[39mreactions\u001b[39m.\u001b[39mDRAIN_Biomass,\n\u001b[1;32m      <a href='vscode-notebook-cell://codespaces%2Bvigilant-palm-tree-wr74g7wg47v42gv4q/workspaces/group-assingment-group-2/analysis/Knock_out.ipynb#X25sdnNjb2RlLXJlbW90ZQ%3D%3D?line=2'>3</a>\u001b[0m                      substrate\u001b[39m=\u001b[39mmodel\u001b[39m.\u001b[39mmetabolites\u001b[39m.\u001b[39meth_c,\n\u001b[1;32m      <a href='vscode-notebook-cell://codespaces%2Bvigilant-palm-tree-wr74g7wg47v42gv4q/workspaces/group-assingment-group-2/analysis/Knock_out.ipynb#X25sdnNjb2RlLXJlbW90ZQ%3D%3D?line=3'>4</a>\u001b[0m                      max_evaluations\u001b[39m=\u001b[39m\u001b[39m5000\u001b[39m,\n\u001b[1;32m      <a href='vscode-notebook-cell://codespaces%2Bvigilant-palm-tree-wr74g7wg47v42gv4q/workspaces/group-assingment-group-2/analysis/Knock_out.ipynb#X25sdnNjb2RlLXJlbW90ZQ%3D%3D?line=4'>5</a>\u001b[0m                      plot\u001b[39m=\u001b[39m\u001b[39mFalse\u001b[39;00m)\n",
      "\u001b[0;31mNameError\u001b[0m: name 'optgene' is not defined"
     ]
    }
   ],
   "source": [
    "result = optgene.run(target=model.reactions.EFE_m,\n",
    "                     biomass=model.reactions.DRAIN_Biomass,\n",
    "                     substrate=model.metabolites.eth_c,\n",
    "                     max_evaluations=5000,\n",
    "                     plot=False)"
   ]
  },
  {
   "cell_type": "markdown",
   "metadata": {},
   "source": [
    "### Bibliography\n",
    "[1] https://bmcbioinformatics.biomedcentral.com/articles/10.1186/1471-2105-6-308\n",
    "\n",
    "[2] https://cameo.bio/05-predict-gene-knockout-strategies.html\n",
    "\n",
    "[3] https://www.ncbi.nlm.nih.gov/pmc/articles/PMC1327682/\n",
    "\n",
    "[4] https://onlinelibrary.wiley.com/doi/10.1002/bit.10803"
   ]
  }
 ],
 "metadata": {
  "kernelspec": {
   "display_name": "Python 3",
   "language": "python",
   "name": "python3"
  },
  "language_info": {
   "codemirror_mode": {
    "name": "ipython",
    "version": 3
   },
   "file_extension": ".py",
   "mimetype": "text/x-python",
   "name": "python",
   "nbconvert_exporter": "python",
   "pygments_lexer": "ipython3",
   "version": "3.10.8"
  }
 },
 "nbformat": 4,
 "nbformat_minor": 2
}
