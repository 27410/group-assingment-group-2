{
 "cells": [
  {
   "cell_type": "code",
   "execution_count": 3,
   "metadata": {},
   "outputs": [
    {
     "name": "stdout",
     "output_type": "stream",
     "text": [
      "Collecting cobra\n",
      "  Downloading cobra-0.29.0-py2.py3-none-any.whl.metadata (9.3 kB)\n",
      "Collecting appdirs~=1.4 (from cobra)\n",
      "  Downloading appdirs-1.4.4-py2.py3-none-any.whl (9.6 kB)\n",
      "Collecting depinfo~=2.2 (from cobra)\n",
      "  Downloading depinfo-2.2.0-py3-none-any.whl (24 kB)\n",
      "Collecting diskcache~=5.0 (from cobra)\n",
      "  Downloading diskcache-5.6.3-py3-none-any.whl.metadata (20 kB)\n",
      "Collecting future (from cobra)\n",
      "  Downloading future-0.18.3.tar.gz (840 kB)\n",
      "\u001b[2K     \u001b[90m━━━━━━━━━━━━━━━━━━━━━━━━━━━━━━━━━━━━━━\u001b[0m \u001b[32m840.9/840.9 kB\u001b[0m \u001b[31m14.7 MB/s\u001b[0m eta \u001b[36m0:00:00\u001b[0m00:01\u001b[0m\n",
      "\u001b[?25h  Installing build dependencies ... \u001b[?25ldone\n",
      "\u001b[?25h  Getting requirements to build wheel ... \u001b[?25ldone\n",
      "\u001b[?25h  Preparing metadata (pyproject.toml) ... \u001b[?25ldone\n",
      "\u001b[?25hCollecting httpx~=0.24 (from cobra)\n",
      "  Downloading httpx-0.25.2-py3-none-any.whl.metadata (6.9 kB)\n",
      "Collecting importlib-resources (from cobra)\n",
      "  Downloading importlib_resources-6.1.1-py3-none-any.whl.metadata (4.1 kB)\n",
      "Requirement already satisfied: numpy>=1.13 in /home/codespace/.local/lib/python3.10/site-packages (from cobra) (1.26.1)\n",
      "Collecting optlang~=1.8 (from cobra)\n",
      "  Downloading optlang-1.8.1-py2.py3-none-any.whl.metadata (8.3 kB)\n",
      "Requirement already satisfied: pandas<3.0,>=1.0 in /home/codespace/.local/lib/python3.10/site-packages (from cobra) (2.1.2)\n",
      "Collecting pydantic>=1.6 (from cobra)\n",
      "  Downloading pydantic-2.5.2-py3-none-any.whl.metadata (65 kB)\n",
      "\u001b[2K     \u001b[90m━━━━━━━━━━━━━━━━━━━━━━━━━━━━━━━━━━━━━━━━\u001b[0m \u001b[32m65.2/65.2 kB\u001b[0m \u001b[31m1.4 MB/s\u001b[0m eta \u001b[36m0:00:00\u001b[0mta \u001b[36m0:00:01\u001b[0m\n",
      "\u001b[?25hCollecting python-libsbml~=5.19 (from cobra)\n",
      "  Downloading python_libsbml-5.20.2-cp310-cp310-manylinux_2_17_x86_64.manylinux2014_x86_64.whl.metadata (532 bytes)\n",
      "Collecting rich>=8.0 (from cobra)\n",
      "  Downloading rich-13.7.0-py3-none-any.whl.metadata (18 kB)\n",
      "Collecting ruamel.yaml~=0.16 (from cobra)\n",
      "  Downloading ruamel.yaml-0.18.5-py3-none-any.whl.metadata (23 kB)\n",
      "Collecting swiglpk (from cobra)\n",
      "  Downloading swiglpk-5.0.10-cp310-cp310-manylinux_2_17_x86_64.manylinux2014_x86_64.whl.metadata (5.5 kB)\n",
      "Requirement already satisfied: anyio in /home/codespace/.local/lib/python3.10/site-packages (from httpx~=0.24->cobra) (4.0.0)\n",
      "Requirement already satisfied: certifi in /home/codespace/.local/lib/python3.10/site-packages (from httpx~=0.24->cobra) (2023.7.22)\n",
      "Collecting httpcore==1.* (from httpx~=0.24->cobra)\n",
      "  Downloading httpcore-1.0.2-py3-none-any.whl.metadata (20 kB)\n",
      "Requirement already satisfied: idna in /home/codespace/.local/lib/python3.10/site-packages (from httpx~=0.24->cobra) (3.4)\n",
      "Requirement already satisfied: sniffio in /home/codespace/.local/lib/python3.10/site-packages (from httpx~=0.24->cobra) (1.3.0)\n",
      "Collecting h11<0.15,>=0.13 (from httpcore==1.*->httpx~=0.24->cobra)\n",
      "  Downloading h11-0.14.0-py3-none-any.whl (58 kB)\n",
      "\u001b[2K     \u001b[90m━━━━━━━━━━━━━━━━━━━━━━━━━━━━━━━━━━━━━━━━\u001b[0m \u001b[32m58.3/58.3 kB\u001b[0m \u001b[31m1.1 MB/s\u001b[0m eta \u001b[36m0:00:00\u001b[0mta \u001b[36m0:00:01\u001b[0m\n",
      "\u001b[?25hRequirement already satisfied: six>=1.9 in /home/codespace/.local/lib/python3.10/site-packages (from optlang~=1.8->cobra) (1.16.0)\n",
      "Requirement already satisfied: sympy>=1.12.0 in /home/codespace/.local/lib/python3.10/site-packages (from optlang~=1.8->cobra) (1.12)\n",
      "Requirement already satisfied: python-dateutil>=2.8.2 in /home/codespace/.local/lib/python3.10/site-packages (from pandas<3.0,>=1.0->cobra) (2.8.2)\n",
      "Requirement already satisfied: pytz>=2020.1 in /home/codespace/.local/lib/python3.10/site-packages (from pandas<3.0,>=1.0->cobra) (2023.3.post1)\n",
      "Requirement already satisfied: tzdata>=2022.1 in /home/codespace/.local/lib/python3.10/site-packages (from pandas<3.0,>=1.0->cobra) (2023.3)\n",
      "Collecting annotated-types>=0.4.0 (from pydantic>=1.6->cobra)\n",
      "  Downloading annotated_types-0.6.0-py3-none-any.whl.metadata (12 kB)\n",
      "Collecting pydantic-core==2.14.5 (from pydantic>=1.6->cobra)\n",
      "  Downloading pydantic_core-2.14.5-cp310-cp310-manylinux_2_17_x86_64.manylinux2014_x86_64.whl.metadata (6.5 kB)\n",
      "Requirement already satisfied: typing-extensions>=4.6.1 in /home/codespace/.local/lib/python3.10/site-packages (from pydantic>=1.6->cobra) (4.8.0)\n",
      "Collecting markdown-it-py>=2.2.0 (from rich>=8.0->cobra)\n",
      "  Downloading markdown_it_py-3.0.0-py3-none-any.whl.metadata (6.9 kB)\n",
      "Requirement already satisfied: pygments<3.0.0,>=2.13.0 in /home/codespace/.local/lib/python3.10/site-packages (from rich>=8.0->cobra) (2.16.1)\n",
      "Collecting ruamel.yaml.clib>=0.2.7 (from ruamel.yaml~=0.16->cobra)\n",
      "  Downloading ruamel.yaml.clib-0.2.8-cp310-cp310-manylinux_2_17_x86_64.manylinux2014_x86_64.manylinux_2_24_x86_64.whl.metadata (2.2 kB)\n",
      "Collecting mdurl~=0.1 (from markdown-it-py>=2.2.0->rich>=8.0->cobra)\n",
      "  Downloading mdurl-0.1.2-py3-none-any.whl (10.0 kB)\n",
      "Requirement already satisfied: mpmath>=0.19 in /home/codespace/.local/lib/python3.10/site-packages (from sympy>=1.12.0->optlang~=1.8->cobra) (1.3.0)\n",
      "Requirement already satisfied: exceptiongroup>=1.0.2 in /home/codespace/.local/lib/python3.10/site-packages (from anyio->httpx~=0.24->cobra) (1.1.3)\n",
      "Downloading cobra-0.29.0-py2.py3-none-any.whl (1.2 MB)\n",
      "\u001b[2K   \u001b[90m━━━━━━━━━━━━━━━━━━━━━━━━━━━━━━━━━━━━━━━━\u001b[0m \u001b[32m1.2/1.2 MB\u001b[0m \u001b[31m8.6 MB/s\u001b[0m eta \u001b[36m0:00:00\u001b[0m:00:01\u001b[0m:00:01\u001b[0m\n",
      "\u001b[?25hDownloading diskcache-5.6.3-py3-none-any.whl (45 kB)\n",
      "\u001b[2K   \u001b[90m━━━━━━━━━━━━━━━━━━━━━━━━━━━━━━━━━━━━━━━━\u001b[0m \u001b[32m45.5/45.5 kB\u001b[0m \u001b[31m896.6 kB/s\u001b[0m eta \u001b[36m0:00:00\u001b[0ma \u001b[36m0:00:01\u001b[0m\n",
      "\u001b[?25hDownloading httpx-0.25.2-py3-none-any.whl (74 kB)\n",
      "\u001b[2K   \u001b[90m━━━━━━━━━━━━━━━━━━━━━━━━━━━━━━━━━━━━━━━━\u001b[0m \u001b[32m75.0/75.0 kB\u001b[0m \u001b[31m1.3 MB/s\u001b[0m eta \u001b[36m0:00:00\u001b[0meta \u001b[36m0:00:01\u001b[0m\n",
      "\u001b[?25hDownloading httpcore-1.0.2-py3-none-any.whl (76 kB)\n",
      "\u001b[2K   \u001b[90m━━━━━━━━━━━━━━━━━━━━━━━━━━━━━━━━━━━━━━━━\u001b[0m \u001b[32m76.9/76.9 kB\u001b[0m \u001b[31m1.6 MB/s\u001b[0m eta \u001b[36m0:00:00\u001b[0meta \u001b[36m0:00:01\u001b[0m\n",
      "\u001b[?25hDownloading optlang-1.8.1-py2.py3-none-any.whl (142 kB)\n",
      "\u001b[2K   \u001b[90m━━━━━━━━━━━━━━━━━━━━━━━━━━━━━━━━━━━━━━━━\u001b[0m \u001b[32m142.0/142.0 kB\u001b[0m \u001b[31m2.7 MB/s\u001b[0m eta \u001b[36m0:00:00\u001b[0mta \u001b[36m0:00:01\u001b[0m\n",
      "\u001b[?25hDownloading pydantic-2.5.2-py3-none-any.whl (381 kB)\n",
      "\u001b[2K   \u001b[90m━━━━━━━━━━━━━━━━━━━━━━━━━━━━━━━━━━━━━━━━\u001b[0m \u001b[32m381.9/381.9 kB\u001b[0m \u001b[31m7.7 MB/s\u001b[0m eta \u001b[36m0:00:00\u001b[0m:00:01\u001b[0m\n",
      "\u001b[?25hDownloading pydantic_core-2.14.5-cp310-cp310-manylinux_2_17_x86_64.manylinux2014_x86_64.whl (2.1 MB)\n",
      "\u001b[2K   \u001b[90m━━━━━━━━━━━━━━━━━━━━━━━━━━━━━━━━━━━━━━━━\u001b[0m \u001b[32m2.1/2.1 MB\u001b[0m \u001b[31m27.0 MB/s\u001b[0m eta \u001b[36m0:00:00\u001b[0m:00:01\u001b[0m\n",
      "\u001b[?25hDownloading python_libsbml-5.20.2-cp310-cp310-manylinux_2_17_x86_64.manylinux2014_x86_64.whl (8.0 MB)\n",
      "\u001b[2K   \u001b[90m━━━━━━━━━━━━━━━━━━━━━━━━━━━━━━━━━━━━━━━━\u001b[0m \u001b[32m8.0/8.0 MB\u001b[0m \u001b[31m25.3 MB/s\u001b[0m eta \u001b[36m0:00:00\u001b[0m00:01\u001b[0m00:01\u001b[0mm\n",
      "\u001b[?25hDownloading rich-13.7.0-py3-none-any.whl (240 kB)\n",
      "\u001b[2K   \u001b[90m━━━━━━━━━━━━━━━━━━━━━━━━━━━━━━━━━━━━━━━━\u001b[0m \u001b[32m240.6/240.6 kB\u001b[0m \u001b[31m5.1 MB/s\u001b[0m eta \u001b[36m0:00:00\u001b[0m:00:01\u001b[0m\n",
      "\u001b[?25hDownloading ruamel.yaml-0.18.5-py3-none-any.whl (116 kB)\n",
      "\u001b[2K   \u001b[90m━━━━━━━━━━━━━━━━━━━━━━━━━━━━━━━━━━━━━━━━\u001b[0m \u001b[32m116.4/116.4 kB\u001b[0m \u001b[31m2.1 MB/s\u001b[0m eta \u001b[36m0:00:00\u001b[0mta \u001b[36m0:00:01\u001b[0m\n",
      "\u001b[?25hDownloading swiglpk-5.0.10-cp310-cp310-manylinux_2_17_x86_64.manylinux2014_x86_64.whl (2.3 MB)\n",
      "\u001b[2K   \u001b[90m━━━━━━━━━━━━━━━━━━━━━━━━━━━━━━━━━━━━━━━━\u001b[0m \u001b[32m2.3/2.3 MB\u001b[0m \u001b[31m13.4 MB/s\u001b[0m eta \u001b[36m0:00:00\u001b[0m00:01\u001b[0m:00:01\u001b[0m\n",
      "\u001b[?25hDownloading importlib_resources-6.1.1-py3-none-any.whl (33 kB)\n",
      "Downloading annotated_types-0.6.0-py3-none-any.whl (12 kB)\n",
      "Downloading markdown_it_py-3.0.0-py3-none-any.whl (87 kB)\n",
      "\u001b[2K   \u001b[90m━━━━━━━━━━━━━━━━━━━━━━━━━━━━━━━━━━━━━━━━\u001b[0m \u001b[32m87.5/87.5 kB\u001b[0m \u001b[31m1.7 MB/s\u001b[0m eta \u001b[36m0:00:00\u001b[0meta \u001b[36m0:00:01\u001b[0m\n",
      "\u001b[?25hDownloading ruamel.yaml.clib-0.2.8-cp310-cp310-manylinux_2_17_x86_64.manylinux2014_x86_64.manylinux_2_24_x86_64.whl (526 kB)\n",
      "\u001b[2K   \u001b[90m━━━━━━━━━━━━━━━━━━━━━━━━━━━━━━━━━━━━━━━━\u001b[0m \u001b[32m526.7/526.7 kB\u001b[0m \u001b[31m10.3 MB/s\u001b[0m eta \u001b[36m0:00:00\u001b[0m00:01\u001b[0m\n",
      "\u001b[?25hBuilding wheels for collected packages: future\n",
      "  Building wheel for future (pyproject.toml) ... \u001b[?25ldone\n",
      "\u001b[?25h  Created wheel for future: filename=future-0.18.3-py3-none-any.whl size=492024 sha256=61856fa404948b193775f9c236ae2a5bdb7fab99d2a1703899eef401aee2ce4e\n",
      "  Stored in directory: /home/codespace/.cache/pip/wheels/5e/a9/47/f118e66afd12240e4662752cc22cefae5d97275623aa8ef57d\n",
      "Successfully built future\n",
      "Installing collected packages: swiglpk, python-libsbml, appdirs, ruamel.yaml.clib, pydantic-core, mdurl, importlib-resources, h11, future, diskcache, depinfo, annotated-types, ruamel.yaml, pydantic, optlang, markdown-it-py, httpcore, rich, httpx, cobra\n",
      "Successfully installed annotated-types-0.6.0 appdirs-1.4.4 cobra-0.29.0 depinfo-2.2.0 diskcache-5.6.3 future-0.18.3 h11-0.14.0 httpcore-1.0.2 httpx-0.25.2 importlib-resources-6.1.1 markdown-it-py-3.0.0 mdurl-0.1.2 optlang-1.8.1 pydantic-2.5.2 pydantic-core-2.14.5 python-libsbml-5.20.2 rich-13.7.0 ruamel.yaml-0.18.5 ruamel.yaml.clib-0.2.8 swiglpk-5.0.10\n",
      "Note: you may need to restart the kernel to use updated packages.\n"
     ]
    }
   ],
   "source": [
    "pip install cobra"
   ]
  },
  {
   "cell_type": "code",
   "execution_count": 7,
   "metadata": {},
   "outputs": [
    {
     "name": "stdout",
     "output_type": "stream",
     "text": [
      "Collecting wheel\n",
      "  Using cached wheel-0.41.3-py3-none-any.whl.metadata (2.2 kB)\n",
      "Using cached wheel-0.41.3-py3-none-any.whl (65 kB)\n",
      "Installing collected packages: wheel\n",
      "Successfully installed wheel-0.41.3\n",
      "Note: you may need to restart the kernel to use updated packages.\n"
     ]
    }
   ],
   "source": [
    "pip install wheel"
   ]
  },
  {
   "cell_type": "code",
   "execution_count": 1,
   "metadata": {},
   "outputs": [
    {
     "name": "stdout",
     "output_type": "stream",
     "text": [
      "Collecting dfba\n",
      "  Using cached dfba-0.1.8.tar.gz (63 kB)\n",
      "  Installing build dependencies ... \u001b[?25ldone\n",
      "\u001b[?25h  Getting requirements to build wheel ... \u001b[?25ldone\n",
      "\u001b[?25h  Preparing metadata (pyproject.toml) ... \u001b[?25ldone\n",
      "\u001b[?25hRequirement already satisfied: cobra in /usr/local/python/3.10.8/lib/python3.10/site-packages (from dfba) (0.29.0)\n",
      "Requirement already satisfied: depinfo in /usr/local/python/3.10.8/lib/python3.10/site-packages (from dfba) (2.2.0)\n",
      "Requirement already satisfied: optlang in /usr/local/python/3.10.8/lib/python3.10/site-packages (from dfba) (1.8.1)\n",
      "Collecting symengine (from dfba)\n",
      "  Using cached symengine-0.11.0-cp310-cp310-manylinux_2_12_x86_64.manylinux2010_x86_64.whl.metadata (1.2 kB)\n",
      "Requirement already satisfied: sympy in /home/codespace/.local/lib/python3.10/site-packages (from dfba) (1.12)\n",
      "Requirement already satisfied: pandas in /home/codespace/.local/lib/python3.10/site-packages (from dfba) (2.1.2)\n",
      "Requirement already satisfied: appdirs~=1.4 in /usr/local/python/3.10.8/lib/python3.10/site-packages (from cobra->dfba) (1.4.4)\n",
      "Requirement already satisfied: diskcache~=5.0 in /usr/local/python/3.10.8/lib/python3.10/site-packages (from cobra->dfba) (5.6.3)\n",
      "Requirement already satisfied: future in /usr/local/python/3.10.8/lib/python3.10/site-packages (from cobra->dfba) (0.18.3)\n",
      "Requirement already satisfied: httpx~=0.24 in /usr/local/python/3.10.8/lib/python3.10/site-packages (from cobra->dfba) (0.25.2)\n",
      "Requirement already satisfied: importlib-resources in /usr/local/python/3.10.8/lib/python3.10/site-packages (from cobra->dfba) (6.1.1)\n",
      "Requirement already satisfied: numpy>=1.13 in /home/codespace/.local/lib/python3.10/site-packages (from cobra->dfba) (1.26.1)\n",
      "Requirement already satisfied: pydantic>=1.6 in /usr/local/python/3.10.8/lib/python3.10/site-packages (from cobra->dfba) (2.5.2)\n",
      "Requirement already satisfied: python-libsbml~=5.19 in /usr/local/python/3.10.8/lib/python3.10/site-packages (from cobra->dfba) (5.20.2)\n",
      "Requirement already satisfied: rich>=8.0 in /usr/local/python/3.10.8/lib/python3.10/site-packages (from cobra->dfba) (13.7.0)\n",
      "Requirement already satisfied: ruamel.yaml~=0.16 in /usr/local/python/3.10.8/lib/python3.10/site-packages (from cobra->dfba) (0.18.5)\n",
      "Requirement already satisfied: swiglpk in /usr/local/python/3.10.8/lib/python3.10/site-packages (from cobra->dfba) (5.0.10)\n",
      "Requirement already satisfied: six>=1.9 in /home/codespace/.local/lib/python3.10/site-packages (from optlang->dfba) (1.16.0)\n",
      "Requirement already satisfied: python-dateutil>=2.8.2 in /home/codespace/.local/lib/python3.10/site-packages (from pandas->dfba) (2.8.2)\n",
      "Requirement already satisfied: pytz>=2020.1 in /home/codespace/.local/lib/python3.10/site-packages (from pandas->dfba) (2023.3.post1)\n",
      "Requirement already satisfied: tzdata>=2022.1 in /home/codespace/.local/lib/python3.10/site-packages (from pandas->dfba) (2023.3)\n",
      "Requirement already satisfied: mpmath>=0.19 in /home/codespace/.local/lib/python3.10/site-packages (from sympy->dfba) (1.3.0)\n",
      "Requirement already satisfied: anyio in /home/codespace/.local/lib/python3.10/site-packages (from httpx~=0.24->cobra->dfba) (4.0.0)\n",
      "Requirement already satisfied: certifi in /home/codespace/.local/lib/python3.10/site-packages (from httpx~=0.24->cobra->dfba) (2023.7.22)\n",
      "Requirement already satisfied: httpcore==1.* in /usr/local/python/3.10.8/lib/python3.10/site-packages (from httpx~=0.24->cobra->dfba) (1.0.2)\n",
      "Requirement already satisfied: idna in /home/codespace/.local/lib/python3.10/site-packages (from httpx~=0.24->cobra->dfba) (3.4)\n",
      "Requirement already satisfied: sniffio in /home/codespace/.local/lib/python3.10/site-packages (from httpx~=0.24->cobra->dfba) (1.3.0)\n",
      "Requirement already satisfied: h11<0.15,>=0.13 in /usr/local/python/3.10.8/lib/python3.10/site-packages (from httpcore==1.*->httpx~=0.24->cobra->dfba) (0.14.0)\n",
      "Requirement already satisfied: annotated-types>=0.4.0 in /usr/local/python/3.10.8/lib/python3.10/site-packages (from pydantic>=1.6->cobra->dfba) (0.6.0)\n",
      "Requirement already satisfied: pydantic-core==2.14.5 in /usr/local/python/3.10.8/lib/python3.10/site-packages (from pydantic>=1.6->cobra->dfba) (2.14.5)\n",
      "Requirement already satisfied: typing-extensions>=4.6.1 in /home/codespace/.local/lib/python3.10/site-packages (from pydantic>=1.6->cobra->dfba) (4.8.0)\n",
      "Requirement already satisfied: markdown-it-py>=2.2.0 in /usr/local/python/3.10.8/lib/python3.10/site-packages (from rich>=8.0->cobra->dfba) (3.0.0)\n",
      "Requirement already satisfied: pygments<3.0.0,>=2.13.0 in /home/codespace/.local/lib/python3.10/site-packages (from rich>=8.0->cobra->dfba) (2.16.1)\n",
      "Requirement already satisfied: ruamel.yaml.clib>=0.2.7 in /usr/local/python/3.10.8/lib/python3.10/site-packages (from ruamel.yaml~=0.16->cobra->dfba) (0.2.8)\n",
      "Requirement already satisfied: mdurl~=0.1 in /usr/local/python/3.10.8/lib/python3.10/site-packages (from markdown-it-py>=2.2.0->rich>=8.0->cobra->dfba) (0.1.2)\n",
      "Requirement already satisfied: exceptiongroup>=1.0.2 in /home/codespace/.local/lib/python3.10/site-packages (from anyio->httpx~=0.24->cobra->dfba) (1.1.3)\n",
      "Using cached symengine-0.11.0-cp310-cp310-manylinux_2_12_x86_64.manylinux2010_x86_64.whl (39.4 MB)\n",
      "Building wheels for collected packages: dfba\n",
      "  Building wheel for dfba (pyproject.toml) ... \u001b[?25lerror\n",
      "  \u001b[1;31merror\u001b[0m: \u001b[1msubprocess-exited-with-error\u001b[0m\n",
      "  \n",
      "  \u001b[31m×\u001b[0m \u001b[32mBuilding wheel for dfba \u001b[0m\u001b[1;32m(\u001b[0m\u001b[32mpyproject.toml\u001b[0m\u001b[1;32m)\u001b[0m did not run successfully.\n",
      "  \u001b[31m│\u001b[0m exit code: \u001b[1;36m1\u001b[0m\n",
      "  \u001b[31m╰─>\u001b[0m \u001b[31m[59 lines of output]\u001b[0m\n",
      "  \u001b[31m   \u001b[0m running bdist_wheel\n",
      "  \u001b[31m   \u001b[0m running build\n",
      "  \u001b[31m   \u001b[0m running build_py\n",
      "  \u001b[31m   \u001b[0m creating build\n",
      "  \u001b[31m   \u001b[0m creating build/lib.linux-x86_64-cpython-310\n",
      "  \u001b[31m   \u001b[0m creating build/lib.linux-x86_64-cpython-310/dfba\n",
      "  \u001b[31m   \u001b[0m copying src/dfba/control.py -> build/lib.linux-x86_64-cpython-310/dfba\n",
      "  \u001b[31m   \u001b[0m copying src/dfba/_version.py -> build/lib.linux-x86_64-cpython-310/dfba\n",
      "  \u001b[31m   \u001b[0m copying src/dfba/types.py -> build/lib.linux-x86_64-cpython-310/dfba\n",
      "  \u001b[31m   \u001b[0m copying src/dfba/library.py -> build/lib.linux-x86_64-cpython-310/dfba\n",
      "  \u001b[31m   \u001b[0m copying src/dfba/helpers.py -> build/lib.linux-x86_64-cpython-310/dfba\n",
      "  \u001b[31m   \u001b[0m copying src/dfba/variable.py -> build/lib.linux-x86_64-cpython-310/dfba\n",
      "  \u001b[31m   \u001b[0m copying src/dfba/exchange.py -> build/lib.linux-x86_64-cpython-310/dfba\n",
      "  \u001b[31m   \u001b[0m copying src/dfba/__init__.py -> build/lib.linux-x86_64-cpython-310/dfba\n",
      "  \u001b[31m   \u001b[0m copying src/dfba/jit.py -> build/lib.linux-x86_64-cpython-310/dfba\n",
      "  \u001b[31m   \u001b[0m copying src/dfba/model.py -> build/lib.linux-x86_64-cpython-310/dfba\n",
      "  \u001b[31m   \u001b[0m creating build/lib.linux-x86_64-cpython-310/dfba/plot\n",
      "  \u001b[31m   \u001b[0m copying src/dfba/plot/matplotlib.py -> build/lib.linux-x86_64-cpython-310/dfba/plot\n",
      "  \u001b[31m   \u001b[0m copying src/dfba/plot/plotly.py -> build/lib.linux-x86_64-cpython-310/dfba/plot\n",
      "  \u001b[31m   \u001b[0m copying src/dfba/plot/__init__.py -> build/lib.linux-x86_64-cpython-310/dfba/plot\n",
      "  \u001b[31m   \u001b[0m UPDATING build/lib.linux-x86_64-cpython-310/dfba/_version.py\n",
      "  \u001b[31m   \u001b[0m set build/lib.linux-x86_64-cpython-310/dfba/_version.py to '0.1.8'\n",
      "  \u001b[31m   \u001b[0m running build_ext\n",
      "  \u001b[31m   \u001b[0m *******************************************************************************\n",
      "  \u001b[31m   \u001b[0m cmake /tmp/pip-install-13wjrz14/dfba_43572adc7b424a77b4dba385ac5a4599 -DCMAKE_LIBRARY_OUTPUT_DIRECTORY=/tmp/pip-install-13wjrz14/dfba_43572adc7b424a77b4dba385ac5a4599/build/lib.linux-x86_64-cpython-310/dfba -DCMAKE_BUILD_TYPE=Release\n",
      "  \u001b[31m   \u001b[0m -- The C compiler identification is GNU 9.4.0\n",
      "  \u001b[31m   \u001b[0m -- The CXX compiler identification is GNU 9.4.0\n",
      "  \u001b[31m   \u001b[0m -- Check for working C compiler: /usr/bin/cc\n",
      "  \u001b[31m   \u001b[0m -- Check for working C compiler: /usr/bin/cc -- works\n",
      "  \u001b[31m   \u001b[0m -- Detecting C compiler ABI info\n",
      "  \u001b[31m   \u001b[0m -- Detecting C compiler ABI info - done\n",
      "  \u001b[31m   \u001b[0m -- Detecting C compile features\n",
      "  \u001b[31m   \u001b[0m -- Detecting C compile features - done\n",
      "  \u001b[31m   \u001b[0m -- Check for working CXX compiler: /usr/bin/c++\n",
      "  \u001b[31m   \u001b[0m -- Check for working CXX compiler: /usr/bin/c++ -- works\n",
      "  \u001b[31m   \u001b[0m -- Detecting CXX compiler ABI info\n",
      "  \u001b[31m   \u001b[0m -- Detecting CXX compiler ABI info - done\n",
      "  \u001b[31m   \u001b[0m -- Detecting CXX compile features\n",
      "  \u001b[31m   \u001b[0m -- Detecting CXX compile features - done\n",
      "  \u001b[31m   \u001b[0m CMake Error at CMakeLists.txt:11 (find_package):\n",
      "  \u001b[31m   \u001b[0m   By not providing \"Findpybind11.cmake\" in CMAKE_MODULE_PATH this project has\n",
      "  \u001b[31m   \u001b[0m   asked CMake to find a package configuration file provided by \"pybind11\",\n",
      "  \u001b[31m   \u001b[0m   but CMake did not find one.\n",
      "  \u001b[31m   \u001b[0m \n",
      "  \u001b[31m   \u001b[0m   Could not find a package configuration file provided by \"pybind11\" with any\n",
      "  \u001b[31m   \u001b[0m   of the following names:\n",
      "  \u001b[31m   \u001b[0m \n",
      "  \u001b[31m   \u001b[0m     pybind11Config.cmake\n",
      "  \u001b[31m   \u001b[0m     pybind11-config.cmake\n",
      "  \u001b[31m   \u001b[0m \n",
      "  \u001b[31m   \u001b[0m   Add the installation prefix of \"pybind11\" to CMAKE_PREFIX_PATH or set\n",
      "  \u001b[31m   \u001b[0m   \"pybind11_DIR\" to a directory containing one of the above files.  If\n",
      "  \u001b[31m   \u001b[0m   \"pybind11\" provides a separate development package or SDK, be sure it has\n",
      "  \u001b[31m   \u001b[0m   been installed.\n",
      "  \u001b[31m   \u001b[0m \n",
      "  \u001b[31m   \u001b[0m \n",
      "  \u001b[31m   \u001b[0m -- Configuring incomplete, errors occurred!\n",
      "  \u001b[31m   \u001b[0m See also \"/tmp/pip-install-13wjrz14/dfba_43572adc7b424a77b4dba385ac5a4599/build/temp.linux-x86_64-cpython-310/CMakeFiles/CMakeOutput.log\".\n",
      "  \u001b[31m   \u001b[0m error: command '/usr/bin/cmake' failed with exit code 1\n",
      "  \u001b[31m   \u001b[0m \u001b[31m[end of output]\u001b[0m\n",
      "  \n",
      "  \u001b[1;35mnote\u001b[0m: This error originates from a subprocess, and is likely not a problem with pip.\n",
      "\u001b[?25h\u001b[31m  ERROR: Failed building wheel for dfba\u001b[0m\u001b[31m\n",
      "\u001b[0mFailed to build dfba\n",
      "\u001b[31mERROR: Could not build wheels for dfba, which is required to install pyproject.toml-based projects\u001b[0m\u001b[31m\n",
      "\u001b[0mNote: you may need to restart the kernel to use updated packages.\n"
     ]
    }
   ],
   "source": [
    "pip install dfba"
   ]
  },
  {
   "cell_type": "code",
   "execution_count": 6,
   "metadata": {},
   "outputs": [
    {
     "ename": "ModuleNotFoundError",
     "evalue": "No module named 'dfba'",
     "output_type": "error",
     "traceback": [
      "\u001b[0;31m---------------------------------------------------------------------------\u001b[0m",
      "\u001b[0;31mModuleNotFoundError\u001b[0m                       Traceback (most recent call last)",
      "\u001b[1;32m/workspaces/group-assingment-group-2/analysis/dFBA_analysis/dFBA.ipynb Cell 3\u001b[0m line \u001b[0;36m3\n\u001b[1;32m      <a href='vscode-notebook-cell://codespaces%2Bfictional-doodle-q7qxp7q4x7652xvpq/workspaces/group-assingment-group-2/analysis/dFBA_analysis/dFBA.ipynb#W0sdnNjb2RlLXJlbW90ZQ%3D%3D?line=0'>1</a>\u001b[0m \u001b[39mfrom\u001b[39;00m \u001b[39mos\u001b[39;00m\u001b[39m.\u001b[39;00m\u001b[39mpath\u001b[39;00m \u001b[39mimport\u001b[39;00m dirname, join, pardir\n\u001b[1;32m      <a href='vscode-notebook-cell://codespaces%2Bfictional-doodle-q7qxp7q4x7652xvpq/workspaces/group-assingment-group-2/analysis/dFBA_analysis/dFBA.ipynb#W0sdnNjb2RlLXJlbW90ZQ%3D%3D?line=1'>2</a>\u001b[0m \u001b[39mfrom\u001b[39;00m \u001b[39mcobra\u001b[39;00m\u001b[39m.\u001b[39;00m\u001b[39mio\u001b[39;00m \u001b[39mimport\u001b[39;00m read_sbml_model\n\u001b[0;32m----> <a href='vscode-notebook-cell://codespaces%2Bfictional-doodle-q7qxp7q4x7652xvpq/workspaces/group-assingment-group-2/analysis/dFBA_analysis/dFBA.ipynb#W0sdnNjb2RlLXJlbW90ZQ%3D%3D?line=2'>3</a>\u001b[0m \u001b[39mfrom\u001b[39;00m \u001b[39mdfba\u001b[39;00m \u001b[39mimport\u001b[39;00m DfbaModel, ExchangeFlux, KineticVariable\n",
      "\u001b[0;31mModuleNotFoundError\u001b[0m: No module named 'dfba'"
     ]
    }
   ],
   "source": [
    "from os.path import dirname, join, pardir\n",
    "from cobra.io import read_sbml_model\n",
    "from dfba import DfbaModel, ExchangeFlux, KineticVariable"
   ]
  },
  {
   "cell_type": "code",
   "execution_count": null,
   "metadata": {},
   "outputs": [],
   "source": []
  },
  {
   "cell_type": "code",
   "execution_count": 19,
   "metadata": {},
   "outputs": [
    {
     "ename": "OSError",
     "evalue": "The file with '..\\sbml-models\\iJR904.xml.gz' does not exist, or is not an SBML string. Provide the path to an existing SBML file or a valid SBML string representation:\n",
     "output_type": "error",
     "traceback": [
      "\u001b[1;31m---------------------------------------------------------------------------\u001b[0m",
      "\u001b[1;31mOSError\u001b[0m                                   Traceback (most recent call last)",
      "\u001b[1;32mUntitled-1.ipynb Cell 5\u001b[0m line \u001b[0;36m2\n\u001b[0;32m      <a href='vscode-notebook-cell:Untitled-1.ipynb?jupyter-notebook#W2sdW50aXRsZWQ%3D?line=0'>1</a>\u001b[0m path_to_model \u001b[39m=\u001b[39m join(pardir, \u001b[39m\"\u001b[39m\u001b[39msbml-models\u001b[39m\u001b[39m\"\u001b[39m, \u001b[39m\"\u001b[39m\u001b[39miJR904.xml.gz\u001b[39m\u001b[39m\"\u001b[39m)\n\u001b[1;32m----> <a href='vscode-notebook-cell:Untitled-1.ipynb?jupyter-notebook#W2sdW50aXRsZWQ%3D?line=1'>2</a>\u001b[0m fba_model \u001b[39m=\u001b[39m read_sbml_model(path_to_model)\n\u001b[0;32m      <a href='vscode-notebook-cell:Untitled-1.ipynb?jupyter-notebook#W2sdW50aXRsZWQ%3D?line=2'>3</a>\u001b[0m fba_model\u001b[39m.\u001b[39msolver \u001b[39m=\u001b[39m \u001b[39m\"\u001b[39m\u001b[39mglpk\u001b[39m\u001b[39m\"\u001b[39m\n\u001b[0;32m      <a href='vscode-notebook-cell:Untitled-1.ipynb?jupyter-notebook#W2sdW50aXRsZWQ%3D?line=3'>4</a>\u001b[0m dfba_model \u001b[39m=\u001b[39m DfbaModel(fba_model)\n",
      "File \u001b[1;32mc:\\Users\\andre\\anaconda3\\Lib\\site-packages\\cobra\\io\\sbml.py:460\u001b[0m, in \u001b[0;36mread_sbml_model\u001b[1;34m(filename, number, f_replace, **kwargs)\u001b[0m\n\u001b[0;32m    458\u001b[0m     \u001b[39mreturn\u001b[39;00m _sbml_to_model(doc, number\u001b[39m=\u001b[39mnumber, f_replace\u001b[39m=\u001b[39mf_replace, \u001b[39m*\u001b[39m\u001b[39m*\u001b[39mkwargs)\n\u001b[0;32m    459\u001b[0m \u001b[39mexcept\u001b[39;00m \u001b[39mIOError\u001b[39;00m \u001b[39mas\u001b[39;00m e:\n\u001b[1;32m--> 460\u001b[0m     \u001b[39mraise\u001b[39;00m e\n\u001b[0;32m    462\u001b[0m \u001b[39mexcept\u001b[39;00m \u001b[39mException\u001b[39;00m \u001b[39mas\u001b[39;00m original_error:\n\u001b[0;32m    463\u001b[0m     cobra_error \u001b[39m=\u001b[39m CobraSBMLError(\n\u001b[0;32m    464\u001b[0m         \u001b[39m\"\u001b[39m\u001b[39mSomething went wrong reading the SBML model. Most likely the SBML\u001b[39m\u001b[39m\"\u001b[39m\n\u001b[0;32m    465\u001b[0m         \u001b[39m\"\u001b[39m\u001b[39m model is not valid. Please check that your model is valid using \u001b[39m\u001b[39m\"\u001b[39m\n\u001b[1;32m   (...)\u001b[0m\n\u001b[0;32m    470\u001b[0m         \u001b[39m\"\u001b[39m\u001b[39mat https://github.com/opencobra/cobrapy/issues .\u001b[39m\u001b[39m\"\u001b[39m\n\u001b[0;32m    471\u001b[0m     )\n",
      "File \u001b[1;32mc:\\Users\\andre\\anaconda3\\Lib\\site-packages\\cobra\\io\\sbml.py:457\u001b[0m, in \u001b[0;36mread_sbml_model\u001b[1;34m(filename, number, f_replace, **kwargs)\u001b[0m\n\u001b[0;32m    402\u001b[0m \u001b[39m\u001b[39m\u001b[39m\"\"\"Read SBML model from given filename.\u001b[39;00m\n\u001b[0;32m    403\u001b[0m \n\u001b[0;32m    404\u001b[0m \u001b[39mIf the given filename ends with the suffix ''.gz'' (for example,\u001b[39;00m\n\u001b[1;32m   (...)\u001b[0m\n\u001b[0;32m    454\u001b[0m \u001b[39mFile handles to compressed files are not supported yet.\u001b[39;00m\n\u001b[0;32m    455\u001b[0m \u001b[39m\"\"\"\u001b[39;00m\n\u001b[0;32m    456\u001b[0m \u001b[39mtry\u001b[39;00m:\n\u001b[1;32m--> 457\u001b[0m     doc \u001b[39m=\u001b[39m _get_doc_from_filename(filename)\n\u001b[0;32m    458\u001b[0m     \u001b[39mreturn\u001b[39;00m _sbml_to_model(doc, number\u001b[39m=\u001b[39mnumber, f_replace\u001b[39m=\u001b[39mf_replace, \u001b[39m*\u001b[39m\u001b[39m*\u001b[39mkwargs)\n\u001b[0;32m    459\u001b[0m \u001b[39mexcept\u001b[39;00m \u001b[39mIOError\u001b[39;00m \u001b[39mas\u001b[39;00m e:\n",
      "File \u001b[1;32mc:\\Users\\andre\\anaconda3\\Lib\\site-packages\\cobra\\io\\sbml.py:504\u001b[0m, in \u001b[0;36m_get_doc_from_filename\u001b[1;34m(filename)\u001b[0m\n\u001b[0;32m    501\u001b[0m         doc: libsbml\u001b[39m.\u001b[39mSBMLDocument \u001b[39m=\u001b[39m libsbml\u001b[39m.\u001b[39mreadSBMLFromFile(filename)\n\u001b[0;32m    502\u001b[0m     \u001b[39melse\u001b[39;00m:\n\u001b[0;32m    503\u001b[0m         \u001b[39m# string representation\u001b[39;00m\n\u001b[1;32m--> 504\u001b[0m         \u001b[39mraise\u001b[39;00m \u001b[39mIOError\u001b[39;00m(\n\u001b[0;32m    505\u001b[0m             \u001b[39mf\u001b[39m\u001b[39m\"\u001b[39m\u001b[39mThe file with \u001b[39m\u001b[39m'\u001b[39m\u001b[39m{\u001b[39;00mfilename\u001b[39m}\u001b[39;00m\u001b[39m'\u001b[39m\u001b[39m does not exist, \u001b[39m\u001b[39m\"\u001b[39m\n\u001b[0;32m    506\u001b[0m             \u001b[39mf\u001b[39m\u001b[39m\"\u001b[39m\u001b[39mor is not an SBML string. Provide the path to \u001b[39m\u001b[39m\"\u001b[39m\n\u001b[0;32m    507\u001b[0m             \u001b[39mf\u001b[39m\u001b[39m\"\u001b[39m\u001b[39man existing SBML file or a valid SBML string representation:\u001b[39m\u001b[39m\\n\u001b[39;00m\u001b[39m\"\u001b[39m\n\u001b[0;32m    508\u001b[0m         )\n\u001b[0;32m    509\u001b[0m \u001b[39melif\u001b[39;00m \u001b[39mhasattr\u001b[39m(filename, \u001b[39m\"\u001b[39m\u001b[39mread\u001b[39m\u001b[39m\"\u001b[39m):\n\u001b[0;32m    510\u001b[0m     \u001b[39m# file handle\u001b[39;00m\n\u001b[0;32m    511\u001b[0m     doc: libsbml\u001b[39m.\u001b[39mSBMLDocument \u001b[39m=\u001b[39m libsbml\u001b[39m.\u001b[39mreadSBMLFromString(filename\u001b[39m.\u001b[39mread())\n",
      "\u001b[1;31mOSError\u001b[0m: The file with '..\\sbml-models\\iJR904.xml.gz' does not exist, or is not an SBML string. Provide the path to an existing SBML file or a valid SBML string representation:\n"
     ]
    }
   ],
   "source": [
    "path_to_model = join(pardir, \"sbml-models\", \"iJR904.xml.gz\")\n",
    "fba_model = read_sbml_model(path_to_model)\n",
    "fba_model.solver = \"glpk\"\n",
    "dfba_model = DfbaModel(fba_model)"
   ]
  },
  {
   "cell_type": "code",
   "execution_count": null,
   "metadata": {},
   "outputs": [],
   "source": [
    "X = KineticVariable(\"Biomass\")\n",
    "Gluc = KineticVariable(\"Glucose\")\n",
    "Xyl = KineticVariable(\"Xylose\")\n",
    "Oxy = KineticVariable(\"Oxygen\", initial_condition=0.24)\n",
    "Eth = KineticVariable(\"Ethanol\")\n",
    "\n",
    "dfba_model.add_kinetic_variables([X, Gluc, Xyl, Oxy, Eth])"
   ]
  },
  {
   "cell_type": "code",
   "execution_count": null,
   "metadata": {},
   "outputs": [],
   "source": [
    "mu = ExchangeFlux(\"BiomassEcoli\")\n",
    "v_G = ExchangeFlux(\"EX_glc(e)\")\n",
    "v_Z = ExchangeFlux(\"EX_xyl_D(e)\")\n",
    "v_O = ExchangeFlux(\"EX_o2(e)\")\n",
    "v_E = ExchangeFlux(\"EX_etoh(e)\")\n",
    "\n",
    "dfba_model.add_exchange_fluxes([mu, v_G, v_Z, v_O, v_E])"
   ]
  },
  {
   "cell_type": "code",
   "execution_count": null,
   "metadata": {},
   "outputs": [],
   "source": [
    "dfba_model.add_rhs_expression(\"Biomass\", mu * X)\n",
    "dfba_model.add_rhs_expression(\"Glucose\", v_G * 180.1559 * X / 1000.0)\n",
    "dfba_model.add_rhs_expression(\"Xylose\", v_Z * 150.13 * X / 1000.0)\n",
    "dfba_model.add_rhs_expression(\"Oxygen\", v_O * 16.0 * X / 1000.0)\n",
    "dfba_model.add_rhs_expression(\"Ethanol\", v_E * 46.06844 * X / 1000.0)"
   ]
  },
  {
   "cell_type": "code",
   "execution_count": null,
   "metadata": {},
   "outputs": [],
   "source": [
    "dfba_model.add_exchange_flux_lb(\n",
    "    \"EX_glc(e)\", 10.5 * (Gluc / (0.0027 + Gluc)) * (1 / (1 + Eth / 20.0)), Gluc\n",
    ")\n",
    "dfba_model.add_exchange_flux_lb(\"EX_o2(e)\", 15.0 * (Oxy / (0.024 + Oxy)), Oxy)\n",
    "dfba_model.add_exchange_flux_lb(\n",
    "    \"EX_xyl_D(e)\",\n",
    "    6.0\n",
    "    * (Xyl / (0.0165 + Xyl))\n",
    "    * (1 / (1 + Eth / 20.0))\n",
    "    * (1 / (1 + Gluc / 0.005)),\n",
    "    Xyl,\n",
    ")"
   ]
  },
  {
   "cell_type": "code",
   "execution_count": null,
   "metadata": {},
   "outputs": [],
   "source": [
    "dfba_model.add_initial_conditions(\n",
    "    {\n",
    "        \"Biomass\": 0.03,\n",
    "        \"Glucose\": 15.5,\n",
    "        \"Xylose\": 8.0,\n",
    "        \"Oxygen\": 0.0,\n",
    "        \"Ethanol\": 0.0,\n",
    "    }\n",
    ")\n",
    "concentrations, trajectories = dfba_model.simulate(0.0, 25.0, 0.1, [\"EX_glc(e)\", \"EX_xyl_D(e)\", \"EX_etoh(e)\"])"
   ]
  },
  {
   "cell_type": "code",
   "execution_count": null,
   "metadata": {},
   "outputs": [],
   "source": [
    "from dfba.plot.plotly import *\n",
    "\n",
    "import plotly.io as pio\n",
    "\n",
    "# in plotly version 4, default version is different than in 3\n",
    "pio.templates.default = \"plotly_white\""
   ]
  },
  {
   "cell_type": "code",
   "execution_count": null,
   "metadata": {},
   "outputs": [],
   "source": [
    "fig = plot_concentrations(concentrations)\n",
    "fig.show()"
   ]
  },
  {
   "cell_type": "code",
   "execution_count": null,
   "metadata": {},
   "outputs": [],
   "source": [
    "fig = plot_trajectories(trajectories)\n",
    "fig.show()"
   ]
  },
  {
   "cell_type": "code",
   "execution_count": null,
   "metadata": {},
   "outputs": [],
   "source": [
    "from dfba.plot.matplotlib import *"
   ]
  },
  {
   "cell_type": "code",
   "execution_count": null,
   "metadata": {},
   "outputs": [],
   "source": [
    "%matplotlib inline\n",
    "import matplotlib.pyplot as plt\n",
    "plt.rcParams[\"figure.figsize\"] = 16, 9"
   ]
  },
  {
   "cell_type": "code",
   "execution_count": null,
   "metadata": {},
   "outputs": [],
   "source": [
    "plot_concentrations(concentrations)\n",
    "plt.show()"
   ]
  },
  {
   "cell_type": "code",
   "execution_count": null,
   "metadata": {},
   "outputs": [],
   "source": [
    "plot_trajectories(trajectories)\n",
    "plt.show()"
   ]
  },
  {
   "cell_type": "code",
   "execution_count": null,
   "metadata": {},
   "outputs": [],
   "source": [
    "concentrations.to_csv(\"concentrations.csv\")\n",
    "trajectories.to_csv(\"trajectories.csv\")"
   ]
  }
 ],
 "metadata": {
  "kernelspec": {
   "display_name": "Python 3",
   "language": "python",
   "name": "python3"
  },
  "language_info": {
   "codemirror_mode": {
    "name": "ipython",
    "version": 3
   },
   "file_extension": ".py",
   "mimetype": "text/x-python",
   "name": "python",
   "nbconvert_exporter": "python",
   "pygments_lexer": "ipython3",
   "version": "3.10.8"
  }
 },
 "nbformat": 4,
 "nbformat_minor": 2
}
