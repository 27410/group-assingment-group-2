{
 "cells": [
  {
   "cell_type": "code",
   "execution_count": 6,
   "metadata": {},
   "outputs": [
    {
     "ename": "ModuleNotFoundError",
     "evalue": "No module named 'dfba'",
     "output_type": "error",
     "traceback": [
      "\u001b[0;31m---------------------------------------------------------------------------\u001b[0m",
      "\u001b[0;31mModuleNotFoundError\u001b[0m                       Traceback (most recent call last)",
      "\u001b[1;32m/workspaces/group-assingment-group-2/analysis/dFBA_analysis/dFBA.ipynb Cell 3\u001b[0m line \u001b[0;36m3\n\u001b[1;32m      <a href='vscode-notebook-cell://codespaces%2Bfictional-doodle-q7qxp7q4x7652xvpq/workspaces/group-assingment-group-2/analysis/dFBA_analysis/dFBA.ipynb#W0sdnNjb2RlLXJlbW90ZQ%3D%3D?line=0'>1</a>\u001b[0m \u001b[39mfrom\u001b[39;00m \u001b[39mos\u001b[39;00m\u001b[39m.\u001b[39;00m\u001b[39mpath\u001b[39;00m \u001b[39mimport\u001b[39;00m dirname, join, pardir\n\u001b[1;32m      <a href='vscode-notebook-cell://codespaces%2Bfictional-doodle-q7qxp7q4x7652xvpq/workspaces/group-assingment-group-2/analysis/dFBA_analysis/dFBA.ipynb#W0sdnNjb2RlLXJlbW90ZQ%3D%3D?line=1'>2</a>\u001b[0m \u001b[39mfrom\u001b[39;00m \u001b[39mcobra\u001b[39;00m\u001b[39m.\u001b[39;00m\u001b[39mio\u001b[39;00m \u001b[39mimport\u001b[39;00m read_sbml_model\n\u001b[0;32m----> <a href='vscode-notebook-cell://codespaces%2Bfictional-doodle-q7qxp7q4x7652xvpq/workspaces/group-assingment-group-2/analysis/dFBA_analysis/dFBA.ipynb#W0sdnNjb2RlLXJlbW90ZQ%3D%3D?line=2'>3</a>\u001b[0m \u001b[39mfrom\u001b[39;00m \u001b[39mdfba\u001b[39;00m \u001b[39mimport\u001b[39;00m DfbaModel, ExchangeFlux, KineticVariable\n",
      "\u001b[0;31mModuleNotFoundError\u001b[0m: No module named 'dfba'"
     ]
    }
   ],
   "source": [
    "from os.path import dirname, join, pardir\n",
    "from cobra.io import read_sbml_model\n",
    "from dfba import DfbaModel, ExchangeFlux, KineticVariable"
   ]
  },
  {
   "cell_type": "code",
   "execution_count": null,
   "metadata": {},
   "outputs": [],
   "source": []
  },
  {
   "cell_type": "code",
   "execution_count": 19,
   "metadata": {},
   "outputs": [
    {
     "ename": "OSError",
     "evalue": "The file with '..\\sbml-models\\iJR904.xml.gz' does not exist, or is not an SBML string. Provide the path to an existing SBML file or a valid SBML string representation:\n",
     "output_type": "error",
     "traceback": [
      "\u001b[1;31m---------------------------------------------------------------------------\u001b[0m",
      "\u001b[1;31mOSError\u001b[0m                                   Traceback (most recent call last)",
      "\u001b[1;32mUntitled-1.ipynb Cell 5\u001b[0m line \u001b[0;36m2\n\u001b[0;32m      <a href='vscode-notebook-cell:Untitled-1.ipynb?jupyter-notebook#W2sdW50aXRsZWQ%3D?line=0'>1</a>\u001b[0m path_to_model \u001b[39m=\u001b[39m join(pardir, \u001b[39m\"\u001b[39m\u001b[39msbml-models\u001b[39m\u001b[39m\"\u001b[39m, \u001b[39m\"\u001b[39m\u001b[39miJR904.xml.gz\u001b[39m\u001b[39m\"\u001b[39m)\n\u001b[1;32m----> <a href='vscode-notebook-cell:Untitled-1.ipynb?jupyter-notebook#W2sdW50aXRsZWQ%3D?line=1'>2</a>\u001b[0m fba_model \u001b[39m=\u001b[39m read_sbml_model(path_to_model)\n\u001b[0;32m      <a href='vscode-notebook-cell:Untitled-1.ipynb?jupyter-notebook#W2sdW50aXRsZWQ%3D?line=2'>3</a>\u001b[0m fba_model\u001b[39m.\u001b[39msolver \u001b[39m=\u001b[39m \u001b[39m\"\u001b[39m\u001b[39mglpk\u001b[39m\u001b[39m\"\u001b[39m\n\u001b[0;32m      <a href='vscode-notebook-cell:Untitled-1.ipynb?jupyter-notebook#W2sdW50aXRsZWQ%3D?line=3'>4</a>\u001b[0m dfba_model \u001b[39m=\u001b[39m DfbaModel(fba_model)\n",
      "File \u001b[1;32mc:\\Users\\andre\\anaconda3\\Lib\\site-packages\\cobra\\io\\sbml.py:460\u001b[0m, in \u001b[0;36mread_sbml_model\u001b[1;34m(filename, number, f_replace, **kwargs)\u001b[0m\n\u001b[0;32m    458\u001b[0m     \u001b[39mreturn\u001b[39;00m _sbml_to_model(doc, number\u001b[39m=\u001b[39mnumber, f_replace\u001b[39m=\u001b[39mf_replace, \u001b[39m*\u001b[39m\u001b[39m*\u001b[39mkwargs)\n\u001b[0;32m    459\u001b[0m \u001b[39mexcept\u001b[39;00m \u001b[39mIOError\u001b[39;00m \u001b[39mas\u001b[39;00m e:\n\u001b[1;32m--> 460\u001b[0m     \u001b[39mraise\u001b[39;00m e\n\u001b[0;32m    462\u001b[0m \u001b[39mexcept\u001b[39;00m \u001b[39mException\u001b[39;00m \u001b[39mas\u001b[39;00m original_error:\n\u001b[0;32m    463\u001b[0m     cobra_error \u001b[39m=\u001b[39m CobraSBMLError(\n\u001b[0;32m    464\u001b[0m         \u001b[39m\"\u001b[39m\u001b[39mSomething went wrong reading the SBML model. Most likely the SBML\u001b[39m\u001b[39m\"\u001b[39m\n\u001b[0;32m    465\u001b[0m         \u001b[39m\"\u001b[39m\u001b[39m model is not valid. Please check that your model is valid using \u001b[39m\u001b[39m\"\u001b[39m\n\u001b[1;32m   (...)\u001b[0m\n\u001b[0;32m    470\u001b[0m         \u001b[39m\"\u001b[39m\u001b[39mat https://github.com/opencobra/cobrapy/issues .\u001b[39m\u001b[39m\"\u001b[39m\n\u001b[0;32m    471\u001b[0m     )\n",
      "File \u001b[1;32mc:\\Users\\andre\\anaconda3\\Lib\\site-packages\\cobra\\io\\sbml.py:457\u001b[0m, in \u001b[0;36mread_sbml_model\u001b[1;34m(filename, number, f_replace, **kwargs)\u001b[0m\n\u001b[0;32m    402\u001b[0m \u001b[39m\u001b[39m\u001b[39m\"\"\"Read SBML model from given filename.\u001b[39;00m\n\u001b[0;32m    403\u001b[0m \n\u001b[0;32m    404\u001b[0m \u001b[39mIf the given filename ends with the suffix ''.gz'' (for example,\u001b[39;00m\n\u001b[1;32m   (...)\u001b[0m\n\u001b[0;32m    454\u001b[0m \u001b[39mFile handles to compressed files are not supported yet.\u001b[39;00m\n\u001b[0;32m    455\u001b[0m \u001b[39m\"\"\"\u001b[39;00m\n\u001b[0;32m    456\u001b[0m \u001b[39mtry\u001b[39;00m:\n\u001b[1;32m--> 457\u001b[0m     doc \u001b[39m=\u001b[39m _get_doc_from_filename(filename)\n\u001b[0;32m    458\u001b[0m     \u001b[39mreturn\u001b[39;00m _sbml_to_model(doc, number\u001b[39m=\u001b[39mnumber, f_replace\u001b[39m=\u001b[39mf_replace, \u001b[39m*\u001b[39m\u001b[39m*\u001b[39mkwargs)\n\u001b[0;32m    459\u001b[0m \u001b[39mexcept\u001b[39;00m \u001b[39mIOError\u001b[39;00m \u001b[39mas\u001b[39;00m e:\n",
      "File \u001b[1;32mc:\\Users\\andre\\anaconda3\\Lib\\site-packages\\cobra\\io\\sbml.py:504\u001b[0m, in \u001b[0;36m_get_doc_from_filename\u001b[1;34m(filename)\u001b[0m\n\u001b[0;32m    501\u001b[0m         doc: libsbml\u001b[39m.\u001b[39mSBMLDocument \u001b[39m=\u001b[39m libsbml\u001b[39m.\u001b[39mreadSBMLFromFile(filename)\n\u001b[0;32m    502\u001b[0m     \u001b[39melse\u001b[39;00m:\n\u001b[0;32m    503\u001b[0m         \u001b[39m# string representation\u001b[39;00m\n\u001b[1;32m--> 504\u001b[0m         \u001b[39mraise\u001b[39;00m \u001b[39mIOError\u001b[39;00m(\n\u001b[0;32m    505\u001b[0m             \u001b[39mf\u001b[39m\u001b[39m\"\u001b[39m\u001b[39mThe file with \u001b[39m\u001b[39m'\u001b[39m\u001b[39m{\u001b[39;00mfilename\u001b[39m}\u001b[39;00m\u001b[39m'\u001b[39m\u001b[39m does not exist, \u001b[39m\u001b[39m\"\u001b[39m\n\u001b[0;32m    506\u001b[0m             \u001b[39mf\u001b[39m\u001b[39m\"\u001b[39m\u001b[39mor is not an SBML string. Provide the path to \u001b[39m\u001b[39m\"\u001b[39m\n\u001b[0;32m    507\u001b[0m             \u001b[39mf\u001b[39m\u001b[39m\"\u001b[39m\u001b[39man existing SBML file or a valid SBML string representation:\u001b[39m\u001b[39m\\n\u001b[39;00m\u001b[39m\"\u001b[39m\n\u001b[0;32m    508\u001b[0m         )\n\u001b[0;32m    509\u001b[0m \u001b[39melif\u001b[39;00m \u001b[39mhasattr\u001b[39m(filename, \u001b[39m\"\u001b[39m\u001b[39mread\u001b[39m\u001b[39m\"\u001b[39m):\n\u001b[0;32m    510\u001b[0m     \u001b[39m# file handle\u001b[39;00m\n\u001b[0;32m    511\u001b[0m     doc: libsbml\u001b[39m.\u001b[39mSBMLDocument \u001b[39m=\u001b[39m libsbml\u001b[39m.\u001b[39mreadSBMLFromString(filename\u001b[39m.\u001b[39mread())\n",
      "\u001b[1;31mOSError\u001b[0m: The file with '..\\sbml-models\\iJR904.xml.gz' does not exist, or is not an SBML string. Provide the path to an existing SBML file or a valid SBML string representation:\n"
     ]
    }
   ],
   "source": [
    "path_to_model = join(pardir, \"sbml-models\", \"iJR904.xml.gz\")\n",
    "fba_model = read_sbml_model(path_to_model)\n",
    "fba_model.solver = \"glpk\"\n",
    "dfba_model = DfbaModel(fba_model)"
   ]
  },
  {
   "cell_type": "code",
   "execution_count": null,
   "metadata": {},
   "outputs": [],
   "source": [
    "X = KineticVariable(\"Biomass\")\n",
    "Gluc = KineticVariable(\"Glucose\")\n",
    "Xyl = KineticVariable(\"Xylose\")\n",
    "Oxy = KineticVariable(\"Oxygen\", initial_condition=0.24)\n",
    "Eth = KineticVariable(\"Ethanol\")\n",
    "\n",
    "dfba_model.add_kinetic_variables([X, Gluc, Xyl, Oxy, Eth])"
   ]
  },
  {
   "cell_type": "code",
   "execution_count": null,
   "metadata": {},
   "outputs": [],
   "source": [
    "mu = ExchangeFlux(\"BiomassEcoli\")\n",
    "v_G = ExchangeFlux(\"EX_glc(e)\")\n",
    "v_Z = ExchangeFlux(\"EX_xyl_D(e)\")\n",
    "v_O = ExchangeFlux(\"EX_o2(e)\")\n",
    "v_E = ExchangeFlux(\"EX_etoh(e)\")\n",
    "\n",
    "dfba_model.add_exchange_fluxes([mu, v_G, v_Z, v_O, v_E])"
   ]
  },
  {
   "cell_type": "code",
   "execution_count": null,
   "metadata": {},
   "outputs": [],
   "source": [
    "dfba_model.add_rhs_expression(\"Biomass\", mu * X)\n",
    "dfba_model.add_rhs_expression(\"Glucose\", v_G * 180.1559 * X / 1000.0)\n",
    "dfba_model.add_rhs_expression(\"Xylose\", v_Z * 150.13 * X / 1000.0)\n",
    "dfba_model.add_rhs_expression(\"Oxygen\", v_O * 16.0 * X / 1000.0)\n",
    "dfba_model.add_rhs_expression(\"Ethanol\", v_E * 46.06844 * X / 1000.0)"
   ]
  },
  {
   "cell_type": "code",
   "execution_count": null,
   "metadata": {},
   "outputs": [],
   "source": [
    "dfba_model.add_exchange_flux_lb(\n",
    "    \"EX_glc(e)\", 10.5 * (Gluc / (0.0027 + Gluc)) * (1 / (1 + Eth / 20.0)), Gluc\n",
    ")\n",
    "dfba_model.add_exchange_flux_lb(\"EX_o2(e)\", 15.0 * (Oxy / (0.024 + Oxy)), Oxy)\n",
    "dfba_model.add_exchange_flux_lb(\n",
    "    \"EX_xyl_D(e)\",\n",
    "    6.0\n",
    "    * (Xyl / (0.0165 + Xyl))\n",
    "    * (1 / (1 + Eth / 20.0))\n",
    "    * (1 / (1 + Gluc / 0.005)),\n",
    "    Xyl,\n",
    ")"
   ]
  },
  {
   "cell_type": "code",
   "execution_count": null,
   "metadata": {},
   "outputs": [],
   "source": [
    "dfba_model.add_initial_conditions(\n",
    "    {\n",
    "        \"Biomass\": 0.03,\n",
    "        \"Glucose\": 15.5,\n",
    "        \"Xylose\": 8.0,\n",
    "        \"Oxygen\": 0.0,\n",
    "        \"Ethanol\": 0.0,\n",
    "    }\n",
    ")\n",
    "concentrations, trajectories = dfba_model.simulate(0.0, 25.0, 0.1, [\"EX_glc(e)\", \"EX_xyl_D(e)\", \"EX_etoh(e)\"])"
   ]
  },
  {
   "cell_type": "code",
   "execution_count": null,
   "metadata": {},
   "outputs": [],
   "source": [
    "from dfba.plot.plotly import *\n",
    "\n",
    "import plotly.io as pio\n",
    "\n",
    "# in plotly version 4, default version is different than in 3\n",
    "pio.templates.default = \"plotly_white\""
   ]
  },
  {
   "cell_type": "code",
   "execution_count": null,
   "metadata": {},
   "outputs": [],
   "source": [
    "fig = plot_concentrations(concentrations)\n",
    "fig.show()"
   ]
  },
  {
   "cell_type": "code",
   "execution_count": null,
   "metadata": {},
   "outputs": [],
   "source": [
    "fig = plot_trajectories(trajectories)\n",
    "fig.show()"
   ]
  },
  {
   "cell_type": "code",
   "execution_count": null,
   "metadata": {},
   "outputs": [],
   "source": [
    "from dfba.plot.matplotlib import *"
   ]
  },
  {
   "cell_type": "code",
   "execution_count": null,
   "metadata": {},
   "outputs": [],
   "source": [
    "%matplotlib inline\n",
    "import matplotlib.pyplot as plt\n",
    "plt.rcParams[\"figure.figsize\"] = 16, 9"
   ]
  },
  {
   "cell_type": "code",
   "execution_count": null,
   "metadata": {},
   "outputs": [],
   "source": [
    "plot_concentrations(concentrations)\n",
    "plt.show()"
   ]
  },
  {
   "cell_type": "code",
   "execution_count": null,
   "metadata": {},
   "outputs": [],
   "source": [
    "plot_trajectories(trajectories)\n",
    "plt.show()"
   ]
  },
  {
   "cell_type": "code",
   "execution_count": null,
   "metadata": {},
   "outputs": [],
   "source": [
    "concentrations.to_csv(\"concentrations.csv\")\n",
    "trajectories.to_csv(\"trajectories.csv\")"
   ]
  }
 ],
 "metadata": {
  "kernelspec": {
   "display_name": "Python 3",
   "language": "python",
   "name": "python3"
  },
  "language_info": {
   "codemirror_mode": {
    "name": "ipython",
    "version": 3
   },
   "file_extension": ".py",
   "mimetype": "text/x-python",
   "name": "python",
   "nbconvert_exporter": "python",
   "pygments_lexer": "ipython3",
   "version": "3.10.8"
  }
 },
 "nbformat": 4,
 "nbformat_minor": 2
}
