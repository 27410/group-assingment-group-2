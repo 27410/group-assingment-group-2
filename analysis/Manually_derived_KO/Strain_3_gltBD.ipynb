{
 "cells": [
  {
   "cell_type": "markdown",
   "metadata": {},
   "source": [
    "Model simulation Strain_3 (Knock-out gltB, gltD).By knockint-out gltB and gltD the consumption of 2-oxoglutarate is inhibited by the absence of the correlated reaction."
   ]
  },
  {
   "cell_type": "code",
   "execution_count": 40,
   "metadata": {},
   "outputs": [
    {
     "data": {
      "text/html": [
       "\n",
       "        <table>\n",
       "            <tr>\n",
       "                <td><strong>Name</strong></td>\n",
       "                <td>iJO1366</td>\n",
       "            </tr><tr>\n",
       "                <td><strong>Memory address</strong></td>\n",
       "                <td>1f955fe4250</td>\n",
       "            </tr><tr>\n",
       "                <td><strong>Number of metabolites</strong></td>\n",
       "                <td>1810</td>\n",
       "            </tr><tr>\n",
       "                <td><strong>Number of reactions</strong></td>\n",
       "                <td>2592</td>\n",
       "            </tr><tr>\n",
       "                <td><strong>Number of genes</strong></td>\n",
       "                <td>1368</td>\n",
       "            </tr><tr>\n",
       "                <td><strong>Number of groups</strong></td>\n",
       "                <td>0</td>\n",
       "            </tr><tr>\n",
       "                <td><strong>Objective expression</strong></td>\n",
       "                <td>1.0*BIOMASS_Ec_iJO1366_core_53p95M - 1.0*BIOMASS_Ec_iJO1366_core_53p95M_reverse_5c8b1</td>\n",
       "            </tr><tr>\n",
       "                <td><strong>Compartments</strong></td>\n",
       "                <td>cytosol, extracellular space, periplasm</td>\n",
       "            </tr>\n",
       "          </table>"
      ],
      "text/plain": [
       "<Model iJO1366 at 0x1f955fe4250>"
      ]
     },
     "execution_count": 40,
     "metadata": {},
     "output_type": "execute_result"
    }
   ],
   "source": [
    "from cobra.io import read_sbml_model\n",
    "model = read_sbml_model('modified_model.xml')\n",
    "model"
   ]
  },
  {
   "cell_type": "markdown",
   "metadata": {},
   "source": [
    "Based on the paper another knock-out that will increase 2-oxoglutarate concentration is gltBD \n"
   ]
  },
  {
   "cell_type": "code",
   "execution_count": 41,
   "metadata": {},
   "outputs": [
    {
     "name": "stdout",
     "output_type": "stream",
     "text": [
      "Gene ID for gltB in model: b3212\n"
     ]
    }
   ],
   "source": [
    "# research of gltB gene in our model\n",
    "gltB = None\n",
    "for gene in model.genes:\n",
    "    if \"gltB\" in gene.name:\n",
    "        gltB = gene.id\n",
    "        break\n",
    "\n",
    "print(\"Gene ID for gltB in model:\", gltB)"
   ]
  },
  {
   "cell_type": "code",
   "execution_count": 42,
   "metadata": {},
   "outputs": [
    {
     "data": {
      "text/html": [
       "\n",
       "        <table>\n",
       "            <tr>\n",
       "                <td><strong>Gene identifier</strong></td><td>b3212</td>\n",
       "            </tr><tr>\n",
       "                <td><strong>Name</strong></td><td>gltB</td>\n",
       "            </tr><tr>\n",
       "                <td><strong>Memory address</strong></td>\n",
       "                <td>0x1f956b8f110</td>\n",
       "            </tr><tr>\n",
       "                <td><strong>Functional</strong></td><td>True</td>\n",
       "            </tr><tr>\n",
       "                <td><strong>In 1 reaction(s)</strong></td><td>\n",
       "                    GLUSy\n",
       "                    </td>\n",
       "            </tr>\n",
       "        </table>"
      ],
      "text/plain": [
       "<Gene b3212 at 0x1f956b8f110>"
      ]
     },
     "execution_count": 42,
     "metadata": {},
     "output_type": "execute_result"
    }
   ],
   "source": [
    "model.genes.b3212"
   ]
  },
  {
   "cell_type": "code",
   "execution_count": 43,
   "metadata": {},
   "outputs": [
    {
     "name": "stdout",
     "output_type": "stream",
     "text": [
      "Gene ID for gltB in model: b3213\n"
     ]
    }
   ],
   "source": [
    "# research of gltD gene in our model\n",
    "gltD = None\n",
    "for gene in model.genes:\n",
    "    if \"gltD\" in gene.name:\n",
    "        gltD = gene.id\n",
    "        break\n",
    "\n",
    "print(\"Gene ID for gltB in model:\", gltD)"
   ]
  },
  {
   "cell_type": "code",
   "execution_count": 44,
   "metadata": {},
   "outputs": [
    {
     "data": {
      "text/html": [
       "\n",
       "        <table>\n",
       "            <tr>\n",
       "                <td><strong>Gene identifier</strong></td><td>b3213</td>\n",
       "            </tr><tr>\n",
       "                <td><strong>Name</strong></td><td>gltD</td>\n",
       "            </tr><tr>\n",
       "                <td><strong>Memory address</strong></td>\n",
       "                <td>0x1f956b8e510</td>\n",
       "            </tr><tr>\n",
       "                <td><strong>Functional</strong></td><td>True</td>\n",
       "            </tr><tr>\n",
       "                <td><strong>In 1 reaction(s)</strong></td><td>\n",
       "                    GLUSy\n",
       "                    </td>\n",
       "            </tr>\n",
       "        </table>"
      ],
      "text/plain": [
       "<Gene b3213 at 0x1f956b8e510>"
      ]
     },
     "execution_count": 44,
     "metadata": {},
     "output_type": "execute_result"
    }
   ],
   "source": [
    "model.genes.b3213"
   ]
  },
  {
   "cell_type": "markdown",
   "metadata": {},
   "source": [
    "Let's search for the connected reaction to konck it out"
   ]
  },
  {
   "cell_type": "code",
   "execution_count": 45,
   "metadata": {},
   "outputs": [
    {
     "data": {
      "text/html": [
       "\n",
       "        <table>\n",
       "            <tr>\n",
       "                <td><strong>Reaction identifier</strong></td><td>GLUSy</td>\n",
       "            </tr><tr>\n",
       "                <td><strong>Name</strong></td><td>Glutamate synthase (NADPH)</td>\n",
       "            </tr><tr>\n",
       "                <td><strong>Memory address</strong></td>\n",
       "                <td>0x1f95747b5d0</td>\n",
       "            </tr><tr>\n",
       "                <td><strong>Stoichiometry</strong></td>\n",
       "                <td>\n",
       "                    <p style='text-align:right'>akg_c + gln__L_c + h_c + nadph_c --> 2.0 glu__L_c + nadp_c</p>\n",
       "                    <p style='text-align:right'>2-Oxoglutarate + L-Glutamine + H+ + Nicotinamide adenine dinucleotide phosphate - reduced --> 2.0 L-Glutamate + Nicotinamide adenine dinucleotide phosphate</p>\n",
       "                </td>\n",
       "            </tr><tr>\n",
       "                <td><strong>GPR</strong></td><td>b3212 and b3213</td>\n",
       "            </tr><tr>\n",
       "                <td><strong>Lower bound</strong></td><td>0.0</td>\n",
       "            </tr><tr>\n",
       "                <td><strong>Upper bound</strong></td><td>1000.0</td>\n",
       "            </tr>\n",
       "        </table>\n",
       "        "
      ],
      "text/plain": [
       "<Reaction GLUSy at 0x1f95747b5d0>"
      ]
     },
     "execution_count": 45,
     "metadata": {},
     "output_type": "execute_result"
    }
   ],
   "source": [
    "model.reactions.GLUSy"
   ]
  },
  {
   "cell_type": "markdown",
   "metadata": {},
   "source": [
    "Test the production of EFE reaction before the knock-out"
   ]
  },
  {
   "cell_type": "code",
   "execution_count": 46,
   "metadata": {},
   "outputs": [
    {
     "name": "stdout",
     "output_type": "stream",
     "text": [
      "Maximum theoretical biomass productivity: 0.9823718127269851 /h\n",
      "Maximum theoretical productivity of Ethylene_forming_enzyme_main reaction: 12.780573951434883 mmol/gDW*h\n"
     ]
    }
   ],
   "source": [
    "with model:\n",
    "    solution = model.optimize()\n",
    "    print('Maximum theoretical biomass productivity:', solution.fluxes['BIOMASS_Ec_iJO1366_core_53p95M'], '/h')\n",
    "\n",
    "    model.objective = model.reactions.EFE_m\n",
    "    E_production = model.optimize().objective_value\n",
    "    print('Maximum theoretical productivity of Ethylene_forming_enzyme_main reaction:', E_production, 'mmol/gDW*h')"
   ]
  },
  {
   "cell_type": "markdown",
   "metadata": {},
   "source": [
    "Knock-out of the reaction connected to gltBD genes"
   ]
  },
  {
   "cell_type": "code",
   "execution_count": 47,
   "metadata": {},
   "outputs": [
    {
     "data": {
      "text/html": [
       "\n",
       "        <table>\n",
       "            <tr>\n",
       "                <td><strong>Reaction identifier</strong></td><td>GLUSy</td>\n",
       "            </tr><tr>\n",
       "                <td><strong>Name</strong></td><td>Glutamate synthase (NADPH)</td>\n",
       "            </tr><tr>\n",
       "                <td><strong>Memory address</strong></td>\n",
       "                <td>0x1f95747b5d0</td>\n",
       "            </tr><tr>\n",
       "                <td><strong>Stoichiometry</strong></td>\n",
       "                <td>\n",
       "                    <p style='text-align:right'>akg_c + gln__L_c + h_c + nadph_c --> 2.0 glu__L_c + nadp_c</p>\n",
       "                    <p style='text-align:right'>2-Oxoglutarate + L-Glutamine + H+ + Nicotinamide adenine dinucleotide phosphate - reduced --> 2.0 L-Glutamate + Nicotinamide adenine dinucleotide phosphate</p>\n",
       "                </td>\n",
       "            </tr><tr>\n",
       "                <td><strong>GPR</strong></td><td>b3212 and b3213</td>\n",
       "            </tr><tr>\n",
       "                <td><strong>Lower bound</strong></td><td>0</td>\n",
       "            </tr><tr>\n",
       "                <td><strong>Upper bound</strong></td><td>0</td>\n",
       "            </tr>\n",
       "        </table>\n",
       "        "
      ],
      "text/plain": [
       "<Reaction GLUSy at 0x1f95747b5d0>"
      ]
     },
     "execution_count": 47,
     "metadata": {},
     "output_type": "execute_result"
    }
   ],
   "source": [
    "model.reactions.GLUSy.knock_out()\n",
    "model.reactions.GLUSy"
   ]
  },
  {
   "cell_type": "markdown",
   "metadata": {},
   "source": [
    "Maximum theoretical biomass and EFE productivity after the knock-out"
   ]
  },
  {
   "cell_type": "code",
   "execution_count": 48,
   "metadata": {},
   "outputs": [
    {
     "name": "stdout",
     "output_type": "stream",
     "text": [
      "Maximum theoretical biomass productivity: 0.9823718127269903 /h\n",
      "Maximum theoretical productivity of Ethylene_forming_enzyme_main reaction: 12.78057395143489 mmol/gDW*h\n"
     ]
    }
   ],
   "source": [
    "with model:\n",
    "    solution = model.optimize()\n",
    "    print('Maximum theoretical biomass productivity:', solution.fluxes['BIOMASS_Ec_iJO1366_core_53p95M'], '/h')\n",
    "\n",
    "    model.objective = model.reactions.EFE_m\n",
    "    E_production = model.optimize().objective_value\n",
    "    print('Maximum theoretical productivity of Ethylene_forming_enzyme_main reaction:', E_production, 'mmol/gDW*h')"
   ]
  },
  {
   "cell_type": "markdown",
   "metadata": {},
   "source": [
    "Combination of the new strain with media implementation"
   ]
  },
  {
   "cell_type": "code",
   "execution_count": 49,
   "metadata": {},
   "outputs": [],
   "source": [
    "YEPDmedium = model.medium\n",
    "YEPDmedium['EX_glc__D_e'] = 0\n",
    "YEPDmedium['EX_sucr_e'] = 40\n",
    "YEPDmedium['EX_ala__L_e'] = 20\n",
    "YEPDmedium['EX_arg__L_e'] = 20\n",
    "YEPDmedium['EX_asn__L_e'] = 20\n",
    "YEPDmedium['EX_cys__L_e'] = 20\n",
    "YEPDmedium['EX_gln__L_e'] = 20\n",
    "YEPDmedium['EX_glu__L_e'] = 20\n",
    "YEPDmedium['EX_gly_e'] = 0\n",
    "YEPDmedium['EX_his__L_e'] = 0\n",
    "YEPDmedium['EX_ile__L_e'] = 0\n",
    "YEPDmedium['EX_leu__L_e'] = 0\n",
    "YEPDmedium['EX_met__L_e'] = 0\n",
    "YEPDmedium['EX_phe__L_e'] = 0\n",
    "YEPDmedium['EX_pro__L_e'] = 20\n",
    "YEPDmedium['EX_ser__L_e'] = 20\n",
    "YEPDmedium['EX_thr__L_e'] = 20\n",
    "YEPDmedium['EX_trp__L_e'] = 20\n",
    "YEPDmedium['EX_tyr__L_e'] = 0\n",
    "YEPDmedium['EX_val__L_e'] = 0\n",
    "YEPDmedium['EX_lys__L_e'] = 0\n",
    "YEPDmedium['EX_asp__L_e'] = 20"
   ]
  },
  {
   "cell_type": "code",
   "execution_count": 50,
   "metadata": {},
   "outputs": [
    {
     "name": "stdout",
     "output_type": "stream",
     "text": [
      "Statistically best (With Sucrose instead of Glucose):\n",
      "Maximum theoretical growth-rate: 19.191474500959977 /h\n",
      "Maximum theoretical productivity of Ethylene_forming_enzyme_main reaction: 277.0509433962263 mmol/gDW*h\n"
     ]
    }
   ],
   "source": [
    "with model:\n",
    "    model.medium = YEPDmedium\n",
    "    solution = model.optimize()\n",
    "    print('Statistically best (With Sucrose instead of Glucose):')\n",
    "    print('Maximum theoretical growth-rate:', solution.fluxes['BIOMASS_Ec_iJO1366_core_53p95M'], '/h')\n",
    "    \n",
    "\n",
    "    model.objective = model.reactions.EFE_m\n",
    "    E_production = model.optimize().objective_value\n",
    "    print('Maximum theoretical productivity of Ethylene_forming_enzyme_main reaction:', E_production, 'mmol/gDW*h')"
   ]
  },
  {
   "cell_type": "markdown",
   "metadata": {},
   "source": [
    "Maximum theoretical EFE productivity and yield after the knock-out without the media implementation"
   ]
  },
  {
   "cell_type": "code",
   "execution_count": 51,
   "metadata": {},
   "outputs": [
    {
     "name": "stdout",
     "output_type": "stream",
     "text": [
      "Maximum productivity = 12.780573951434846 mmol/gDW*h\n",
      "Maximum theoretical yield = 1.2780573951434846 mmol-eth/mmol-glc\n"
     ]
    }
   ],
   "source": [
    "model.objective = model.reactions.eth_tp\n",
    "eth_production = model.optimize().objective_value\n",
    "print('Maximum productivity =', eth_production, 'mmol/gDW*h')\n",
    "   \n",
    "eth_maximum_yield = eth_production / (-1*(model.reactions.EX_glc__D_e.flux))\n",
    "print('Maximum theoretical yield =', eth_maximum_yield, 'mmol-eth/mmol-glc')"
   ]
  }
 ],
 "metadata": {
  "kernelspec": {
   "display_name": "Python 3",
   "language": "python",
   "name": "python3"
  },
  "language_info": {
   "codemirror_mode": {
    "name": "ipython",
    "version": 3
   },
   "file_extension": ".py",
   "mimetype": "text/x-python",
   "name": "python",
   "nbconvert_exporter": "python",
   "pygments_lexer": "ipython3",
   "version": "3.11.5"
  }
 },
 "nbformat": 4,
 "nbformat_minor": 2
}
