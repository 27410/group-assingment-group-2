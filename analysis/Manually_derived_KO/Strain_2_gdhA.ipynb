{
 "cells": [
  {
   "cell_type": "markdown",
   "metadata": {},
   "source": [
    "Model simulation Strain_2 (Knock-out gdhA).\n",
    "By knockint-out gdhA we delete the reaction from 2-oxoglutarate to L-glutamate, taking into account that this reaction is reversible in the model, so we want to verify if this knock-out will change the production of Ethylene in our model."
   ]
  },
  {
   "cell_type": "code",
   "execution_count": 31,
   "metadata": {},
   "outputs": [
    {
     "data": {
      "text/html": [
       "\n",
       "        <table>\n",
       "            <tr>\n",
       "                <td><strong>Name</strong></td>\n",
       "                <td>iJO1366</td>\n",
       "            </tr><tr>\n",
       "                <td><strong>Memory address</strong></td>\n",
       "                <td>255a5de3b50</td>\n",
       "            </tr><tr>\n",
       "                <td><strong>Number of metabolites</strong></td>\n",
       "                <td>1810</td>\n",
       "            </tr><tr>\n",
       "                <td><strong>Number of reactions</strong></td>\n",
       "                <td>2592</td>\n",
       "            </tr><tr>\n",
       "                <td><strong>Number of genes</strong></td>\n",
       "                <td>1368</td>\n",
       "            </tr><tr>\n",
       "                <td><strong>Number of groups</strong></td>\n",
       "                <td>0</td>\n",
       "            </tr><tr>\n",
       "                <td><strong>Objective expression</strong></td>\n",
       "                <td>1.0*BIOMASS_Ec_iJO1366_core_53p95M - 1.0*BIOMASS_Ec_iJO1366_core_53p95M_reverse_5c8b1</td>\n",
       "            </tr><tr>\n",
       "                <td><strong>Compartments</strong></td>\n",
       "                <td>cytosol, extracellular space, periplasm</td>\n",
       "            </tr>\n",
       "          </table>"
      ],
      "text/plain": [
       "<Model iJO1366 at 0x255a5de3b50>"
      ]
     },
     "execution_count": 31,
     "metadata": {},
     "output_type": "execute_result"
    }
   ],
   "source": [
    "from cobra.io import read_sbml_model\n",
    "model = read_sbml_model('modified_model.xml')\n",
    "model"
   ]
  },
  {
   "cell_type": "markdown",
   "metadata": {},
   "source": [
    "Based on the paper the knock-out that will increase 2-oxoglutarate concentration is gdhA "
   ]
  },
  {
   "cell_type": "code",
   "execution_count": 32,
   "metadata": {},
   "outputs": [
    {
     "name": "stdout",
     "output_type": "stream",
     "text": [
      "Gene ID for gdhA in model: b1761\n"
     ]
    }
   ],
   "source": [
    "# research of gdhA gene in our model\n",
    "gdhA = None\n",
    "for gene in model.genes:\n",
    "    if \"gdhA\" in gene.name:\n",
    "        gdhA = gene.id\n",
    "        break\n",
    "\n",
    "print(\"Gene ID for gdhA in model:\", gdhA)"
   ]
  },
  {
   "cell_type": "code",
   "execution_count": 33,
   "metadata": {},
   "outputs": [
    {
     "data": {
      "text/html": [
       "\n",
       "        <table>\n",
       "            <tr>\n",
       "                <td><strong>Gene identifier</strong></td><td>b1761</td>\n",
       "            </tr><tr>\n",
       "                <td><strong>Name</strong></td><td>gdhA</td>\n",
       "            </tr><tr>\n",
       "                <td><strong>Memory address</strong></td>\n",
       "                <td>0x255a6982010</td>\n",
       "            </tr><tr>\n",
       "                <td><strong>Functional</strong></td><td>True</td>\n",
       "            </tr><tr>\n",
       "                <td><strong>In 1 reaction(s)</strong></td><td>\n",
       "                    GLUDy\n",
       "                    </td>\n",
       "            </tr>\n",
       "        </table>"
      ],
      "text/plain": [
       "<Gene b1761 at 0x255a6982010>"
      ]
     },
     "execution_count": 33,
     "metadata": {},
     "output_type": "execute_result"
    }
   ],
   "source": [
    "model.genes.b1761"
   ]
  },
  {
   "cell_type": "markdown",
   "metadata": {},
   "source": [
    "Let's search for the connected reaction to konck it out"
   ]
  },
  {
   "cell_type": "code",
   "execution_count": 34,
   "metadata": {},
   "outputs": [
    {
     "data": {
      "text/html": [
       "\n",
       "        <table>\n",
       "            <tr>\n",
       "                <td><strong>Reaction identifier</strong></td><td>GLUDy</td>\n",
       "            </tr><tr>\n",
       "                <td><strong>Name</strong></td><td>Glutamate dehydrogenase (NADP)</td>\n",
       "            </tr><tr>\n",
       "                <td><strong>Memory address</strong></td>\n",
       "                <td>0x255a716b690</td>\n",
       "            </tr><tr>\n",
       "                <td><strong>Stoichiometry</strong></td>\n",
       "                <td>\n",
       "                    <p style='text-align:right'>glu__L_c + h2o_c + nadp_c <=> akg_c + h_c + nadph_c + nh4_c</p>\n",
       "                    <p style='text-align:right'>L-Glutamate + H2O H2O + Nicotinamide adenine dinucleotide phosphate <=> 2-Oxoglutarate + H+ + Nicotinamide adenine dinucleotide phosphate - reduced + Ammonium</p>\n",
       "                </td>\n",
       "            </tr><tr>\n",
       "                <td><strong>GPR</strong></td><td>b1761</td>\n",
       "            </tr><tr>\n",
       "                <td><strong>Lower bound</strong></td><td>-1000.0</td>\n",
       "            </tr><tr>\n",
       "                <td><strong>Upper bound</strong></td><td>1000.0</td>\n",
       "            </tr>\n",
       "        </table>\n",
       "        "
      ],
      "text/plain": [
       "<Reaction GLUDy at 0x255a716b690>"
      ]
     },
     "execution_count": 34,
     "metadata": {},
     "output_type": "execute_result"
    }
   ],
   "source": [
    "model.reactions.GLUDy"
   ]
  },
  {
   "cell_type": "markdown",
   "metadata": {},
   "source": [
    "Test the production of EFE reaction before the knock-out"
   ]
  },
  {
   "cell_type": "code",
   "execution_count": 35,
   "metadata": {},
   "outputs": [
    {
     "name": "stdout",
     "output_type": "stream",
     "text": [
      "Maximum theoretical biomass productivity: 0.9823718127269851 /h\n",
      "Maximum theoretical productivity of Ethylene_forming_enzyme_main reaction: 12.780573951434883 mmol/gDW*h\n"
     ]
    }
   ],
   "source": [
    "with model:\n",
    "    solution = model.optimize()\n",
    "    print('Maximum theoretical biomass productivity:', solution.fluxes['BIOMASS_Ec_iJO1366_core_53p95M'], '/h')\n",
    "\n",
    "    model.objective = model.reactions.EFE_m\n",
    "    E_production = model.optimize().objective_value\n",
    "    print('Maximum theoretical productivity of Ethylene_forming_enzyme_main reaction:', E_production, 'mmol/gDW*h')"
   ]
  },
  {
   "cell_type": "markdown",
   "metadata": {},
   "source": [
    "Knock-out of the reaction connected to gdhA gene"
   ]
  },
  {
   "cell_type": "code",
   "execution_count": 36,
   "metadata": {},
   "outputs": [
    {
     "data": {
      "text/html": [
       "\n",
       "        <table>\n",
       "            <tr>\n",
       "                <td><strong>Reaction identifier</strong></td><td>GLUDy</td>\n",
       "            </tr><tr>\n",
       "                <td><strong>Name</strong></td><td>Glutamate dehydrogenase (NADP)</td>\n",
       "            </tr><tr>\n",
       "                <td><strong>Memory address</strong></td>\n",
       "                <td>0x255a716b690</td>\n",
       "            </tr><tr>\n",
       "                <td><strong>Stoichiometry</strong></td>\n",
       "                <td>\n",
       "                    <p style='text-align:right'>glu__L_c + h2o_c + nadp_c --> akg_c + h_c + nadph_c + nh4_c</p>\n",
       "                    <p style='text-align:right'>L-Glutamate + H2O H2O + Nicotinamide adenine dinucleotide phosphate --> 2-Oxoglutarate + H+ + Nicotinamide adenine dinucleotide phosphate - reduced + Ammonium</p>\n",
       "                </td>\n",
       "            </tr><tr>\n",
       "                <td><strong>GPR</strong></td><td>b1761</td>\n",
       "            </tr><tr>\n",
       "                <td><strong>Lower bound</strong></td><td>0</td>\n",
       "            </tr><tr>\n",
       "                <td><strong>Upper bound</strong></td><td>0</td>\n",
       "            </tr>\n",
       "        </table>\n",
       "        "
      ],
      "text/plain": [
       "<Reaction GLUDy at 0x255a716b690>"
      ]
     },
     "execution_count": 36,
     "metadata": {},
     "output_type": "execute_result"
    }
   ],
   "source": [
    "model.reactions.GLUDy.knock_out()\n",
    "model.reactions.GLUDy"
   ]
  },
  {
   "cell_type": "markdown",
   "metadata": {},
   "source": [
    "Maximum theoretical biomass and EFE productivity after the knock-out"
   ]
  },
  {
   "cell_type": "code",
   "execution_count": 37,
   "metadata": {},
   "outputs": [
    {
     "name": "stdout",
     "output_type": "stream",
     "text": [
      "Maximum theoretical biomass productivity: 0.9487730068947992 /h\n",
      "Maximum theoretical productivity of Ethylene_forming_enzyme_main reaction: 12.614889336016203 mmol/gDW*h\n"
     ]
    }
   ],
   "source": [
    "with model:\n",
    "    solution = model.optimize()\n",
    "    print('Maximum theoretical biomass productivity:', solution.fluxes['BIOMASS_Ec_iJO1366_core_53p95M'], '/h')\n",
    "\n",
    "    model.objective = model.reactions.EFE_m\n",
    "    E_production = model.optimize().objective_value\n",
    "    print('Maximum theoretical productivity of Ethylene_forming_enzyme_main reaction:', E_production, 'mmol/gDW*h')"
   ]
  },
  {
   "cell_type": "markdown",
   "metadata": {},
   "source": [
    "Combination of the new strain with media implementation"
   ]
  },
  {
   "cell_type": "code",
   "execution_count": 38,
   "metadata": {},
   "outputs": [],
   "source": [
    "YEPDmedium = model.medium\n",
    "YEPDmedium['EX_glc__D_e'] = 0\n",
    "YEPDmedium['EX_sucr_e'] = 40\n",
    "YEPDmedium['EX_ala__L_e'] = 20\n",
    "YEPDmedium['EX_arg__L_e'] = 20\n",
    "YEPDmedium['EX_asn__L_e'] = 20\n",
    "YEPDmedium['EX_cys__L_e'] = 20\n",
    "YEPDmedium['EX_gln__L_e'] = 20\n",
    "YEPDmedium['EX_glu__L_e'] = 20\n",
    "YEPDmedium['EX_gly_e'] = 0\n",
    "YEPDmedium['EX_his__L_e'] = 0\n",
    "YEPDmedium['EX_ile__L_e'] = 0\n",
    "YEPDmedium['EX_leu__L_e'] = 0\n",
    "YEPDmedium['EX_met__L_e'] = 0\n",
    "YEPDmedium['EX_phe__L_e'] = 0\n",
    "YEPDmedium['EX_pro__L_e'] = 20\n",
    "YEPDmedium['EX_ser__L_e'] = 20\n",
    "YEPDmedium['EX_thr__L_e'] = 20\n",
    "YEPDmedium['EX_trp__L_e'] = 20\n",
    "YEPDmedium['EX_tyr__L_e'] = 0\n",
    "YEPDmedium['EX_val__L_e'] = 0\n",
    "YEPDmedium['EX_lys__L_e'] = 0\n",
    "YEPDmedium['EX_asp__L_e'] = 20"
   ]
  },
  {
   "cell_type": "code",
   "execution_count": 39,
   "metadata": {},
   "outputs": [
    {
     "name": "stdout",
     "output_type": "stream",
     "text": [
      "Statistically best (With Sucrose instead of Glucose):\n",
      "Maximum theoretical growth-rate: 19.191474500961025 /h\n",
      "Maximum theoretical productivity of Ethylene_forming_enzyme_main reaction: 276.2706896551723 mmol/gDW*h\n"
     ]
    }
   ],
   "source": [
    "with model:\n",
    "    model.medium = YEPDmedium\n",
    "    solution = model.optimize()\n",
    "    print('Statistically best (With Sucrose instead of Glucose):')\n",
    "    print('Maximum theoretical growth-rate:', solution.fluxes['BIOMASS_Ec_iJO1366_core_53p95M'], '/h')\n",
    "    \n",
    "\n",
    "    model.objective = model.reactions.EFE_m\n",
    "    E_production = model.optimize().objective_value\n",
    "    print('Maximum theoretical productivity of Ethylene_forming_enzyme_main reaction:', E_production, 'mmol/gDW*h')"
   ]
  },
  {
   "cell_type": "markdown",
   "metadata": {},
   "source": [
    "Maximum theoretical EFE productivity and yield after the knock-out without media implementation"
   ]
  },
  {
   "cell_type": "code",
   "execution_count": 40,
   "metadata": {},
   "outputs": [
    {
     "name": "stdout",
     "output_type": "stream",
     "text": [
      "Maximum productivity = 12.614889336015965 mmol/gDW*h\n",
      "Maximum theoretical yield = 1.2614889336015964 mmol-eth/mmol-glc\n"
     ]
    }
   ],
   "source": [
    "model.objective = model.reactions.eth_tp\n",
    "eth_production = model.optimize().objective_value\n",
    "print('Maximum productivity =', eth_production, 'mmol/gDW*h')\n",
    "   \n",
    "eth_maximum_yield = eth_production / (-1*(model.reactions.EX_glc__D_e.flux))\n",
    "print('Maximum theoretical yield =', eth_maximum_yield, 'mmol-eth/mmol-glc')"
   ]
  }
 ],
 "metadata": {
  "kernelspec": {
   "display_name": "Python 3",
   "language": "python",
   "name": "python3"
  },
  "language_info": {
   "codemirror_mode": {
    "name": "ipython",
    "version": 3
   },
   "file_extension": ".py",
   "mimetype": "text/x-python",
   "name": "python",
   "nbconvert_exporter": "python",
   "pygments_lexer": "ipython3",
   "version": "3.11.5"
  }
 },
 "nbformat": 4,
 "nbformat_minor": 2
}
