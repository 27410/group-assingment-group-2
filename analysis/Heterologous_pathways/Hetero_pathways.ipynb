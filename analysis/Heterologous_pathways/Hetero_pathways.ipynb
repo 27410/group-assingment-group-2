{
 "cells": [
  {
   "cell_type": "code",
   "execution_count": 11,
   "metadata": {},
   "outputs": [],
   "source": [
    "from cobra.io import read_sbml_model\n",
    "model = read_sbml_model('modified_model.xml')"
   ]
  },
  {
   "cell_type": "code",
   "execution_count": 12,
   "metadata": {},
   "outputs": [
    {
     "data": {
      "text/html": [
       "\n",
       "        <table>\n",
       "            <tr>\n",
       "                <td><strong>Name</strong></td>\n",
       "                <td>iJO1366</td>\n",
       "            </tr><tr>\n",
       "                <td><strong>Memory address</strong></td>\n",
       "                <td>2110e277a50</td>\n",
       "            </tr><tr>\n",
       "                <td><strong>Number of metabolites</strong></td>\n",
       "                <td>1809</td>\n",
       "            </tr><tr>\n",
       "                <td><strong>Number of reactions</strong></td>\n",
       "                <td>2590</td>\n",
       "            </tr><tr>\n",
       "                <td><strong>Number of genes</strong></td>\n",
       "                <td>1367</td>\n",
       "            </tr><tr>\n",
       "                <td><strong>Number of groups</strong></td>\n",
       "                <td>0</td>\n",
       "            </tr><tr>\n",
       "                <td><strong>Objective expression</strong></td>\n",
       "                <td>1.0*BIOMASS_Ec_iJO1366_core_53p95M - 1.0*BIOMASS_Ec_iJO1366_core_53p95M_reverse_5c8b1</td>\n",
       "            </tr><tr>\n",
       "                <td><strong>Compartments</strong></td>\n",
       "                <td>cytosol, extracellular space, periplasm</td>\n",
       "            </tr>\n",
       "          </table>"
      ],
      "text/plain": [
       "<Model iJO1366 at 0x2110e277a50>"
      ]
     },
     "execution_count": 12,
     "metadata": {},
     "output_type": "execute_result"
    }
   ],
   "source": [
    "model"
   ]
  },
  {
   "cell_type": "code",
   "execution_count": 18,
   "metadata": {},
   "outputs": [
    {
     "name": "stdout",
     "output_type": "stream",
     "text": [
      "Maximum theoretical biomass productivity: 0.9823718127271619 /h\n",
      "Maximum theoretical productivity of Ethylene_forming_enzyme_main reaction: 6.390286975717459 mmol/gDW*h\n"
     ]
    }
   ],
   "source": [
    "with model:\n",
    "    solution = model.optimize()\n",
    "    print('Maximum theoretical biomass productivity:', solution.fluxes['BIOMASS_Ec_iJO1366_core_53p95M'], '/h')\n",
    "\n",
    "    model.objective = model.reactions.EFE_m\n",
    "    E_production = model.optimize().objective_value\n",
    "    print('Maximum theoretical productivity of Ethylene_forming_enzyme_main reaction:', E_production, 'mmol/gDW*h')"
   ]
  },
  {
   "cell_type": "code",
   "execution_count": 13,
   "metadata": {},
   "outputs": [
    {
     "name": "stdout",
     "output_type": "stream",
     "text": [
      "Requirement already satisfied: cameo in c:\\users\\andre\\appdata\\local\\programs\\python\\python311\\lib\\site-packages (0.13.6)\n",
      "Requirement already satisfied: numpy>=1.9.1 in c:\\users\\andre\\appdata\\local\\programs\\python\\python311\\lib\\site-packages (from cameo) (1.26.1)\n",
      "Requirement already satisfied: scipy>=0.14.0 in c:\\users\\andre\\appdata\\local\\programs\\python\\python311\\lib\\site-packages (from cameo) (1.11.3)\n",
      "Requirement already satisfied: blessings>=1.5.1 in c:\\users\\andre\\appdata\\local\\programs\\python\\python311\\lib\\site-packages (from cameo) (1.7)\n",
      "Requirement already satisfied: pandas>=1.1.3 in c:\\users\\andre\\appdata\\local\\programs\\python\\python311\\lib\\site-packages (from cameo) (2.1.2)\n",
      "Requirement already satisfied: ordered-set>=1.2 in c:\\users\\andre\\appdata\\local\\programs\\python\\python311\\lib\\site-packages (from cameo) (4.1.0)\n",
      "Requirement already satisfied: cobra>=0.11.1 in c:\\users\\andre\\appdata\\local\\programs\\python\\python311\\lib\\site-packages (from cameo) (0.29.0)\n",
      "Requirement already satisfied: future>=0.15.2 in c:\\users\\andre\\appdata\\local\\programs\\python\\python311\\lib\\site-packages (from cameo) (0.18.3)\n",
      "Requirement already satisfied: optlang>=1.4.2 in c:\\users\\andre\\appdata\\local\\programs\\python\\python311\\lib\\site-packages (from cameo) (1.8.0)\n",
      "Requirement already satisfied: numexpr>=2.4 in c:\\users\\andre\\appdata\\local\\programs\\python\\python311\\lib\\site-packages (from cameo) (2.8.7)\n",
      "Requirement already satisfied: requests>=2.10.0 in c:\\users\\andre\\appdata\\local\\programs\\python\\python311\\lib\\site-packages (from cameo) (2.31.0)\n",
      "Requirement already satisfied: networkx>=2.4 in c:\\users\\andre\\appdata\\local\\programs\\python\\python311\\lib\\site-packages (from cameo) (3.2.1)\n",
      "Requirement already satisfied: escher>=1.1.2 in c:\\users\\andre\\appdata\\local\\programs\\python\\python311\\lib\\site-packages (from cameo) (1.7.3)\n",
      "Requirement already satisfied: IProgress>=0.4 in c:\\users\\andre\\appdata\\local\\programs\\python\\python311\\lib\\site-packages (from cameo) (0.4)\n",
      "Requirement already satisfied: inspyred>=1.0 in c:\\users\\andre\\appdata\\local\\programs\\python\\python311\\lib\\site-packages (from cameo) (1.0.2)\n",
      "Requirement already satisfied: lazy-object-proxy>=1.2.0 in c:\\users\\andre\\appdata\\local\\programs\\python\\python311\\lib\\site-packages (from cameo) (1.9.0)\n",
      "Requirement already satisfied: palettable>=2.1.1 in c:\\users\\andre\\appdata\\local\\programs\\python\\python311\\lib\\site-packages (from cameo) (3.3.3)\n",
      "Requirement already satisfied: gnomic==1.0.1 in c:\\users\\andre\\appdata\\local\\programs\\python\\python311\\lib\\site-packages (from cameo) (1.0.1)\n",
      "Requirement already satisfied: openpyxl>=2.4.5 in c:\\users\\andre\\appdata\\local\\programs\\python\\python311\\lib\\site-packages (from cameo) (3.1.2)\n",
      "Requirement already satisfied: click>=6.7 in c:\\users\\andre\\appdata\\local\\programs\\python\\python311\\lib\\site-packages (from cameo) (8.1.7)\n",
      "Requirement already satisfied: grako==3.18.1 in c:\\users\\andre\\appdata\\local\\programs\\python\\python311\\lib\\site-packages (from gnomic==1.0.1->cameo) (3.18.1)\n",
      "Requirement already satisfied: six>=1.8.0 in c:\\users\\andre\\appdata\\roaming\\python\\python311\\site-packages (from gnomic==1.0.1->cameo) (1.16.0)\n",
      "Requirement already satisfied: colorama in c:\\users\\andre\\appdata\\roaming\\python\\python311\\site-packages (from click>=6.7->cameo) (0.4.6)\n",
      "Requirement already satisfied: appdirs~=1.4 in c:\\users\\andre\\appdata\\local\\programs\\python\\python311\\lib\\site-packages (from cobra>=0.11.1->cameo) (1.4.4)\n",
      "Requirement already satisfied: depinfo~=2.2 in c:\\users\\andre\\appdata\\local\\programs\\python\\python311\\lib\\site-packages (from cobra>=0.11.1->cameo) (2.2.0)\n",
      "Requirement already satisfied: diskcache~=5.0 in c:\\users\\andre\\appdata\\local\\programs\\python\\python311\\lib\\site-packages (from cobra>=0.11.1->cameo) (5.6.3)\n",
      "Requirement already satisfied: httpx~=0.24 in c:\\users\\andre\\appdata\\local\\programs\\python\\python311\\lib\\site-packages (from cobra>=0.11.1->cameo) (0.25.0)\n",
      "Requirement already satisfied: importlib-resources in c:\\users\\andre\\appdata\\local\\programs\\python\\python311\\lib\\site-packages (from cobra>=0.11.1->cameo) (6.1.0)\n",
      "Requirement already satisfied: pydantic>=1.6 in c:\\users\\andre\\appdata\\local\\programs\\python\\python311\\lib\\site-packages (from cobra>=0.11.1->cameo) (2.4.2)\n",
      "Requirement already satisfied: python-libsbml~=5.19 in c:\\users\\andre\\appdata\\local\\programs\\python\\python311\\lib\\site-packages (from cobra>=0.11.1->cameo) (5.20.2)\n",
      "Requirement already satisfied: rich>=8.0 in c:\\users\\andre\\appdata\\local\\programs\\python\\python311\\lib\\site-packages (from cobra>=0.11.1->cameo) (13.6.0)\n",
      "Requirement already satisfied: ruamel.yaml~=0.16 in c:\\users\\andre\\appdata\\local\\programs\\python\\python311\\lib\\site-packages (from cobra>=0.11.1->cameo) (0.18.3)\n",
      "Requirement already satisfied: swiglpk in c:\\users\\andre\\appdata\\local\\programs\\python\\python311\\lib\\site-packages (from cobra>=0.11.1->cameo) (5.0.8)\n",
      "Requirement already satisfied: Jinja2<3,>=2.7.3 in c:\\users\\andre\\appdata\\local\\programs\\python\\python311\\lib\\site-packages (from escher>=1.1.2->cameo) (2.11.3)\n",
      "Requirement already satisfied: pytest<5,>=4.0.1 in c:\\users\\andre\\appdata\\local\\programs\\python\\python311\\lib\\site-packages (from escher>=1.1.2->cameo) (4.6.11)\n",
      "Requirement already satisfied: jsonschema<4,>=3.0.1 in c:\\users\\andre\\appdata\\local\\programs\\python\\python311\\lib\\site-packages (from escher>=1.1.2->cameo) (3.2.0)\n",
      "Requirement already satisfied: ipywidgets<8,>=7.4.0 in c:\\users\\andre\\appdata\\local\\programs\\python\\python311\\lib\\site-packages (from escher>=1.1.2->cameo) (7.8.1)\n",
      "Requirement already satisfied: et-xmlfile in c:\\users\\andre\\appdata\\local\\programs\\python\\python311\\lib\\site-packages (from openpyxl>=2.4.5->cameo) (1.1.0)\n",
      "Requirement already satisfied: sympy>=1.12.0 in c:\\users\\andre\\appdata\\local\\programs\\python\\python311\\lib\\site-packages (from optlang>=1.4.2->cameo) (1.12)\n",
      "Requirement already satisfied: python-dateutil>=2.8.2 in c:\\users\\andre\\appdata\\roaming\\python\\python311\\site-packages (from pandas>=1.1.3->cameo) (2.8.2)\n",
      "Requirement already satisfied: pytz>=2020.1 in c:\\users\\andre\\appdata\\local\\programs\\python\\python311\\lib\\site-packages (from pandas>=1.1.3->cameo) (2023.3.post1)\n",
      "Requirement already satisfied: tzdata>=2022.1 in c:\\users\\andre\\appdata\\local\\programs\\python\\python311\\lib\\site-packages (from pandas>=1.1.3->cameo) (2023.3)\n",
      "Requirement already satisfied: charset-normalizer<4,>=2 in c:\\users\\andre\\appdata\\local\\programs\\python\\python311\\lib\\site-packages (from requests>=2.10.0->cameo) (3.3.1)\n",
      "Requirement already satisfied: idna<4,>=2.5 in c:\\users\\andre\\appdata\\local\\programs\\python\\python311\\lib\\site-packages (from requests>=2.10.0->cameo) (3.4)\n",
      "Requirement already satisfied: urllib3<3,>=1.21.1 in c:\\users\\andre\\appdata\\local\\programs\\python\\python311\\lib\\site-packages (from requests>=2.10.0->cameo) (2.0.7)\n",
      "Requirement already satisfied: certifi>=2017.4.17 in c:\\users\\andre\\appdata\\local\\programs\\python\\python311\\lib\\site-packages (from requests>=2.10.0->cameo) (2023.7.22)\n",
      "Requirement already satisfied: httpcore<0.19.0,>=0.18.0 in c:\\users\\andre\\appdata\\local\\programs\\python\\python311\\lib\\site-packages (from httpx~=0.24->cobra>=0.11.1->cameo) (0.18.0)\n",
      "Requirement already satisfied: sniffio in c:\\users\\andre\\appdata\\local\\programs\\python\\python311\\lib\\site-packages (from httpx~=0.24->cobra>=0.11.1->cameo) (1.3.0)\n",
      "Requirement already satisfied: comm>=0.1.3 in c:\\users\\andre\\appdata\\roaming\\python\\python311\\site-packages (from ipywidgets<8,>=7.4.0->escher>=1.1.2->cameo) (0.1.4)\n",
      "Requirement already satisfied: ipython-genutils~=0.2.0 in c:\\users\\andre\\appdata\\local\\programs\\python\\python311\\lib\\site-packages (from ipywidgets<8,>=7.4.0->escher>=1.1.2->cameo) (0.2.0)\n",
      "Requirement already satisfied: traitlets>=4.3.1 in c:\\users\\andre\\appdata\\roaming\\python\\python311\\site-packages (from ipywidgets<8,>=7.4.0->escher>=1.1.2->cameo) (5.10.0)\n",
      "Requirement already satisfied: widgetsnbextension~=3.6.6 in c:\\users\\andre\\appdata\\local\\programs\\python\\python311\\lib\\site-packages (from ipywidgets<8,>=7.4.0->escher>=1.1.2->cameo) (3.6.6)\n",
      "Requirement already satisfied: ipython>=4.0.0 in c:\\users\\andre\\appdata\\roaming\\python\\python311\\site-packages (from ipywidgets<8,>=7.4.0->escher>=1.1.2->cameo) (8.15.0)\n",
      "Requirement already satisfied: jupyterlab-widgets<3,>=1.0.0 in c:\\users\\andre\\appdata\\local\\programs\\python\\python311\\lib\\site-packages (from ipywidgets<8,>=7.4.0->escher>=1.1.2->cameo) (1.1.7)\n",
      "Requirement already satisfied: MarkupSafe>=0.23 in c:\\users\\andre\\appdata\\roaming\\python\\python311\\site-packages (from Jinja2<3,>=2.7.3->escher>=1.1.2->cameo) (2.0.1)\n",
      "Requirement already satisfied: attrs>=17.4.0 in c:\\users\\andre\\appdata\\local\\programs\\python\\python311\\lib\\site-packages (from jsonschema<4,>=3.0.1->escher>=1.1.2->cameo) (23.1.0)\n",
      "Requirement already satisfied: pyrsistent>=0.14.0 in c:\\users\\andre\\appdata\\local\\programs\\python\\python311\\lib\\site-packages (from jsonschema<4,>=3.0.1->escher>=1.1.2->cameo) (0.20.0)\n",
      "Requirement already satisfied: setuptools in c:\\users\\andre\\appdata\\local\\programs\\python\\python311\\lib\\site-packages (from jsonschema<4,>=3.0.1->escher>=1.1.2->cameo) (65.5.0)\n",
      "Requirement already satisfied: annotated-types>=0.4.0 in c:\\users\\andre\\appdata\\local\\programs\\python\\python311\\lib\\site-packages (from pydantic>=1.6->cobra>=0.11.1->cameo) (0.6.0)\n",
      "Requirement already satisfied: pydantic-core==2.10.1 in c:\\users\\andre\\appdata\\local\\programs\\python\\python311\\lib\\site-packages (from pydantic>=1.6->cobra>=0.11.1->cameo) (2.10.1)\n",
      "Requirement already satisfied: typing-extensions>=4.6.1 in c:\\users\\andre\\appdata\\local\\programs\\python\\python311\\lib\\site-packages (from pydantic>=1.6->cobra>=0.11.1->cameo) (4.8.0)\n",
      "Requirement already satisfied: py>=1.5.0 in c:\\users\\andre\\appdata\\local\\programs\\python\\python311\\lib\\site-packages (from pytest<5,>=4.0.1->escher>=1.1.2->cameo) (1.11.0)\n",
      "Requirement already satisfied: packaging in c:\\users\\andre\\appdata\\roaming\\python\\python311\\site-packages (from pytest<5,>=4.0.1->escher>=1.1.2->cameo) (23.1)\n",
      "Requirement already satisfied: atomicwrites>=1.0 in c:\\users\\andre\\appdata\\local\\programs\\python\\python311\\lib\\site-packages (from pytest<5,>=4.0.1->escher>=1.1.2->cameo) (1.4.1)\n",
      "Requirement already satisfied: pluggy<1.0,>=0.12 in c:\\users\\andre\\appdata\\local\\programs\\python\\python311\\lib\\site-packages (from pytest<5,>=4.0.1->escher>=1.1.2->cameo) (0.13.1)\n",
      "Requirement already satisfied: wcwidth in c:\\users\\andre\\appdata\\roaming\\python\\python311\\site-packages (from pytest<5,>=4.0.1->escher>=1.1.2->cameo) (0.2.6)\n",
      "Requirement already satisfied: more-itertools>=4.0.0 in c:\\users\\andre\\appdata\\local\\programs\\python\\python311\\lib\\site-packages (from pytest<5,>=4.0.1->escher>=1.1.2->cameo) (10.1.0)\n",
      "Requirement already satisfied: markdown-it-py>=2.2.0 in c:\\users\\andre\\appdata\\local\\programs\\python\\python311\\lib\\site-packages (from rich>=8.0->cobra>=0.11.1->cameo) (3.0.0)\n",
      "Requirement already satisfied: pygments<3.0.0,>=2.13.0 in c:\\users\\andre\\appdata\\roaming\\python\\python311\\site-packages (from rich>=8.0->cobra>=0.11.1->cameo) (2.16.1)\n",
      "Requirement already satisfied: ruamel.yaml.clib>=0.2.7 in c:\\users\\andre\\appdata\\local\\programs\\python\\python311\\lib\\site-packages (from ruamel.yaml~=0.16->cobra>=0.11.1->cameo) (0.2.8)\n",
      "Requirement already satisfied: mpmath>=0.19 in c:\\users\\andre\\appdata\\local\\programs\\python\\python311\\lib\\site-packages (from sympy>=1.12.0->optlang>=1.4.2->cameo) (1.3.0)\n",
      "Requirement already satisfied: anyio<5.0,>=3.0 in c:\\users\\andre\\appdata\\local\\programs\\python\\python311\\lib\\site-packages (from httpcore<0.19.0,>=0.18.0->httpx~=0.24->cobra>=0.11.1->cameo) (4.0.0)\n",
      "Requirement already satisfied: h11<0.15,>=0.13 in c:\\users\\andre\\appdata\\local\\programs\\python\\python311\\lib\\site-packages (from httpcore<0.19.0,>=0.18.0->httpx~=0.24->cobra>=0.11.1->cameo) (0.14.0)\n",
      "Requirement already satisfied: backcall in c:\\users\\andre\\appdata\\roaming\\python\\python311\\site-packages (from ipython>=4.0.0->ipywidgets<8,>=7.4.0->escher>=1.1.2->cameo) (0.2.0)\n",
      "Requirement already satisfied: decorator in c:\\users\\andre\\appdata\\roaming\\python\\python311\\site-packages (from ipython>=4.0.0->ipywidgets<8,>=7.4.0->escher>=1.1.2->cameo) (5.1.1)\n",
      "Requirement already satisfied: jedi>=0.16 in c:\\users\\andre\\appdata\\roaming\\python\\python311\\site-packages (from ipython>=4.0.0->ipywidgets<8,>=7.4.0->escher>=1.1.2->cameo) (0.19.0)\n",
      "Requirement already satisfied: matplotlib-inline in c:\\users\\andre\\appdata\\roaming\\python\\python311\\site-packages (from ipython>=4.0.0->ipywidgets<8,>=7.4.0->escher>=1.1.2->cameo) (0.1.6)\n",
      "Requirement already satisfied: pickleshare in c:\\users\\andre\\appdata\\roaming\\python\\python311\\site-packages (from ipython>=4.0.0->ipywidgets<8,>=7.4.0->escher>=1.1.2->cameo) (0.7.5)\n",
      "Requirement already satisfied: prompt-toolkit!=3.0.37,<3.1.0,>=3.0.30 in c:\\users\\andre\\appdata\\roaming\\python\\python311\\site-packages (from ipython>=4.0.0->ipywidgets<8,>=7.4.0->escher>=1.1.2->cameo) (3.0.39)\n",
      "Requirement already satisfied: stack-data in c:\\users\\andre\\appdata\\roaming\\python\\python311\\site-packages (from ipython>=4.0.0->ipywidgets<8,>=7.4.0->escher>=1.1.2->cameo) (0.6.2)\n",
      "Requirement already satisfied: mdurl~=0.1 in c:\\users\\andre\\appdata\\local\\programs\\python\\python311\\lib\\site-packages (from markdown-it-py>=2.2.0->rich>=8.0->cobra>=0.11.1->cameo) (0.1.2)\n",
      "Requirement already satisfied: notebook>=4.4.1 in c:\\users\\andre\\appdata\\local\\programs\\python\\python311\\lib\\site-packages (from widgetsnbextension~=3.6.6->ipywidgets<8,>=7.4.0->escher>=1.1.2->cameo) (6.5.6)\n",
      "Requirement already satisfied: parso<0.9.0,>=0.8.3 in c:\\users\\andre\\appdata\\roaming\\python\\python311\\site-packages (from jedi>=0.16->ipython>=4.0.0->ipywidgets<8,>=7.4.0->escher>=1.1.2->cameo) (0.8.3)\n",
      "Requirement already satisfied: tornado>=6.1 in c:\\users\\andre\\appdata\\roaming\\python\\python311\\site-packages (from notebook>=4.4.1->widgetsnbextension~=3.6.6->ipywidgets<8,>=7.4.0->escher>=1.1.2->cameo) (6.3.3)\n",
      "Requirement already satisfied: pyzmq<25,>=17 in c:\\users\\andre\\appdata\\local\\programs\\python\\python311\\lib\\site-packages (from notebook>=4.4.1->widgetsnbextension~=3.6.6->ipywidgets<8,>=7.4.0->escher>=1.1.2->cameo) (24.0.1)\n",
      "Requirement already satisfied: argon2-cffi in c:\\users\\andre\\appdata\\local\\programs\\python\\python311\\lib\\site-packages (from notebook>=4.4.1->widgetsnbextension~=3.6.6->ipywidgets<8,>=7.4.0->escher>=1.1.2->cameo) (23.1.0)\n",
      "Requirement already satisfied: jupyter-core>=4.6.1 in c:\\users\\andre\\appdata\\roaming\\python\\python311\\site-packages (from notebook>=4.4.1->widgetsnbextension~=3.6.6->ipywidgets<8,>=7.4.0->escher>=1.1.2->cameo) (5.3.1)\n",
      "Requirement already satisfied: jupyter-client<8,>=5.3.4 in c:\\users\\andre\\appdata\\local\\programs\\python\\python311\\lib\\site-packages (from notebook>=4.4.1->widgetsnbextension~=3.6.6->ipywidgets<8,>=7.4.0->escher>=1.1.2->cameo) (7.4.9)\n",
      "Requirement already satisfied: nbformat in c:\\users\\andre\\appdata\\local\\programs\\python\\python311\\lib\\site-packages (from notebook>=4.4.1->widgetsnbextension~=3.6.6->ipywidgets<8,>=7.4.0->escher>=1.1.2->cameo) (5.9.2)\n",
      "Requirement already satisfied: nbconvert>=5 in c:\\users\\andre\\appdata\\local\\programs\\python\\python311\\lib\\site-packages (from notebook>=4.4.1->widgetsnbextension~=3.6.6->ipywidgets<8,>=7.4.0->escher>=1.1.2->cameo) (6.4.5)\n",
      "Requirement already satisfied: nest-asyncio>=1.5 in c:\\users\\andre\\appdata\\roaming\\python\\python311\\site-packages (from notebook>=4.4.1->widgetsnbextension~=3.6.6->ipywidgets<8,>=7.4.0->escher>=1.1.2->cameo) (1.5.8)\n",
      "Requirement already satisfied: ipykernel in c:\\users\\andre\\appdata\\roaming\\python\\python311\\site-packages (from notebook>=4.4.1->widgetsnbextension~=3.6.6->ipywidgets<8,>=7.4.0->escher>=1.1.2->cameo) (6.25.2)\n",
      "Requirement already satisfied: Send2Trash>=1.8.0 in c:\\users\\andre\\appdata\\local\\programs\\python\\python311\\lib\\site-packages (from notebook>=4.4.1->widgetsnbextension~=3.6.6->ipywidgets<8,>=7.4.0->escher>=1.1.2->cameo) (1.8.2)\n",
      "Requirement already satisfied: terminado>=0.8.3 in c:\\users\\andre\\appdata\\local\\programs\\python\\python311\\lib\\site-packages (from notebook>=4.4.1->widgetsnbextension~=3.6.6->ipywidgets<8,>=7.4.0->escher>=1.1.2->cameo) (0.18.0)\n",
      "Requirement already satisfied: prometheus-client in c:\\users\\andre\\appdata\\local\\programs\\python\\python311\\lib\\site-packages (from notebook>=4.4.1->widgetsnbextension~=3.6.6->ipywidgets<8,>=7.4.0->escher>=1.1.2->cameo) (0.18.0)\n",
      "Requirement already satisfied: nbclassic>=0.4.7 in c:\\users\\andre\\appdata\\local\\programs\\python\\python311\\lib\\site-packages (from notebook>=4.4.1->widgetsnbextension~=3.6.6->ipywidgets<8,>=7.4.0->escher>=1.1.2->cameo) (1.0.0)\n",
      "Requirement already satisfied: executing>=1.2.0 in c:\\users\\andre\\appdata\\roaming\\python\\python311\\site-packages (from stack-data->ipython>=4.0.0->ipywidgets<8,>=7.4.0->escher>=1.1.2->cameo) (1.2.0)\n",
      "Requirement already satisfied: asttokens>=2.1.0 in c:\\users\\andre\\appdata\\roaming\\python\\python311\\site-packages (from stack-data->ipython>=4.0.0->ipywidgets<8,>=7.4.0->escher>=1.1.2->cameo) (2.4.0)\n",
      "Requirement already satisfied: pure-eval in c:\\users\\andre\\appdata\\roaming\\python\\python311\\site-packages (from stack-data->ipython>=4.0.0->ipywidgets<8,>=7.4.0->escher>=1.1.2->cameo) (0.2.2)\n",
      "Requirement already satisfied: entrypoints in c:\\users\\andre\\appdata\\local\\programs\\python\\python311\\lib\\site-packages (from jupyter-client<8,>=5.3.4->notebook>=4.4.1->widgetsnbextension~=3.6.6->ipywidgets<8,>=7.4.0->escher>=1.1.2->cameo) (0.4)\n",
      "Requirement already satisfied: platformdirs>=2.5 in c:\\users\\andre\\appdata\\roaming\\python\\python311\\site-packages (from jupyter-core>=4.6.1->notebook>=4.4.1->widgetsnbextension~=3.6.6->ipywidgets<8,>=7.4.0->escher>=1.1.2->cameo) (3.10.0)\n",
      "Requirement already satisfied: pywin32>=300 in c:\\users\\andre\\appdata\\roaming\\python\\python311\\site-packages (from jupyter-core>=4.6.1->notebook>=4.4.1->widgetsnbextension~=3.6.6->ipywidgets<8,>=7.4.0->escher>=1.1.2->cameo) (306)\n",
      "Requirement already satisfied: jupyter-server>=1.8 in c:\\users\\andre\\appdata\\local\\programs\\python\\python311\\lib\\site-packages (from nbclassic>=0.4.7->notebook>=4.4.1->widgetsnbextension~=3.6.6->ipywidgets<8,>=7.4.0->escher>=1.1.2->cameo) (2.10.0)\n",
      "Requirement already satisfied: notebook-shim>=0.2.3 in c:\\users\\andre\\appdata\\local\\programs\\python\\python311\\lib\\site-packages (from nbclassic>=0.4.7->notebook>=4.4.1->widgetsnbextension~=3.6.6->ipywidgets<8,>=7.4.0->escher>=1.1.2->cameo) (0.2.3)\n",
      "Requirement already satisfied: mistune<2,>=0.8.1 in c:\\users\\andre\\appdata\\local\\programs\\python\\python311\\lib\\site-packages (from nbconvert>=5->notebook>=4.4.1->widgetsnbextension~=3.6.6->ipywidgets<8,>=7.4.0->escher>=1.1.2->cameo) (0.8.4)\n",
      "Requirement already satisfied: jupyterlab-pygments in c:\\users\\andre\\appdata\\local\\programs\\python\\python311\\lib\\site-packages (from nbconvert>=5->notebook>=4.4.1->widgetsnbextension~=3.6.6->ipywidgets<8,>=7.4.0->escher>=1.1.2->cameo) (0.2.2)\n",
      "Requirement already satisfied: bleach in c:\\users\\andre\\appdata\\local\\programs\\python\\python311\\lib\\site-packages (from nbconvert>=5->notebook>=4.4.1->widgetsnbextension~=3.6.6->ipywidgets<8,>=7.4.0->escher>=1.1.2->cameo) (6.1.0)\n",
      "Requirement already satisfied: pandocfilters>=1.4.1 in c:\\users\\andre\\appdata\\local\\programs\\python\\python311\\lib\\site-packages (from nbconvert>=5->notebook>=4.4.1->widgetsnbextension~=3.6.6->ipywidgets<8,>=7.4.0->escher>=1.1.2->cameo) (1.5.0)\n",
      "Requirement already satisfied: testpath in c:\\users\\andre\\appdata\\local\\programs\\python\\python311\\lib\\site-packages (from nbconvert>=5->notebook>=4.4.1->widgetsnbextension~=3.6.6->ipywidgets<8,>=7.4.0->escher>=1.1.2->cameo) (0.6.0)\n",
      "Requirement already satisfied: defusedxml in c:\\users\\andre\\appdata\\local\\programs\\python\\python311\\lib\\site-packages (from nbconvert>=5->notebook>=4.4.1->widgetsnbextension~=3.6.6->ipywidgets<8,>=7.4.0->escher>=1.1.2->cameo) (0.7.1)\n",
      "Requirement already satisfied: beautifulsoup4 in c:\\users\\andre\\appdata\\local\\programs\\python\\python311\\lib\\site-packages (from nbconvert>=5->notebook>=4.4.1->widgetsnbextension~=3.6.6->ipywidgets<8,>=7.4.0->escher>=1.1.2->cameo) (4.12.2)\n",
      "Requirement already satisfied: nbclient<0.6.0,>=0.5.0 in c:\\users\\andre\\appdata\\local\\programs\\python\\python311\\lib\\site-packages (from nbconvert>=5->notebook>=4.4.1->widgetsnbextension~=3.6.6->ipywidgets<8,>=7.4.0->escher>=1.1.2->cameo) (0.5.13)\n",
      "Requirement already satisfied: fastjsonschema in c:\\users\\andre\\appdata\\local\\programs\\python\\python311\\lib\\site-packages (from nbformat->notebook>=4.4.1->widgetsnbextension~=3.6.6->ipywidgets<8,>=7.4.0->escher>=1.1.2->cameo) (2.18.1)\n",
      "Requirement already satisfied: pywinpty>=1.1.0 in c:\\users\\andre\\appdata\\local\\programs\\python\\python311\\lib\\site-packages (from terminado>=0.8.3->notebook>=4.4.1->widgetsnbextension~=3.6.6->ipywidgets<8,>=7.4.0->escher>=1.1.2->cameo) (2.0.12)\n",
      "Requirement already satisfied: argon2-cffi-bindings in c:\\users\\andre\\appdata\\local\\programs\\python\\python311\\lib\\site-packages (from argon2-cffi->notebook>=4.4.1->widgetsnbextension~=3.6.6->ipywidgets<8,>=7.4.0->escher>=1.1.2->cameo) (21.2.0)\n",
      "Requirement already satisfied: debugpy>=1.6.5 in c:\\users\\andre\\appdata\\roaming\\python\\python311\\site-packages (from ipykernel->notebook>=4.4.1->widgetsnbextension~=3.6.6->ipywidgets<8,>=7.4.0->escher>=1.1.2->cameo) (1.8.0)\n",
      "Requirement already satisfied: psutil in c:\\users\\andre\\appdata\\roaming\\python\\python311\\site-packages (from ipykernel->notebook>=4.4.1->widgetsnbextension~=3.6.6->ipywidgets<8,>=7.4.0->escher>=1.1.2->cameo) (5.9.5)\n",
      "Requirement already satisfied: jupyter-events>=0.6.0 in c:\\users\\andre\\appdata\\local\\programs\\python\\python311\\lib\\site-packages (from jupyter-server>=1.8->nbclassic>=0.4.7->notebook>=4.4.1->widgetsnbextension~=3.6.6->ipywidgets<8,>=7.4.0->escher>=1.1.2->cameo) (0.6.3)\n",
      "Requirement already satisfied: jupyter-server-terminals in c:\\users\\andre\\appdata\\local\\programs\\python\\python311\\lib\\site-packages (from jupyter-server>=1.8->nbclassic>=0.4.7->notebook>=4.4.1->widgetsnbextension~=3.6.6->ipywidgets<8,>=7.4.0->escher>=1.1.2->cameo) (0.4.4)\n",
      "Requirement already satisfied: overrides in c:\\users\\andre\\appdata\\local\\programs\\python\\python311\\lib\\site-packages (from jupyter-server>=1.8->nbclassic>=0.4.7->notebook>=4.4.1->widgetsnbextension~=3.6.6->ipywidgets<8,>=7.4.0->escher>=1.1.2->cameo) (7.4.0)\n",
      "Requirement already satisfied: websocket-client in c:\\users\\andre\\appdata\\local\\programs\\python\\python311\\lib\\site-packages (from jupyter-server>=1.8->nbclassic>=0.4.7->notebook>=4.4.1->widgetsnbextension~=3.6.6->ipywidgets<8,>=7.4.0->escher>=1.1.2->cameo) (1.6.4)\n",
      "Requirement already satisfied: cffi>=1.0.1 in c:\\users\\andre\\appdata\\local\\programs\\python\\python311\\lib\\site-packages (from argon2-cffi-bindings->argon2-cffi->notebook>=4.4.1->widgetsnbextension~=3.6.6->ipywidgets<8,>=7.4.0->escher>=1.1.2->cameo) (1.16.0)\n",
      "Requirement already satisfied: soupsieve>1.2 in c:\\users\\andre\\appdata\\local\\programs\\python\\python311\\lib\\site-packages (from beautifulsoup4->nbconvert>=5->notebook>=4.4.1->widgetsnbextension~=3.6.6->ipywidgets<8,>=7.4.0->escher>=1.1.2->cameo) (2.5)\n",
      "Requirement already satisfied: webencodings in c:\\users\\andre\\appdata\\local\\programs\\python\\python311\\lib\\site-packages (from bleach->nbconvert>=5->notebook>=4.4.1->widgetsnbextension~=3.6.6->ipywidgets<8,>=7.4.0->escher>=1.1.2->cameo) (0.5.1)\n",
      "Requirement already satisfied: pycparser in c:\\users\\andre\\appdata\\local\\programs\\python\\python311\\lib\\site-packages (from cffi>=1.0.1->argon2-cffi-bindings->argon2-cffi->notebook>=4.4.1->widgetsnbextension~=3.6.6->ipywidgets<8,>=7.4.0->escher>=1.1.2->cameo) (2.21)\n",
      "Requirement already satisfied: python-json-logger>=2.0.4 in c:\\users\\andre\\appdata\\local\\programs\\python\\python311\\lib\\site-packages (from jupyter-events>=0.6.0->jupyter-server>=1.8->nbclassic>=0.4.7->notebook>=4.4.1->widgetsnbextension~=3.6.6->ipywidgets<8,>=7.4.0->escher>=1.1.2->cameo) (2.0.7)\n",
      "Requirement already satisfied: pyyaml>=5.3 in c:\\users\\andre\\appdata\\local\\programs\\python\\python311\\lib\\site-packages (from jupyter-events>=0.6.0->jupyter-server>=1.8->nbclassic>=0.4.7->notebook>=4.4.1->widgetsnbextension~=3.6.6->ipywidgets<8,>=7.4.0->escher>=1.1.2->cameo) (6.0.1)\n",
      "Requirement already satisfied: rfc3339-validator in c:\\users\\andre\\appdata\\local\\programs\\python\\python311\\lib\\site-packages (from jupyter-events>=0.6.0->jupyter-server>=1.8->nbclassic>=0.4.7->notebook>=4.4.1->widgetsnbextension~=3.6.6->ipywidgets<8,>=7.4.0->escher>=1.1.2->cameo) (0.1.4)\n",
      "Requirement already satisfied: rfc3986-validator>=0.1.1 in c:\\users\\andre\\appdata\\local\\programs\\python\\python311\\lib\\site-packages (from jupyter-events>=0.6.0->jupyter-server>=1.8->nbclassic>=0.4.7->notebook>=4.4.1->widgetsnbextension~=3.6.6->ipywidgets<8,>=7.4.0->escher>=1.1.2->cameo) (0.1.1)\n",
      "Note: you may need to restart the kernel to use updated packages.\n"
     ]
    }
   ],
   "source": [
    "pip install --upgrade cameo"
   ]
  },
  {
   "cell_type": "code",
   "execution_count": 14,
   "metadata": {},
   "outputs": [
    {
     "name": "stdout",
     "output_type": "stream",
     "text": [
      "Requirement already satisfied: markupsafe==2.0.1 in c:\\users\\andre\\appdata\\roaming\\python\\python311\\site-packages (2.0.1)\n",
      "Note: you may need to restart the kernel to use updated packages.\n"
     ]
    }
   ],
   "source": [
    "pip install markupsafe==2.0.1"
   ]
  },
  {
   "cell_type": "code",
   "execution_count": 15,
   "metadata": {},
   "outputs": [],
   "source": [
    "from collections.abc import Mapping\n"
   ]
  },
  {
   "cell_type": "code",
   "execution_count": 16,
   "metadata": {},
   "outputs": [],
   "source": [
    "from cameo.strain_design import pathway_prediction"
   ]
  },
  {
   "cell_type": "code",
   "execution_count": 12,
   "metadata": {},
   "outputs": [],
   "source": [
    "predictor = pathway_prediction.PathwayPredictor(model)\n",
    "pathways = predictor.run(product=\"eth_c\", max_predictions=4)"
   ]
  }
 ],
 "metadata": {
  "kernelspec": {
   "display_name": "Python 3",
   "language": "python",
   "name": "python3"
  },
  "language_info": {
   "codemirror_mode": {
    "name": "ipython",
    "version": 3
   },
   "file_extension": ".py",
   "mimetype": "text/x-python",
   "name": "python",
   "nbconvert_exporter": "python",
   "pygments_lexer": "ipython3",
   "version": "3.11.5"
  }
 },
 "nbformat": 4,
 "nbformat_minor": 2
}
