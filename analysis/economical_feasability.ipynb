{
 "cells": [
  {
   "cell_type": "code",
   "execution_count": 11,
   "metadata": {},
   "outputs": [],
   "source": [
    "molarmass_glucose = 180 #g/mol\n",
    "molarmass_ethylene = 20 #g/mol\n",
    "molarmass_sucrose = 342.3 #g/mol\n",
    "\n",
    "yield_molar_ethylene_glucose = 5.8 #mol_eth/mol_glc\n",
    "yield_molar_ethylene_sucrose = 6.93 #mol_eth/mol_sucr\n",
    "yield_weight_ethylene_glucose = yield_molar_ethylene_glucose*(molarmass_ethylene/molarmass_glucose) #g_eth/g_glc\n",
    "yield_weight_ethylene_sucrose = yield_molar_ethylene_sucrose*(molarmass_ethylene/molarmass_sucrose) #g_eth/g_sucr\n",
    "\n",
    "tank_volume = 50000 #L, assumption\n",
    "concentration_sucrose = 80 #g/L, assumption\n",
    "concentration_glucose = 80 #g/L, assumption\n",
    "concentration_yeastextract = 40 #g/L, assumption\n",
    "\n",
    "price_yeastextract = 15 #€/kg, assumption\n",
    "price_glucose = 10 #€/kg, assumption\n",
    "price_sucrose = 10 #€/kg, assumption\n",
    "price_ethylene = 1.034 #€/kg, assumption\n",
    "\n",
    "cost_rawingredients_sucrose = concentration_sucrose*tank_volume*price_sucrose+concentration_yeastextract*tank_volume*price_yeastextract #€\n",
    "cost_rawingredients_glucose = concentration_glucose*tank_volume*price_glucose+concentration_yeastextract*tank_volume*price_yeastextract #€\n",
    "\n",
    "yield_ethylene_glucosetank = yield_weight_ethylene_glucose*(concentration_glucose*tank_volume)/1000 #kg\n",
    "yield_ethylene_sucrosetank = yield_weight_ethylene_sucrose*(concentration_sucrose*tank_volume)/1000 #kg\n",
    "\n",
    "income_ethylene_glucose = yield_ethylene_glucosetank*price_ethylene #€\n",
    "income_ethylene_sucrose = yield_ethylene_sucrosetank*price_ethylene #€\n"
   ]
  },
  {
   "cell_type": "code",
   "execution_count": 13,
   "metadata": {},
   "outputs": [
    {
     "name": "stdout",
     "output_type": "stream",
     "text": [
      "2665.422222222222\n",
      "1674.6993865030677\n"
     ]
    }
   ],
   "source": [
    "print(income_ethylene_glucose)\n",
    "print(income_ethylene_sucrose)"
   ]
  },
  {
   "cell_type": "code",
   "execution_count": null,
   "metadata": {},
   "outputs": [],
   "source": []
  }
 ],
 "metadata": {
  "kernelspec": {
   "display_name": "Python 3",
   "language": "python",
   "name": "python3"
  },
  "language_info": {
   "codemirror_mode": {
    "name": "ipython",
    "version": 3
   },
   "file_extension": ".py",
   "mimetype": "text/x-python",
   "name": "python",
   "nbconvert_exporter": "python",
   "pygments_lexer": "ipython3",
   "version": "3.10.13"
  }
 },
 "nbformat": 4,
 "nbformat_minor": 2
}
