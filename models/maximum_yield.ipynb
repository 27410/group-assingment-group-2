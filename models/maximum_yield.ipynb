{
 "cells": [
  {
   "cell_type": "code",
   "execution_count": 6,
   "metadata": {},
   "outputs": [
    {
     "name": "stdout",
     "output_type": "stream",
     "text": [
      "Requirement already satisfied: cobra in /usr/local/python/3.10.13/lib/python3.10/site-packages (0.29.0)\n",
      "Requirement already satisfied: appdirs~=1.4 in /usr/local/python/3.10.13/lib/python3.10/site-packages (from cobra) (1.4.4)\n",
      "Requirement already satisfied: depinfo~=2.2 in /usr/local/python/3.10.13/lib/python3.10/site-packages (from cobra) (2.2.0)\n",
      "Requirement already satisfied: diskcache~=5.0 in /usr/local/python/3.10.13/lib/python3.10/site-packages (from cobra) (5.6.3)\n",
      "Requirement already satisfied: future in /usr/local/python/3.10.13/lib/python3.10/site-packages (from cobra) (0.18.3)\n",
      "Requirement already satisfied: httpx~=0.24 in /usr/local/python/3.10.13/lib/python3.10/site-packages (from cobra) (0.25.2)\n",
      "Requirement already satisfied: importlib-resources in /usr/local/python/3.10.13/lib/python3.10/site-packages (from cobra) (6.1.1)\n",
      "Requirement already satisfied: numpy>=1.13 in /home/codespace/.local/lib/python3.10/site-packages (from cobra) (1.26.2)\n",
      "Requirement already satisfied: optlang~=1.8 in /usr/local/python/3.10.13/lib/python3.10/site-packages (from cobra) (1.8.1)\n",
      "Requirement already satisfied: pandas<3.0,>=1.0 in /home/codespace/.local/lib/python3.10/site-packages (from cobra) (2.1.3)\n",
      "Requirement already satisfied: pydantic>=1.6 in /usr/local/python/3.10.13/lib/python3.10/site-packages (from cobra) (2.5.2)\n",
      "Requirement already satisfied: python-libsbml~=5.19 in /usr/local/python/3.10.13/lib/python3.10/site-packages (from cobra) (5.20.2)\n",
      "Requirement already satisfied: rich>=8.0 in /usr/local/python/3.10.13/lib/python3.10/site-packages (from cobra) (13.7.0)\n",
      "Requirement already satisfied: ruamel.yaml~=0.16 in /usr/local/python/3.10.13/lib/python3.10/site-packages (from cobra) (0.18.5)\n",
      "Requirement already satisfied: swiglpk in /usr/local/python/3.10.13/lib/python3.10/site-packages (from cobra) (5.0.10)\n",
      "Requirement already satisfied: anyio in /home/codespace/.local/lib/python3.10/site-packages (from httpx~=0.24->cobra) (4.0.0)\n",
      "Requirement already satisfied: certifi in /home/codespace/.local/lib/python3.10/site-packages (from httpx~=0.24->cobra) (2023.7.22)\n",
      "Requirement already satisfied: httpcore==1.* in /usr/local/python/3.10.13/lib/python3.10/site-packages (from httpx~=0.24->cobra) (1.0.2)\n",
      "Requirement already satisfied: idna in /home/codespace/.local/lib/python3.10/site-packages (from httpx~=0.24->cobra) (3.4)\n",
      "Requirement already satisfied: sniffio in /home/codespace/.local/lib/python3.10/site-packages (from httpx~=0.24->cobra) (1.3.0)\n",
      "Requirement already satisfied: h11<0.15,>=0.13 in /usr/local/python/3.10.13/lib/python3.10/site-packages (from httpcore==1.*->httpx~=0.24->cobra) (0.14.0)\n",
      "Requirement already satisfied: six>=1.9 in /home/codespace/.local/lib/python3.10/site-packages (from optlang~=1.8->cobra) (1.16.0)\n",
      "Requirement already satisfied: sympy>=1.12.0 in /home/codespace/.local/lib/python3.10/site-packages (from optlang~=1.8->cobra) (1.12)\n",
      "Requirement already satisfied: python-dateutil>=2.8.2 in /home/codespace/.local/lib/python3.10/site-packages (from pandas<3.0,>=1.0->cobra) (2.8.2)\n",
      "Requirement already satisfied: pytz>=2020.1 in /home/codespace/.local/lib/python3.10/site-packages (from pandas<3.0,>=1.0->cobra) (2023.3.post1)\n",
      "Requirement already satisfied: tzdata>=2022.1 in /home/codespace/.local/lib/python3.10/site-packages (from pandas<3.0,>=1.0->cobra) (2023.3)\n",
      "Requirement already satisfied: annotated-types>=0.4.0 in /usr/local/python/3.10.13/lib/python3.10/site-packages (from pydantic>=1.6->cobra) (0.6.0)\n",
      "Requirement already satisfied: pydantic-core==2.14.5 in /usr/local/python/3.10.13/lib/python3.10/site-packages (from pydantic>=1.6->cobra) (2.14.5)\n",
      "Requirement already satisfied: typing-extensions>=4.6.1 in /home/codespace/.local/lib/python3.10/site-packages (from pydantic>=1.6->cobra) (4.8.0)\n",
      "Requirement already satisfied: markdown-it-py>=2.2.0 in /usr/local/python/3.10.13/lib/python3.10/site-packages (from rich>=8.0->cobra) (3.0.0)\n",
      "Requirement already satisfied: pygments<3.0.0,>=2.13.0 in /home/codespace/.local/lib/python3.10/site-packages (from rich>=8.0->cobra) (2.16.1)\n",
      "Requirement already satisfied: ruamel.yaml.clib>=0.2.7 in /usr/local/python/3.10.13/lib/python3.10/site-packages (from ruamel.yaml~=0.16->cobra) (0.2.8)\n",
      "Requirement already satisfied: mdurl~=0.1 in /usr/local/python/3.10.13/lib/python3.10/site-packages (from markdown-it-py>=2.2.0->rich>=8.0->cobra) (0.1.2)\n",
      "Requirement already satisfied: mpmath>=0.19 in /home/codespace/.local/lib/python3.10/site-packages (from sympy>=1.12.0->optlang~=1.8->cobra) (1.3.0)\n",
      "Requirement already satisfied: exceptiongroup>=1.0.2 in /home/codespace/.local/lib/python3.10/site-packages (from anyio->httpx~=0.24->cobra) (1.1.3)\n",
      "Note: you may need to restart the kernel to use updated packages.\n",
      "Maximize\n",
      "1.0*BIOMASS_Ec_iJO1366_core_53p95M - 1.0*BIOMASS_Ec_iJO1366_core_53p95M_reverse_5c8b1\n"
     ]
    }
   ],
   "source": [
    "%run iJO1366_V0.ipynb"
   ]
  },
  {
   "cell_type": "code",
   "execution_count": 9,
   "metadata": {},
   "outputs": [
    {
     "data": {
      "text/plain": [
       "<bound method Model.summary of <Model iJO1366 at 0x7f958c1ae6b0>>"
      ]
     },
     "execution_count": 9,
     "metadata": {},
     "output_type": "execute_result"
    }
   ],
   "source": [
    "model.objective = model.reactions.EFE_m\n",
    "model.summary"
   ]
  },
  {
   "cell_type": "markdown",
   "metadata": {},
   "source": [
    "In this part we calculate the maximum yield of Ethylene per C-source. This is done with the baseline media, the optimized sucrose media as well as the optimized glucose media.\n",
    "\n",
    "Setting the Model objective to be the transport of Ethylene out of the cell. Then calculating the ratio of mmol of Ethylene per mmol of Glucose (Maximum Yield when Glucose is used):"
   ]
  },
  {
   "cell_type": "code",
   "execution_count": 3,
   "metadata": {},
   "outputs": [
    {
     "name": "stdout",
     "output_type": "stream",
     "text": [
      "Maximum productivity = 12.780573951434869 mmol/gDW*h\n",
      "Maximum theoretical yield with baseline media= 1.2780573951434868 mmol-eth/mmol-glc\n"
     ]
    }
   ],
   "source": [
    "model.objective = model.reactions.eth_tp\n",
    "eth_production = model.optimize().objective_value\n",
    "print('Maximum productivity =', eth_production, 'mmol/gDW*h')\n",
    "   \n",
    "eth_maximum_yield = eth_production / (-1*(model.reactions.EX_glc__D_e.flux))\n",
    "print('Maximum theoretical yield with baseline media=', eth_maximum_yield, 'mmol-eth/mmol-glc')"
   ]
  },
  {
   "cell_type": "markdown",
   "metadata": {},
   "source": [
    "Defining the Conversion factors (CF):"
   ]
  },
  {
   "cell_type": "code",
   "execution_count": 4,
   "metadata": {},
   "outputs": [],
   "source": [
    "CF_eth = 2 # Cmol to mol conversion factor (CF) of ethylene\n",
    "CF_glc = 6 # Cmol to mol conversion factor (CF) of glucose\n",
    "CF_sucr = 12 # Cmol to mol conversion factor (CF) of sucrose"
   ]
  },
  {
   "cell_type": "markdown",
   "metadata": {},
   "source": [
    "Calculating the Maximum Yield in cmol:"
   ]
  },
  {
   "cell_type": "code",
   "execution_count": 5,
   "metadata": {},
   "outputs": [
    {
     "name": "stdout",
     "output_type": "stream",
     "text": [
      "Maximum theoretical cmol yield = 0.4260191317144956 cmol-eth/cmol-glc\n"
     ]
    }
   ],
   "source": [
    "eth_production_cmol = (eth_maximum_yield*CF_eth)/(1*CF_glc)\n",
    "print('Maximum theoretical cmol yield =', eth_production_cmol, 'cmol-eth/cmol-glc')"
   ]
  },
  {
   "cell_type": "markdown",
   "metadata": {},
   "source": [
    "Changing the Media to the optimized version (see media_optimization), then calculating the maximum yield:"
   ]
  },
  {
   "cell_type": "code",
   "execution_count": 5,
   "metadata": {},
   "outputs": [
    {
     "name": "stdout",
     "output_type": "stream",
     "text": [
      "Maximum productivity = 277.0509433962265 mmol/gDW*h\n",
      "Maximum theoretical yield with sucrose optimized media= 6.926273584905663 mmol-eth/mmol-sucr\n",
      "Maximum theoretical cmol yield for sucrose opt. media= 1.1543789308176104 cmol-psi/cmol-sucr\n"
     ]
    }
   ],
   "source": [
    "YEPDmedium = model.medium\n",
    "YEPDmedium['EX_glc__D_e'] = 0\n",
    "YEPDmedium['EX_sucr_e'] = 40\n",
    "YEPDmedium['EX_ala__L_e'] = 20\n",
    "YEPDmedium['EX_arg__L_e'] = 20\n",
    "YEPDmedium['EX_asn__L_e'] = 20\n",
    "YEPDmedium['EX_cys__L_e'] = 20\n",
    "YEPDmedium['EX_gln__L_e'] = 20\n",
    "YEPDmedium['EX_glu__L_e'] = 20\n",
    "YEPDmedium['EX_gly_e'] = 0\n",
    "YEPDmedium['EX_his__L_e'] = 0\n",
    "YEPDmedium['EX_ile__L_e'] = 0\n",
    "YEPDmedium['EX_leu__L_e'] = 0\n",
    "YEPDmedium['EX_met__L_e'] = 0\n",
    "YEPDmedium['EX_phe__L_e'] = 0\n",
    "YEPDmedium['EX_pro__L_e'] = 20\n",
    "YEPDmedium['EX_ser__L_e'] = 20\n",
    "YEPDmedium['EX_thr__L_e'] = 20\n",
    "YEPDmedium['EX_trp__L_e'] = 20\n",
    "YEPDmedium['EX_tyr__L_e'] = 0\n",
    "YEPDmedium['EX_val__L_e'] = 0\n",
    "YEPDmedium['EX_lys__L_e'] = 0\n",
    "YEPDmedium['EX_asp__L_e'] = 20\n",
    "\n",
    "with model:\n",
    "    model.medium = YEPDmedium\n",
    "    model.objective = model.reactions.eth_tp\n",
    "    eth_production = model.optimize().objective_value\n",
    "    print('Maximum productivity =', eth_production, 'mmol/gDW*h')\n",
    "   \n",
    "    eth_maximum_yield = eth_production / (-1*(model.reactions.EX_sucr_e.flux))\n",
    "    print('Maximum theoretical yield with sucrose optimized media=', eth_maximum_yield, 'mmol-eth/mmol-sucr')\n",
    "\n",
    "    eth_production_cmol = (eth_maximum_yield*CF_eth)/(1*CF_sucr)\n",
    "    print('Maximum theoretical cmol yield for sucrose opt. media=', eth_production_cmol, 'cmol-eth/cmol-sucr')"
   ]
  },
  {
   "cell_type": "markdown",
   "metadata": {},
   "source": [
    "The same, but for the glucose optimized media:"
   ]
  },
  {
   "cell_type": "code",
   "execution_count": 6,
   "metadata": {},
   "outputs": [
    {
     "name": "stdout",
     "output_type": "stream",
     "text": [
      "Maximum productivity = 225.35283018867966 mmol/gDW*h\n",
      "Maximum theoretical yield with sucrose optimized media= 5.633820754716991 mmol-eth/mmol-glc\n",
      "Maximum theoretical cmol yield for sucrose opt. media= 1.8779402515723305 cmol-psi/cmol-glc\n"
     ]
    }
   ],
   "source": [
    "YEPDmedium = model.medium\n",
    "YEPDmedium['EX_glc__D_e'] = 40\n",
    "YEPDmedium['EX_sucr_e'] = 0\n",
    "YEPDmedium['EX_ala__L_e'] = 20\n",
    "YEPDmedium['EX_arg__L_e'] = 20\n",
    "YEPDmedium['EX_asn__L_e'] = 20\n",
    "YEPDmedium['EX_cys__L_e'] = 20\n",
    "YEPDmedium['EX_gln__L_e'] = 20\n",
    "YEPDmedium['EX_glu__L_e'] = 20\n",
    "YEPDmedium['EX_gly_e'] = 0\n",
    "YEPDmedium['EX_his__L_e'] = 0\n",
    "YEPDmedium['EX_ile__L_e'] = 0\n",
    "YEPDmedium['EX_leu__L_e'] = 0\n",
    "YEPDmedium['EX_met__L_e'] = 0\n",
    "YEPDmedium['EX_phe__L_e'] = 0\n",
    "YEPDmedium['EX_pro__L_e'] = 20\n",
    "YEPDmedium['EX_ser__L_e'] = 20\n",
    "YEPDmedium['EX_thr__L_e'] = 20\n",
    "YEPDmedium['EX_trp__L_e'] = 20\n",
    "YEPDmedium['EX_tyr__L_e'] = 0\n",
    "YEPDmedium['EX_val__L_e'] = 0\n",
    "YEPDmedium['EX_lys__L_e'] = 0\n",
    "YEPDmedium['EX_asp__L_e'] = 20\n",
    "\n",
    "with model:\n",
    "    model.medium = YEPDmedium\n",
    "    model.objective = model.reactions.eth_tp\n",
    "    eth_production = model.optimize().objective_value\n",
    "    print('Maximum productivity =', eth_production, 'mmol/gDW*h')\n",
    "   \n",
    "    eth_maximum_yield = eth_production / (-1*(model.reactions.EX_glc__D_e.flux))\n",
    "    print('Maximum theoretical yield with sucrose optimized media=', eth_maximum_yield, 'mmol-eth/mmol-glc')\n",
    "\n",
    "    eth_production_cmol = (eth_maximum_yield*CF_eth)/(1*CF_glc)\n",
    "    print('Maximum theoretical cmol yield for sucrose opt. media=', eth_production_cmol, 'cmol-eth/cmol-glc')"
   ]
  }
 ],
 "metadata": {
  "kernelspec": {
   "display_name": "Python 3",
   "language": "python",
   "name": "python3"
  },
  "language_info": {
   "codemirror_mode": {
    "name": "ipython",
    "version": 3
   },
   "file_extension": ".py",
   "mimetype": "text/x-python",
   "name": "python",
   "nbconvert_exporter": "python",
   "pygments_lexer": "ipython3",
   "version": "3.10.13"
  }
 },
 "nbformat": 4,
 "nbformat_minor": 2
}
