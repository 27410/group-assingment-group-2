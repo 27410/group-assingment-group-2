{
 "cells": [
  {
   "cell_type": "markdown",
   "metadata": {},
   "source": [
    "Installing packages and importing Libraries and Model:"
   ]
  },
  {
   "cell_type": "code",
   "execution_count": 3,
   "metadata": {},
   "outputs": [
    {
     "name": "stdout",
     "output_type": "stream",
     "text": [
      "Requirement already satisfied: tqdm in /usr/local/python/3.10.8/lib/python3.10/site-packages (4.66.1)\n",
      "Note: you may need to restart the kernel to use updated packages.\n"
     ]
    }
   ],
   "source": [
    "pip install tqdm"
   ]
  },
  {
   "cell_type": "code",
   "execution_count": 4,
   "metadata": {},
   "outputs": [
    {
     "name": "stdout",
     "output_type": "stream",
     "text": [
      "Requirement already satisfied: scipy in /home/codespace/.local/lib/python3.10/site-packages (1.11.3)\n",
      "Requirement already satisfied: numpy<1.28.0,>=1.21.6 in /home/codespace/.local/lib/python3.10/site-packages (from scipy) (1.26.1)\n",
      "Note: you may need to restart the kernel to use updated packages.\n"
     ]
    }
   ],
   "source": [
    "pip install scipy"
   ]
  },
  {
   "cell_type": "code",
   "execution_count": 5,
   "metadata": {},
   "outputs": [
    {
     "name": "stdout",
     "output_type": "stream",
     "text": [
      "Requirement already satisfied: matplotlib in /home/codespace/.local/lib/python3.10/site-packages (3.8.1)\n",
      "Requirement already satisfied: contourpy>=1.0.1 in /home/codespace/.local/lib/python3.10/site-packages (from matplotlib) (1.1.1)\n",
      "Requirement already satisfied: cycler>=0.10 in /home/codespace/.local/lib/python3.10/site-packages (from matplotlib) (0.12.1)\n",
      "Requirement already satisfied: fonttools>=4.22.0 in /home/codespace/.local/lib/python3.10/site-packages (from matplotlib) (4.43.1)\n",
      "Requirement already satisfied: kiwisolver>=1.3.1 in /home/codespace/.local/lib/python3.10/site-packages (from matplotlib) (1.4.5)\n",
      "Requirement already satisfied: numpy<2,>=1.21 in /home/codespace/.local/lib/python3.10/site-packages (from matplotlib) (1.26.1)\n",
      "Requirement already satisfied: packaging>=20.0 in /home/codespace/.local/lib/python3.10/site-packages (from matplotlib) (23.2)\n",
      "Requirement already satisfied: pillow>=8 in /home/codespace/.local/lib/python3.10/site-packages (from matplotlib) (10.1.0)\n",
      "Requirement already satisfied: pyparsing>=2.3.1 in /home/codespace/.local/lib/python3.10/site-packages (from matplotlib) (3.1.1)\n",
      "Requirement already satisfied: python-dateutil>=2.7 in /home/codespace/.local/lib/python3.10/site-packages (from matplotlib) (2.8.2)\n",
      "Requirement already satisfied: six>=1.5 in /home/codespace/.local/lib/python3.10/site-packages (from python-dateutil>=2.7->matplotlib) (1.16.0)\n",
      "Note: you may need to restart the kernel to use updated packages.\n"
     ]
    }
   ],
   "source": [
    "pip install matplotlib"
   ]
  },
  {
   "cell_type": "code",
   "execution_count": 6,
   "metadata": {},
   "outputs": [
    {
     "name": "stdout",
     "output_type": "stream",
     "text": [
      "Requirement already satisfied: cobra in /usr/local/python/3.10.8/lib/python3.10/site-packages (0.29.0)\n",
      "Requirement already satisfied: appdirs~=1.4 in /usr/local/python/3.10.8/lib/python3.10/site-packages (from cobra) (1.4.4)\n",
      "Requirement already satisfied: depinfo~=2.2 in /usr/local/python/3.10.8/lib/python3.10/site-packages (from cobra) (2.2.0)\n",
      "Requirement already satisfied: diskcache~=5.0 in /usr/local/python/3.10.8/lib/python3.10/site-packages (from cobra) (5.6.3)\n",
      "Requirement already satisfied: future in /usr/local/python/3.10.8/lib/python3.10/site-packages (from cobra) (0.18.3)\n",
      "Requirement already satisfied: httpx~=0.24 in /usr/local/python/3.10.8/lib/python3.10/site-packages (from cobra) (0.25.1)\n",
      "Requirement already satisfied: importlib-resources in /usr/local/python/3.10.8/lib/python3.10/site-packages (from cobra) (6.1.1)\n",
      "Requirement already satisfied: numpy>=1.13 in /home/codespace/.local/lib/python3.10/site-packages (from cobra) (1.26.1)\n",
      "Requirement already satisfied: optlang~=1.8 in /usr/local/python/3.10.8/lib/python3.10/site-packages (from cobra) (1.8.1)\n",
      "Requirement already satisfied: pandas<3.0,>=1.0 in /home/codespace/.local/lib/python3.10/site-packages (from cobra) (2.1.2)\n",
      "Requirement already satisfied: pydantic>=1.6 in /usr/local/python/3.10.8/lib/python3.10/site-packages (from cobra) (2.5.1)\n",
      "Requirement already satisfied: python-libsbml~=5.19 in /usr/local/python/3.10.8/lib/python3.10/site-packages (from cobra) (5.20.2)\n",
      "Requirement already satisfied: rich>=8.0 in /usr/local/python/3.10.8/lib/python3.10/site-packages (from cobra) (13.7.0)\n",
      "Requirement already satisfied: ruamel.yaml~=0.16 in /usr/local/python/3.10.8/lib/python3.10/site-packages (from cobra) (0.18.5)\n",
      "Requirement already satisfied: swiglpk in /usr/local/python/3.10.8/lib/python3.10/site-packages (from cobra) (5.0.10)\n",
      "Requirement already satisfied: anyio in /home/codespace/.local/lib/python3.10/site-packages (from httpx~=0.24->cobra) (4.0.0)\n",
      "Requirement already satisfied: certifi in /home/codespace/.local/lib/python3.10/site-packages (from httpx~=0.24->cobra) (2023.7.22)\n",
      "Requirement already satisfied: httpcore in /usr/local/python/3.10.8/lib/python3.10/site-packages (from httpx~=0.24->cobra) (1.0.2)\n",
      "Requirement already satisfied: idna in /home/codespace/.local/lib/python3.10/site-packages (from httpx~=0.24->cobra) (3.4)\n",
      "Requirement already satisfied: sniffio in /home/codespace/.local/lib/python3.10/site-packages (from httpx~=0.24->cobra) (1.3.0)\n",
      "Requirement already satisfied: six>=1.9 in /home/codespace/.local/lib/python3.10/site-packages (from optlang~=1.8->cobra) (1.16.0)\n",
      "Requirement already satisfied: sympy>=1.12.0 in /home/codespace/.local/lib/python3.10/site-packages (from optlang~=1.8->cobra) (1.12)\n",
      "Requirement already satisfied: python-dateutil>=2.8.2 in /home/codespace/.local/lib/python3.10/site-packages (from pandas<3.0,>=1.0->cobra) (2.8.2)\n",
      "Requirement already satisfied: pytz>=2020.1 in /home/codespace/.local/lib/python3.10/site-packages (from pandas<3.0,>=1.0->cobra) (2023.3.post1)\n",
      "Requirement already satisfied: tzdata>=2022.1 in /home/codespace/.local/lib/python3.10/site-packages (from pandas<3.0,>=1.0->cobra) (2023.3)\n",
      "Requirement already satisfied: annotated-types>=0.4.0 in /usr/local/python/3.10.8/lib/python3.10/site-packages (from pydantic>=1.6->cobra) (0.6.0)\n",
      "Requirement already satisfied: pydantic-core==2.14.3 in /usr/local/python/3.10.8/lib/python3.10/site-packages (from pydantic>=1.6->cobra) (2.14.3)\n",
      "Requirement already satisfied: typing-extensions>=4.6.1 in /home/codespace/.local/lib/python3.10/site-packages (from pydantic>=1.6->cobra) (4.8.0)\n",
      "Requirement already satisfied: markdown-it-py>=2.2.0 in /usr/local/python/3.10.8/lib/python3.10/site-packages (from rich>=8.0->cobra) (3.0.0)\n",
      "Requirement already satisfied: pygments<3.0.0,>=2.13.0 in /home/codespace/.local/lib/python3.10/site-packages (from rich>=8.0->cobra) (2.16.1)\n",
      "Requirement already satisfied: ruamel.yaml.clib>=0.2.7 in /usr/local/python/3.10.8/lib/python3.10/site-packages (from ruamel.yaml~=0.16->cobra) (0.2.8)\n",
      "Requirement already satisfied: mdurl~=0.1 in /usr/local/python/3.10.8/lib/python3.10/site-packages (from markdown-it-py>=2.2.0->rich>=8.0->cobra) (0.1.2)\n",
      "Requirement already satisfied: mpmath>=0.19 in /home/codespace/.local/lib/python3.10/site-packages (from sympy>=1.12.0->optlang~=1.8->cobra) (1.3.0)\n",
      "Requirement already satisfied: exceptiongroup>=1.0.2 in /home/codespace/.local/lib/python3.10/site-packages (from anyio->httpx~=0.24->cobra) (1.1.3)\n",
      "Requirement already satisfied: h11<0.15,>=0.13 in /usr/local/python/3.10.8/lib/python3.10/site-packages (from httpcore->httpx~=0.24->cobra) (0.14.0)\n",
      "Note: you may need to restart the kernel to use updated packages.\n"
     ]
    }
   ],
   "source": [
    "pip install cobra"
   ]
  },
  {
   "cell_type": "code",
   "execution_count": 7,
   "metadata": {},
   "outputs": [],
   "source": [
    "import numpy as np\n",
    "from tqdm import tqdm\n",
    "\n",
    "from scipy.integrate import solve_ivp\n",
    "\n",
    "import matplotlib.pyplot as plt\n",
    "%matplotlib inline\n",
    "\n"
   ]
  },
  {
   "cell_type": "code",
   "execution_count": 8,
   "metadata": {},
   "outputs": [
    {
     "data": {
      "text/html": [
       "<strong><em>Optimal</em> solution with objective value 12.781</strong><br><div>\n",
       "<style scoped>\n",
       "    .dataframe tbody tr th:only-of-type {\n",
       "        vertical-align: middle;\n",
       "    }\n",
       "\n",
       "    .dataframe tbody tr th {\n",
       "        vertical-align: top;\n",
       "    }\n",
       "\n",
       "    .dataframe thead th {\n",
       "        text-align: right;\n",
       "    }\n",
       "</style>\n",
       "<table border=\"1\" class=\"dataframe\">\n",
       "  <thead>\n",
       "    <tr style=\"text-align: right;\">\n",
       "      <th></th>\n",
       "      <th>fluxes</th>\n",
       "      <th>reduced_costs</th>\n",
       "    </tr>\n",
       "  </thead>\n",
       "  <tbody>\n",
       "    <tr>\n",
       "      <th>EX_cm_e</th>\n",
       "      <td>0.000000</td>\n",
       "      <td>0.000000</td>\n",
       "    </tr>\n",
       "    <tr>\n",
       "      <th>EX_cmp_e</th>\n",
       "      <td>0.000000</td>\n",
       "      <td>-3.602649</td>\n",
       "    </tr>\n",
       "    <tr>\n",
       "      <th>EX_co2_e</th>\n",
       "      <td>34.438852</td>\n",
       "      <td>0.000000</td>\n",
       "    </tr>\n",
       "    <tr>\n",
       "      <th>EX_cobalt2_e</th>\n",
       "      <td>0.000000</td>\n",
       "      <td>0.000000</td>\n",
       "    </tr>\n",
       "    <tr>\n",
       "      <th>DM_4crsol_c</th>\n",
       "      <td>0.000000</td>\n",
       "      <td>0.000000</td>\n",
       "    </tr>\n",
       "    <tr>\n",
       "      <th>...</th>\n",
       "      <td>...</td>\n",
       "      <td>...</td>\n",
       "    </tr>\n",
       "    <tr>\n",
       "      <th>DM_eth_c</th>\n",
       "      <td>12.780574</td>\n",
       "      <td>0.000000</td>\n",
       "    </tr>\n",
       "    <tr>\n",
       "      <th>EX_eth_e</th>\n",
       "      <td>0.000000</td>\n",
       "      <td>0.000000</td>\n",
       "    </tr>\n",
       "    <tr>\n",
       "      <th>DM_hlarg_c</th>\n",
       "      <td>0.000000</td>\n",
       "      <td>0.000000</td>\n",
       "    </tr>\n",
       "    <tr>\n",
       "      <th>DM_guan_c</th>\n",
       "      <td>0.000000</td>\n",
       "      <td>0.000000</td>\n",
       "    </tr>\n",
       "    <tr>\n",
       "      <th>DM_ld1p5carb_c</th>\n",
       "      <td>0.000000</td>\n",
       "      <td>0.000000</td>\n",
       "    </tr>\n",
       "  </tbody>\n",
       "</table>\n",
       "<p>2592 rows × 2 columns</p>\n",
       "</div>"
      ],
      "text/plain": [
       "<Solution 12.781 at 0x7f4688a45120>"
      ]
     },
     "execution_count": 8,
     "metadata": {},
     "output_type": "execute_result"
    }
   ],
   "source": [
    "from cobra.io import read_sbml_model\n",
    "from cobra import Reaction, Metabolite\n",
    "model = read_sbml_model('modified_model.xml')\n",
    "\n",
    "import cobra\n",
    "#from cobra.io import load_model\n",
    "#model = load_model('modified_model.xml')\n",
    "\n",
    "model.objective = model.reactions.EFE_m\n",
    "model.optimize()\n"
   ]
  },
  {
   "cell_type": "markdown",
   "metadata": {},
   "source": [
    "Building the dynamic system:"
   ]
  },
  {
   "cell_type": "code",
   "execution_count": 9,
   "metadata": {},
   "outputs": [],
   "source": [
    "def add_dynamic_bounds(model, y):\n",
    "    \"\"\"Use external concentrations to bound the uptake flux of glucose.\"\"\"\n",
    "    biomass, glucose, ethylene = y  # expand the boundary species\n",
    "    glucose_max_import = -10 * glucose / (5 + glucose)\n",
    "    model.reactions.EX_glc__D_e.lower_bound = glucose_max_import\n",
    "\n",
    "\n",
    "def dynamic_system(t, y):\n",
    "    \"\"\"Calculate the time derivative of external species.\"\"\"\n",
    "    \n",
    "    print(\"Current time:\", t)\n",
    "    print(\"Current state:\", y)\n",
    "\n",
    "    biomass, glucose, ethylene = y  # expand the boundary species\n",
    "\n",
    "    # Calculate the specific exchanges fluxes at the given external concentrations.\n",
    "    with model:\n",
    "        add_dynamic_bounds(model, y)\n",
    "\n",
    "        cobra.util.add_lp_feasibility(model)\n",
    "        feasibility = cobra.util.fix_objective_as_constraint(model)\n",
    "        lex_constraints = cobra.util.add_lexicographic_constraints(\n",
    "            model, ['BIOMASS_Ec_iJO1366_core_53p95M', 'EX_glc__D_e', 'EFE_m'], ['max', 'max', 'max'])\n",
    "\n",
    "    # Since the calculated fluxes are specific rates, we multiply them by the\n",
    "    # biomass concentration to get the bulk exchange rates.\n",
    "    fluxes = lex_constraints.values\n",
    "    fluxes *= biomass\n",
    "\n",
    "    # This implementation is **not** efficient, so I display the current\n",
    "    # simulation time using a progress bar.\n",
    "    if dynamic_system.pbar is not None:\n",
    "        dynamic_system.pbar.update(1)\n",
    "        dynamic_system.pbar.set_description('t = {:.3f}'.format(t))\n",
    "\n",
    "    return fluxes\n",
    "\n",
    "dynamic_system.pbar = None\n",
    "\n",
    "\n",
    "def infeasible_event(t, y):\n",
    "    \"\"\"\n",
    "    Determine solution feasibility.\n",
    "\n",
    "    Avoiding infeasible solutions is handled by solve_ivp's built-in event detection.\n",
    "    This function re-solves the LP to determine whether or not the solution is feasible\n",
    "    (and if not, how far it is from feasibility). When the sign of this function changes\n",
    "    from -epsilon to positive, we know the solution is no longer feasible.\n",
    "\n",
    "    \"\"\"\n",
    "\n",
    "    with model:\n",
    "\n",
    "        add_dynamic_bounds(model, y)\n",
    "\n",
    "        cobra.util.add_lp_feasibility(model)\n",
    "        feasibility = cobra.util.fix_objective_as_constraint(model)\n",
    "        print(\"Feasibility:\", feasibility)\n",
    "\n",
    "    return feasibility - infeasible_event.epsilon\n",
    "\n",
    "infeasible_event.epsilon = 1E-6\n",
    "infeasible_event.direction = 1\n",
    "infeasible_event.terminal = True"
   ]
  },
  {
   "cell_type": "markdown",
   "metadata": {},
   "source": [
    "Running the dynamic Simulation:"
   ]
  },
  {
   "cell_type": "code",
   "execution_count": 10,
   "metadata": {},
   "outputs": [
    {
     "name": "stderr",
     "output_type": "stream",
     "text": [
      "0it [00:00, ?it/s]"
     ]
    },
    {
     "name": "stdout",
     "output_type": "stream",
     "text": [
      "Current time: 0.0\n",
      "Current state: [ 0.1 10.   0. ]\n"
     ]
    },
    {
     "name": "stderr",
     "output_type": "stream",
     "text": [
      "t = 0.000: : 1it [00:03,  3.35s/it]"
     ]
    },
    {
     "name": "stdout",
     "output_type": "stream",
     "text": [
      "Current time: 0.022695260907302606\n",
      "Current state: [1.01476462e-01 9.98486983e+00 8.08315666e-17]\n"
     ]
    },
    {
     "name": "stderr",
     "output_type": "stream",
     "text": [
      "t = 0.023: : 2it [00:06,  3.45s/it]"
     ]
    },
    {
     "name": "stdout",
     "output_type": "stream",
     "text": [
      "Current time: 0.0\n",
      "Current state: [ 0.1 10.   0. ]\n"
     ]
    },
    {
     "name": "stderr",
     "output_type": "stream",
     "text": [
      "t = 0.000: : 3it [00:10,  3.54s/it]"
     ]
    },
    {
     "name": "stdout",
     "output_type": "stream",
     "text": [
      "Current time: 0.0\n",
      "Current state: [ 0.1 10.   0. ]\n"
     ]
    },
    {
     "name": "stderr",
     "output_type": "stream",
     "text": [
      "t = 0.000: : 4it [00:14,  3.54s/it]"
     ]
    },
    {
     "name": "stdout",
     "output_type": "stream",
     "text": [
      "Current time: 0.0\n",
      "Current state: [0.1        9.99999985 0.        ]\n"
     ]
    },
    {
     "name": "stderr",
     "output_type": "stream",
     "text": [
      "t = 0.000: : 5it [00:17,  3.56s/it]"
     ]
    },
    {
     "name": "stdout",
     "output_type": "stream",
     "text": [
      "Current time: 0.0\n",
      "Current state: [ 1.00000000e-01  1.00000000e+01 -1.49011612e-16]\n"
     ]
    },
    {
     "name": "stderr",
     "output_type": "stream",
     "text": [
      "t = 0.000: : 6it [00:21,  3.54s/it]"
     ]
    },
    {
     "name": "stdout",
     "output_type": "stream",
     "text": [
      "Current time: 0.0\n",
      "Current state: [ 1.00000000e-01  1.00000000e+01 -1.49011612e-15]\n"
     ]
    },
    {
     "name": "stderr",
     "output_type": "stream",
     "text": [
      "t = 0.000: : 7it [00:24,  3.47s/it]"
     ]
    },
    {
     "name": "stdout",
     "output_type": "stream",
     "text": [
      "Feasibility: 0.0\n",
      "Current time: 0.00017059447244116224\n",
      "Current state: [1.00011098e-01 9.99988627e+00 6.07590215e-19]\n"
     ]
    },
    {
     "name": "stderr",
     "output_type": "stream",
     "text": [
      "t = 0.000: : 8it [00:31,  4.52s/it]"
     ]
    },
    {
     "name": "stdout",
     "output_type": "stream",
     "text": [
      "Current time: 0.00017059447244116224\n",
      "Current state: [1.00011099e-01 9.99988626e+00 1.29786103e-18]\n"
     ]
    },
    {
     "name": "stderr",
     "output_type": "stream",
     "text": [
      "t = 0.000: : 9it [00:34,  4.27s/it]"
     ]
    },
    {
     "name": "stdout",
     "output_type": "stream",
     "text": [
      "Feasibility: 0.0\n",
      "Current time: 0.0003411889448823245\n",
      "Current state: [1.00022198e-01 9.99977252e+00 3.54257770e-18]\n"
     ]
    },
    {
     "name": "stderr",
     "output_type": "stream",
     "text": [
      "t = 0.000: : 10it [00:41,  5.03s/it]"
     ]
    },
    {
     "name": "stdout",
     "output_type": "stream",
     "text": [
      "Current time: 0.0003411889448823245\n",
      "Current state: [1.00022200e-01 9.99977251e+00 1.54228614e-18]\n"
     ]
    },
    {
     "name": "stderr",
     "output_type": "stream",
     "text": [
      "t = 0.000: : 11it [00:45,  4.56s/it]"
     ]
    },
    {
     "name": "stdout",
     "output_type": "stream",
     "text": [
      "Feasibility: 0.0\n",
      "Current time: 0.0020471336692939467\n",
      "Current state: [1.00133203e-01 9.99863499e+00 8.93563284e-18]\n"
     ]
    },
    {
     "name": "stderr",
     "output_type": "stream",
     "text": [
      "t = 0.002: : 12it [00:52,  5.28s/it]"
     ]
    },
    {
     "name": "stdout",
     "output_type": "stream",
     "text": [
      "Current time: 0.0020471336692939467\n",
      "Current state: [ 1.00133305e-01  9.99863394e+00 -6.95318081e-17]\n"
     ]
    },
    {
     "name": "stderr",
     "output_type": "stream",
     "text": [
      "t = 0.002: : 13it [00:56,  4.87s/it]"
     ]
    },
    {
     "name": "stdout",
     "output_type": "stream",
     "text": [
      "Feasibility: 0.0\n",
      "Current time: 0.003753078393705569\n",
      "Current state: [ 1.00244411e-01  9.99749537e+00 -2.47691094e-17]\n"
     ]
    },
    {
     "name": "stderr",
     "output_type": "stream",
     "text": [
      "t = 0.004: : 14it [01:02,  5.36s/it]"
     ]
    },
    {
     "name": "stdout",
     "output_type": "stream",
     "text": [
      "Current time: 0.003753078393705569\n",
      "Current state: [ 1.00244527e-01  9.99749418e+00 -1.24160833e-16]\n"
     ]
    },
    {
     "name": "stderr",
     "output_type": "stream",
     "text": [
      "t = 0.004: : 15it [01:06,  4.94s/it]"
     ]
    },
    {
     "name": "stdout",
     "output_type": "stream",
     "text": [
      "Feasibility: 0.0\n",
      "Current time: 0.009704925095823234\n",
      "Current state: [ 1.00633481e-01  9.99350833e+00 -7.45475076e-17]\n"
     ]
    },
    {
     "name": "stderr",
     "output_type": "stream",
     "text": [
      "t = 0.010: : 16it [01:13,  5.59s/it]"
     ]
    },
    {
     "name": "stdout",
     "output_type": "stream",
     "text": [
      "Current time: 0.009704925095823234\n",
      "Current state: [ 1.00633425e-01  9.99350890e+00 -9.47088765e-18]\n"
     ]
    },
    {
     "name": "stderr",
     "output_type": "stream",
     "text": [
      "t = 0.010: : 17it [01:17,  4.97s/it]"
     ]
    },
    {
     "name": "stdout",
     "output_type": "stream",
     "text": [
      "Feasibility: 0.0\n",
      "Current time: 0.0156567717979409\n",
      "Current state: [ 1.01023685e-01  9.98950966e+00 -1.04521321e-16]\n"
     ]
    },
    {
     "name": "stderr",
     "output_type": "stream",
     "text": [
      "t = 0.016: : 18it [01:24,  5.60s/it]"
     ]
    },
    {
     "name": "stdout",
     "output_type": "stream",
     "text": [
      "Current time: 0.0156567717979409\n",
      "Current state: [ 1.01023737e-01  9.98950912e+00 -2.24363890e-16]\n"
     ]
    },
    {
     "name": "stderr",
     "output_type": "stream",
     "text": [
      "t = 0.016: : 19it [01:27,  4.96s/it]"
     ]
    },
    {
     "name": "stdout",
     "output_type": "stream",
     "text": [
      "Feasibility: 0.0\n",
      "Current time: 0.021608618500058567\n",
      "Current state: [ 1.01415463e-01  9.98549485e+00 -4.45425060e-17]\n"
     ]
    },
    {
     "name": "stderr",
     "output_type": "stream",
     "text": [
      "t = 0.022: : 20it [01:34,  5.58s/it]"
     ]
    },
    {
     "name": "stdout",
     "output_type": "stream",
     "text": [
      "Current time: 0.021608618500058567\n",
      "Current state: [ 1.01415497e-01  9.98549449e+00 -2.08083617e-16]\n"
     ]
    },
    {
     "name": "stderr",
     "output_type": "stream",
     "text": [
      "t = 0.022: : 21it [01:38,  4.92s/it]"
     ]
    },
    {
     "name": "stdout",
     "output_type": "stream",
     "text": [
      "Feasibility: 0.0\n",
      "Current time: 0.03727548549989246\n",
      "Current state: [1.02453894e-01 9.97485329e+00 1.87928314e-16]\n"
     ]
    },
    {
     "name": "stderr",
     "output_type": "stream",
     "text": [
      "t = 0.037: : 22it [01:44,  5.36s/it]"
     ]
    },
    {
     "name": "stdout",
     "output_type": "stream",
     "text": [
      "Current time: 0.03727548549989246\n",
      "Current state: [1.02453689e-01 9.97485539e+00 8.65407610e-16]\n"
     ]
    },
    {
     "name": "stderr",
     "output_type": "stream",
     "text": [
      "t = 0.037: : 23it [01:48,  4.98s/it]"
     ]
    },
    {
     "name": "stdout",
     "output_type": "stream",
     "text": [
      "Feasibility: 0.0\n",
      "Current time: 0.05294235249972635\n",
      "Current state: [ 1.03502375e-01  9.96410867e+00 -2.38676170e-16]\n"
     ]
    },
    {
     "name": "stderr",
     "output_type": "stream",
     "text": [
      "t = 0.053: : 24it [01:54,  5.40s/it]"
     ]
    },
    {
     "name": "stdout",
     "output_type": "stream",
     "text": [
      "Current time: 0.05294235249972635\n",
      "Current state: [1.03502150e-01 9.96411097e+00 9.14698372e-16]\n"
     ]
    },
    {
     "name": "stderr",
     "output_type": "stream",
     "text": [
      "t = 0.053: : 25it [01:58,  4.83s/it]"
     ]
    },
    {
     "name": "stdout",
     "output_type": "stream",
     "text": [
      "Feasibility: 0.0\n",
      "Current time: 0.06860921949956024\n",
      "Current state: [ 1.04561078e-01  9.95325921e+00 -3.72570571e-16]\n"
     ]
    },
    {
     "name": "stderr",
     "output_type": "stream",
     "text": [
      "t = 0.069: : 26it [02:05,  5.54s/it]"
     ]
    },
    {
     "name": "stdout",
     "output_type": "stream",
     "text": [
      "Current time: 0.06860921949956024\n",
      "Current state: [1.04560968e-01 9.95326034e+00 2.67011182e-16]\n"
     ]
    },
    {
     "name": "stderr",
     "output_type": "stream",
     "text": [
      "t = 0.069: : 27it [02:09,  4.92s/it]"
     ]
    },
    {
     "name": "stdout",
     "output_type": "stream",
     "text": [
      "Feasibility: 0.0\n",
      "Current time: 0.08427608649939414\n",
      "Current state: [ 1.05630233e-01  9.94230256e+00 -3.44093763e-17]\n"
     ]
    },
    {
     "name": "stderr",
     "output_type": "stream",
     "text": [
      "t = 0.084: : 28it [02:16,  5.78s/it]"
     ]
    },
    {
     "name": "stdout",
     "output_type": "stream",
     "text": [
      "Current time: 0.08427608649939414\n",
      "Current state: [ 1.05630218e-01  9.94230272e+00 -1.27795113e-16]\n"
     ]
    },
    {
     "name": "stderr",
     "output_type": "stream",
     "text": [
      "t = 0.084: : 29it [02:20,  5.03s/it]"
     ]
    },
    {
     "name": "stdout",
     "output_type": "stream",
     "text": [
      "Feasibility: 0.0\n",
      "Current time: 0.12683084607903\n",
      "Current state: [ 1.08587770e-01  9.91199345e+00 -2.48513195e-16]\n"
     ]
    },
    {
     "name": "stderr",
     "output_type": "stream",
     "text": [
      "t = 0.127: : 30it [02:26,  5.42s/it]"
     ]
    },
    {
     "name": "stdout",
     "output_type": "stream",
     "text": [
      "Current time: 0.12683084607903\n",
      "Current state: [ 1.08587946e-01  9.91199164e+00 -2.26007816e-15]\n"
     ]
    },
    {
     "name": "stderr",
     "output_type": "stream",
     "text": [
      "t = 0.127: : 31it [02:30,  5.14s/it]"
     ]
    },
    {
     "name": "stdout",
     "output_type": "stream",
     "text": [
      "Feasibility: 0.0\n",
      "Current time: 0.16938560565866587\n",
      "Current state: [ 1.11625000e-01  9.88086699e+00 -1.00071797e-15]\n"
     ]
    },
    {
     "name": "stderr",
     "output_type": "stream",
     "text": [
      "t = 0.169: : 32it [02:37,  5.52s/it]"
     ]
    },
    {
     "name": "stdout",
     "output_type": "stream",
     "text": [
      "Current time: 0.16938560565866587\n",
      "Current state: [ 1.11625198e-01  9.88086495e+00 -2.98464667e-15]\n"
     ]
    },
    {
     "name": "stderr",
     "output_type": "stream",
     "text": [
      "t = 0.169: : 33it [02:40,  4.84s/it]"
     ]
    },
    {
     "name": "stdout",
     "output_type": "stream",
     "text": [
      "Feasibility: 0.0\n",
      "Current time: 0.21194036523830173\n",
      "Current state: [ 1.14743818e-01  9.84890369e+00 -1.33339133e-15]\n"
     ]
    },
    {
     "name": "stderr",
     "output_type": "stream",
     "text": [
      "t = 0.212: : 34it [02:48,  5.74s/it]"
     ]
    },
    {
     "name": "stdout",
     "output_type": "stream",
     "text": [
      "Current time: 0.21194036523830173\n",
      "Current state: [ 1.14743925e-01  9.84890259e+00 -2.32571904e-15]\n"
     ]
    },
    {
     "name": "stderr",
     "output_type": "stream",
     "text": [
      "t = 0.212: : 35it [02:51,  5.00s/it]"
     ]
    },
    {
     "name": "stdout",
     "output_type": "stream",
     "text": [
      "Feasibility: 0.0\n",
      "Current time: 0.25449512481793757\n",
      "Current state: [ 1.17946078e-01  9.81608451e+00 -1.95685268e-15]\n"
     ]
    },
    {
     "name": "stderr",
     "output_type": "stream",
     "text": [
      "t = 0.254: : 36it [02:58,  5.51s/it]"
     ]
    },
    {
     "name": "stdout",
     "output_type": "stream",
     "text": [
      "Current time: 0.25449512481793757\n",
      "Current state: [ 1.17946117e-01  9.81608410e+00 -2.13237040e-15]\n"
     ]
    },
    {
     "name": "stderr",
     "output_type": "stream",
     "text": [
      "t = 0.254: : 37it [03:01,  4.85s/it]"
     ]
    },
    {
     "name": "stdout",
     "output_type": "stream",
     "text": [
      "Feasibility: 0.0\n",
      "Current time: 0.3489535563505282\n",
      "Current state: [ 1.25362255e-01  9.74007504e+00 -2.48568352e-15]\n"
     ]
    },
    {
     "name": "stderr",
     "output_type": "stream",
     "text": [
      "t = 0.349: : 38it [03:09,  5.74s/it]"
     ]
    },
    {
     "name": "stdout",
     "output_type": "stream",
     "text": [
      "Current time: 0.3489535563505282\n",
      "Current state: [ 1.25362467e-01  9.74007283e+00 -8.51747279e-15]\n"
     ]
    },
    {
     "name": "stderr",
     "output_type": "stream",
     "text": [
      "t = 0.349: : 39it [03:13,  5.07s/it]"
     ]
    },
    {
     "name": "stdout",
     "output_type": "stream",
     "text": [
      "Feasibility: 0.0\n",
      "Current time: 0.44341198788311886\n",
      "Current state: [ 1.33222063e-01  9.65951429e+00 -3.02062084e-16]\n"
     ]
    },
    {
     "name": "stderr",
     "output_type": "stream",
     "text": [
      "t = 0.443: : 40it [03:19,  5.50s/it]"
     ]
    },
    {
     "name": "stdout",
     "output_type": "stream",
     "text": [
      "Current time: 0.44341198788311886\n",
      "Current state: [ 1.33222622e-01  9.65950847e+00 -1.66930507e-14]\n"
     ]
    },
    {
     "name": "stderr",
     "output_type": "stream",
     "text": [
      "t = 0.443: : 41it [03:24,  5.25s/it]"
     ]
    },
    {
     "name": "stdout",
     "output_type": "stream",
     "text": [
      "Feasibility: 0.0\n",
      "Current time: 0.5378704194157096\n",
      "Current state: [ 1.41549128e-01  9.57415920e+00 -2.10127557e-15]\n"
     ]
    },
    {
     "name": "stderr",
     "output_type": "stream",
     "text": [
      "t = 0.538: : 42it [03:30,  5.63s/it]"
     ]
    },
    {
     "name": "stdout",
     "output_type": "stream",
     "text": [
      "Current time: 0.5378704194157096\n",
      "Current state: [ 1.41549899e-01  9.57415117e+00 -2.35826087e-14]\n"
     ]
    },
    {
     "name": "stderr",
     "output_type": "stream",
     "text": [
      "t = 0.538: : 43it [03:34,  4.92s/it]"
     ]
    },
    {
     "name": "stdout",
     "output_type": "stream",
     "text": [
      "Feasibility: 0.0\n",
      "Current time: 0.6323288509483003\n",
      "Current state: [ 1.50367614e-01  9.48376106e+00 -4.52057518e-15]\n"
     ]
    },
    {
     "name": "stderr",
     "output_type": "stream",
     "text": [
      "t = 0.632: : 44it [03:40,  5.43s/it]"
     ]
    },
    {
     "name": "stdout",
     "output_type": "stream",
     "text": [
      "Current time: 0.6323288509483003\n",
      "Current state: [ 1.50368408e-01  9.48375278e+00 -2.41852593e-14]\n"
     ]
    },
    {
     "name": "stderr",
     "output_type": "stream",
     "text": [
      "t = 0.632: : 45it [03:45,  5.26s/it]"
     ]
    },
    {
     "name": "stdout",
     "output_type": "stream",
     "text": [
      "Feasibility: 0.0\n",
      "Current time: 0.8273692401029903\n",
      "Current state: [ 1.70239118e-01  9.28003608e+00 -8.50712330e-15]\n"
     ]
    },
    {
     "name": "stderr",
     "output_type": "stream",
     "text": [
      "t = 0.827: : 46it [03:52,  5.64s/it]"
     ]
    },
    {
     "name": "stdout",
     "output_type": "stream",
     "text": [
      "Current time: 0.8273692401029903\n",
      "Current state: [1.70238386e-01 9.28004343e+00 2.71637786e-14]\n"
     ]
    },
    {
     "name": "stderr",
     "output_type": "stream",
     "text": [
      "t = 0.827: : 47it [03:55,  4.93s/it]"
     ]
    },
    {
     "name": "stdout",
     "output_type": "stream",
     "text": [
      "Feasibility: 0.0\n",
      "Current time: 1.0224096292576803\n",
      "Current state: [ 1.92537581e-01  9.05139152e+00 -2.33444203e-15]\n"
     ]
    },
    {
     "name": "stderr",
     "output_type": "stream",
     "text": [
      "t = 1.022: : 48it [04:01,  5.43s/it]"
     ]
    },
    {
     "name": "stdout",
     "output_type": "stream",
     "text": [
      "Current time: 1.0224096292576803\n",
      "Current state: [1.92535444e-01 9.05141283e+00 9.21180068e-14]\n"
     ]
    },
    {
     "name": "stderr",
     "output_type": "stream",
     "text": [
      "t = 1.022: : 49it [04:05,  4.75s/it]"
     ]
    },
    {
     "name": "stdout",
     "output_type": "stream",
     "text": [
      "Feasibility: 0.0\n",
      "Current time: 1.2174500184123702\n",
      "Current state: [ 2.17497510e-01  8.79540582e+00 -1.02891872e-14]\n"
     ]
    },
    {
     "name": "stderr",
     "output_type": "stream",
     "text": [
      "t = 1.217: : 50it [04:13,  5.84s/it]"
     ]
    },
    {
     "name": "stdout",
     "output_type": "stream",
     "text": [
      "Current time: 1.2174500184123702\n",
      "Current state: [2.17493326e-01 8.79544767e+00 1.90343758e-13]\n"
     ]
    },
    {
     "name": "stderr",
     "output_type": "stream",
     "text": [
      "t = 1.217: : 51it [04:16,  5.10s/it]"
     ]
    },
    {
     "name": "stdout",
     "output_type": "stream",
     "text": [
      "Current time: 1.1738024868880519\n",
      "Current state: [ 2.11667213e-01  8.85520518e+00 -1.08756031e-14]\n"
     ]
    },
    {
     "name": "stderr",
     "output_type": "stream",
     "text": [
      "t = 1.174: : 52it [04:20,  4.52s/it]"
     ]
    },
    {
     "name": "stdout",
     "output_type": "stream",
     "text": [
      "Current time: 1.1738024868880519\n",
      "Current state: [2.11665136e-01 8.85522595e+00 8.77141342e-14]\n"
     ]
    },
    {
     "name": "stderr",
     "output_type": "stream",
     "text": [
      "t = 1.174: : 53it [04:23,  4.17s/it]"
     ]
    },
    {
     "name": "stdout",
     "output_type": "stream",
     "text": [
      "Current time: 1.1738024868880519\n",
      "Current state: [ 2.11665173e-01  8.85522558e+00 -1.23683508e-14]\n"
     ]
    },
    {
     "name": "stderr",
     "output_type": "stream",
     "text": [
      "t = 1.174: : 54it [04:26,  3.89s/it]"
     ]
    },
    {
     "name": "stdout",
     "output_type": "stream",
     "text": [
      "Feasibility: 0.0\n",
      "Current time: 1.3251953445184235\n",
      "Current state: [ 2.32510278e-01  8.64140901e+00 -1.14553114e-14]\n"
     ]
    },
    {
     "name": "stderr",
     "output_type": "stream",
     "text": [
      "t = 1.325: : 55it [04:34,  5.23s/it]"
     ]
    },
    {
     "name": "stdout",
     "output_type": "stream",
     "text": [
      "Current time: 1.3251953445184235\n",
      "Current state: [2.32508346e-01 8.64142840e+00 7.88612392e-14]\n"
     ]
    },
    {
     "name": "stderr",
     "output_type": "stream",
     "text": [
      "t = 1.325: : 56it [04:38,  4.66s/it]"
     ]
    },
    {
     "name": "stdout",
     "output_type": "stream",
     "text": [
      "Current time: 1.3251953445184235\n",
      "Current state: [ 2.32508382e-01  8.64142803e+00 -1.34035058e-14]\n"
     ]
    },
    {
     "name": "stderr",
     "output_type": "stream",
     "text": [
      "t = 1.325: : 57it [04:41,  4.24s/it]"
     ]
    },
    {
     "name": "stdout",
     "output_type": "stream",
     "text": [
      "Feasibility: 0.0\n",
      "Current time: 1.476588202148795\n",
      "Current state: [ 2.55175430e-01  8.40887639e+00 -2.30679785e-14]\n"
     ]
    },
    {
     "name": "stderr",
     "output_type": "stream",
     "text": [
      "t = 1.477: : 58it [04:48,  4.98s/it]"
     ]
    },
    {
     "name": "stdout",
     "output_type": "stream",
     "text": [
      "Current time: 1.476588202148795\n",
      "Current state: [2.55173164e-01 8.40889918e+00 9.10788905e-14]\n"
     ]
    },
    {
     "name": "stderr",
     "output_type": "stream",
     "text": [
      "t = 1.477: : 59it [04:51,  4.46s/it]"
     ]
    },
    {
     "name": "stdout",
     "output_type": "stream",
     "text": [
      "Current time: 1.476588202148795\n",
      "Current state: [ 2.55173209e-01  8.40889872e+00 -1.94044179e-14]\n"
     ]
    },
    {
     "name": "stderr",
     "output_type": "stream",
     "text": [
      "t = 1.477: : 60it [04:54,  4.16s/it]"
     ]
    },
    {
     "name": "stdout",
     "output_type": "stream",
     "text": [
      "Feasibility: 0.0\n",
      "Current time: 1.6279810597791666\n",
      "Current state: [ 2.79765819e-01  8.15653384e+00 -2.83404065e-14]\n"
     ]
    },
    {
     "name": "stderr",
     "output_type": "stream",
     "text": [
      "t = 1.628: : 61it [05:03,  5.48s/it]"
     ]
    },
    {
     "name": "stdout",
     "output_type": "stream",
     "text": [
      "Current time: 1.6279810597791666\n",
      "Current state: [2.79762678e-01 8.15656548e+00 1.27598289e-13]\n"
     ]
    },
    {
     "name": "stderr",
     "output_type": "stream",
     "text": [
      "t = 1.628: : 62it [05:06,  4.81s/it]"
     ]
    },
    {
     "name": "stdout",
     "output_type": "stream",
     "text": [
      "Current time: 1.6279810597791666\n",
      "Current state: [ 2.79762744e-01  8.15656480e+00 -2.77435420e-14]\n"
     ]
    },
    {
     "name": "stderr",
     "output_type": "stream",
     "text": [
      "t = 1.628: : 63it [05:10,  4.36s/it]"
     ]
    },
    {
     "name": "stdout",
     "output_type": "stream",
     "text": [
      "Feasibility: 0.0\n",
      "Current time: 1.7793739174095382\n",
      "Current state: [ 3.06375037e-01  7.88340194e+00 -9.47668416e-15]\n"
     ]
    },
    {
     "name": "stderr",
     "output_type": "stream",
     "text": [
      "t = 1.779: : 64it [05:16,  5.10s/it]"
     ]
    },
    {
     "name": "stdout",
     "output_type": "stream",
     "text": [
      "Current time: 1.7793739174095382\n",
      "Current state: [3.06370797e-01 7.88344468e+00 1.82783377e-13]\n"
     ]
    },
    {
     "name": "stderr",
     "output_type": "stream",
     "text": [
      "t = 1.779: : 65it [05:20,  4.54s/it]"
     ]
    },
    {
     "name": "stdout",
     "output_type": "stream",
     "text": [
      "Current time: 1.7793739174095382\n",
      "Current state: [ 3.06370893e-01  7.88344370e+00 -2.81069372e-14]\n"
     ]
    },
    {
     "name": "stderr",
     "output_type": "stream",
     "text": [
      "t = 1.779: : 66it [05:23,  4.20s/it]"
     ]
    },
    {
     "name": "stdout",
     "output_type": "stream",
     "text": [
      "Feasibility: 0.0\n",
      "Current time: 1.9120985517606146\n",
      "Current state: [ 3.31422546e-01  7.62622594e+00 -3.46776520e-14]\n"
     ]
    },
    {
     "name": "stderr",
     "output_type": "stream",
     "text": [
      "t = 1.912: : 67it [05:32,  5.57s/it]"
     ]
    },
    {
     "name": "stdout",
     "output_type": "stream",
     "text": [
      "Current time: 1.9120985517606146\n",
      "Current state: [ 3.31421998e-01  7.62623149e+00 -7.28502616e-15]\n"
     ]
    },
    {
     "name": "stderr",
     "output_type": "stream",
     "text": [
      "t = 1.912: : 68it [05:35,  4.90s/it]"
     ]
    },
    {
     "name": "stdout",
     "output_type": "stream",
     "text": [
      "Feasibility: 0.0\n",
      "Current time: 2.044823186111691\n",
      "Current state: [ 3.58128019e-01  7.35194343e+00 -1.93540547e-14]\n"
     ]
    },
    {
     "name": "stderr",
     "output_type": "stream",
     "text": [
      "t = 2.045: : 69it [05:42,  5.35s/it]"
     ]
    },
    {
     "name": "stdout",
     "output_type": "stream",
     "text": [
      "Current time: 2.044823186111691\n",
      "Current state: [3.58126851e-01 7.35195524e+00 1.34264093e-14]\n"
     ]
    },
    {
     "name": "stderr",
     "output_type": "stream",
     "text": [
      "t = 2.045: : 70it [05:45,  4.78s/it]"
     ]
    },
    {
     "name": "stdout",
     "output_type": "stream",
     "text": [
      "Feasibility: 0.0\n",
      "Current time: 2.1775478204627676\n",
      "Current state: [ 3.86509682e-01  7.06034244e+00 -3.19455067e-14]\n"
     ]
    },
    {
     "name": "stderr",
     "output_type": "stream",
     "text": [
      "t = 2.178: : 71it [05:51,  5.25s/it]"
     ]
    },
    {
     "name": "stdout",
     "output_type": "stream",
     "text": [
      "Current time: 2.1775478204627676\n",
      "Current state: [ 3.86509366e-01  7.06034567e+00 -1.78446124e-14]\n"
     ]
    },
    {
     "name": "stderr",
     "output_type": "stream",
     "text": [
      "t = 2.178: : 72it [05:55,  4.69s/it]"
     ]
    },
    {
     "name": "stdout",
     "output_type": "stream",
     "text": [
      "Feasibility: 0.0\n",
      "Current time: 2.3102724548138442\n",
      "Current state: [ 4.16572541e-01  6.75134332e+00 -1.96102221e-14]\n"
     ]
    },
    {
     "name": "stderr",
     "output_type": "stream",
     "text": [
      "t = 2.310: : 73it [06:04,  5.97s/it]"
     ]
    },
    {
     "name": "stdout",
     "output_type": "stream",
     "text": [
      "Current time: 2.3102724548138442\n",
      "Current state: [ 4.16572060e-01  6.75134822e+00 -1.39548875e-14]\n"
     ]
    },
    {
     "name": "stderr",
     "output_type": "stream",
     "text": [
      "t = 2.310: : 74it [06:07,  5.13s/it]"
     ]
    },
    {
     "name": "stdout",
     "output_type": "stream",
     "text": [
      "Feasibility: 0.0\n",
      "Current time: 2.442997089164921\n",
      "Current state: [ 4.48291508e-01  6.42516901e+00 -4.08320567e-14]\n"
     ]
    },
    {
     "name": "stderr",
     "output_type": "stream",
     "text": [
      "t = 2.443: : 75it [06:13,  5.57s/it]"
     ]
    },
    {
     "name": "stdout",
     "output_type": "stream",
     "text": [
      "Current time: 2.442997089164921\n",
      "Current state: [ 4.48290597e-01  6.42517826e+00 -3.15361698e-15]\n"
     ]
    },
    {
     "name": "stderr",
     "output_type": "stream",
     "text": [
      "t = 2.443: : 76it [06:17,  4.93s/it]"
     ]
    },
    {
     "name": "stdout",
     "output_type": "stream",
     "text": [
      "Feasibility: 0.0\n",
      "Current time: 2.5757217235159975\n",
      "Current state: [ 4.81608244e-01  6.08237721e+00 -4.33892869e-14]\n"
     ]
    },
    {
     "name": "stderr",
     "output_type": "stream",
     "text": [
      "t = 2.576: : 77it [06:23,  5.37s/it]"
     ]
    },
    {
     "name": "stdout",
     "output_type": "stream",
     "text": [
      "Current time: 2.5757217235159975\n",
      "Current state: [ 4.81607269e-01  6.08238712e+00 -7.36914730e-15]\n"
     ]
    },
    {
     "name": "stderr",
     "output_type": "stream",
     "text": [
      "t = 2.576: : 78it [06:27,  4.82s/it]"
     ]
    },
    {
     "name": "stdout",
     "output_type": "stream",
     "text": [
      "Feasibility: 0.0\n",
      "Current time: 2.711862836970605\n",
      "Current state: [ 5.17339384e-01  5.71450531e+00 -2.70439106e-14]\n"
     ]
    },
    {
     "name": "stderr",
     "output_type": "stream",
     "text": [
      "t = 2.712: : 79it [06:33,  5.31s/it]"
     ]
    },
    {
     "name": "stdout",
     "output_type": "stream",
     "text": [
      "Current time: 2.711862836970605\n",
      "Current state: [ 5.17338632e-01  5.71451299e+00 -1.53971525e-14]\n"
     ]
    },
    {
     "name": "stderr",
     "output_type": "stream",
     "text": [
      "t = 2.712: : 80it [06:39,  5.50s/it]"
     ]
    },
    {
     "name": "stdout",
     "output_type": "stream",
     "text": [
      "Feasibility: 0.0\n",
      "Current time: 2.848003950425212\n",
      "Current state: [ 5.54489586e-01  5.33172631e+00 -5.35355604e-14]\n"
     ]
    },
    {
     "name": "stderr",
     "output_type": "stream",
     "text": [
      "t = 2.848: : 81it [06:46,  5.83s/it]"
     ]
    },
    {
     "name": "stdout",
     "output_type": "stream",
     "text": [
      "Current time: 2.848003950425212\n",
      "Current state: [ 5.54489182e-01  5.33173052e+00 -3.12879690e-14]\n"
     ]
    },
    {
     "name": "stderr",
     "output_type": "stream",
     "text": [
      "t = 2.848: : 82it [06:49,  5.06s/it]"
     ]
    },
    {
     "name": "stdout",
     "output_type": "stream",
     "text": [
      "Feasibility: 0.0\n",
      "Current time: 2.9841450638798195\n",
      "Current state: [ 5.92838579e-01  4.93622955e+00 -4.97223613e-14]\n"
     ]
    },
    {
     "name": "stderr",
     "output_type": "stream",
     "text": [
      "t = 2.984: : 83it [06:56,  5.49s/it]"
     ]
    },
    {
     "name": "stdout",
     "output_type": "stream",
     "text": [
      "Current time: 2.9841450638798195\n",
      "Current state: [ 5.92838656e-01  4.93622893e+00 -5.20961599e-14]\n"
     ]
    },
    {
     "name": "stderr",
     "output_type": "stream",
     "text": [
      "t = 2.984: : 84it [06:59,  4.87s/it]"
     ]
    },
    {
     "name": "stdout",
     "output_type": "stream",
     "text": [
      "Feasibility: 0.0\n",
      "Current time: 3.120286177334427\n",
      "Current state: [ 6.32096753e-01  4.53090545e+00 -3.54723622e-14]\n"
     ]
    },
    {
     "name": "stderr",
     "output_type": "stream",
     "text": [
      "t = 3.120: : 85it [07:05,  5.35s/it]"
     ]
    },
    {
     "name": "stdout",
     "output_type": "stream",
     "text": [
      "Current time: 3.120286177334427\n",
      "Current state: [ 6.32097665e-01  4.53089643e+00 -7.62404844e-14]\n"
     ]
    },
    {
     "name": "stderr",
     "output_type": "stream",
     "text": [
      "t = 3.120: : 86it [07:09,  4.71s/it]"
     ]
    },
    {
     "name": "stdout",
     "output_type": "stream",
     "text": [
      "Current time: 3.120286177334427\n",
      "Current state: [ 6.32097636e-01  4.53089672e+00 -5.00484366e-14]\n"
     ]
    },
    {
     "name": "stderr",
     "output_type": "stream",
     "text": [
      "t = 3.120: : 87it [07:12,  4.32s/it]"
     ]
    },
    {
     "name": "stdout",
     "output_type": "stream",
     "text": [
      "Feasibility: 0.0\n",
      "Current time: 3.256427290789034\n",
      "Current state: [ 6.71900074e-01  4.11939794e+00 -5.18669011e-14]\n"
     ]
    },
    {
     "name": "stderr",
     "output_type": "stream",
     "text": [
      "t = 3.256: : 88it [07:22,  5.85s/it]"
     ]
    },
    {
     "name": "stdout",
     "output_type": "stream",
     "text": [
      "Current time: 3.256427290789034\n",
      "Current state: [ 6.71902348e-01  4.11937521e+00 -1.16687771e-13]\n"
     ]
    },
    {
     "name": "stderr",
     "output_type": "stream",
     "text": [
      "t = 3.256: : 89it [07:25,  5.05s/it]"
     ]
    },
    {
     "name": "stdout",
     "output_type": "stream",
     "text": [
      "Current time: 3.256427290789034\n",
      "Current state: [ 6.71902265e-01  4.11937605e+00 -4.32284868e-14]\n"
     ]
    },
    {
     "name": "stderr",
     "output_type": "stream",
     "text": [
      "t = 3.256: : 90it [07:28,  4.58s/it]"
     ]
    },
    {
     "name": "stdout",
     "output_type": "stream",
     "text": [
      "Feasibility: 0.0\n",
      "Current time: 3.3925684042436415\n",
      "Current state: [ 7.11808853e-01  3.70611811e+00 -5.03717988e-14]\n"
     ]
    },
    {
     "name": "stderr",
     "output_type": "stream",
     "text": [
      "t = 3.393: : 91it [07:34,  5.10s/it]"
     ]
    },
    {
     "name": "stdout",
     "output_type": "stream",
     "text": [
      "Current time: 3.3925684042436415\n",
      "Current state: [ 7.11813063e-01  3.70607588e+00 -1.81605242e-13]\n"
     ]
    },
    {
     "name": "stderr",
     "output_type": "stream",
     "text": [
      "t = 3.393: : 92it [07:38,  4.59s/it]"
     ]
    },
    {
     "name": "stdout",
     "output_type": "stream",
     "text": [
      "Current time: 3.3925684042436415\n",
      "Current state: [ 7.11812884e-01  3.70607768e+00 -4.13351157e-14]\n"
     ]
    },
    {
     "name": "stderr",
     "output_type": "stream",
     "text": [
      "t = 3.393: : 93it [07:41,  4.15s/it]"
     ]
    },
    {
     "name": "stdout",
     "output_type": "stream",
     "text": [
      "Current time: 3.3539624657830487\n",
      "Current state: [ 7.00511162e-01  3.82319110e+00 -4.81889147e-14]\n"
     ]
    },
    {
     "name": "stderr",
     "output_type": "stream",
     "text": [
      "t = 3.354: : 94it [07:44,  3.90s/it]"
     ]
    },
    {
     "name": "stdout",
     "output_type": "stream",
     "text": [
      "Current time: 3.3539624657830487\n",
      "Current state: [ 7.00512721e-01  3.82317546e+00 -9.68632105e-14]\n"
     ]
    },
    {
     "name": "stderr",
     "output_type": "stream",
     "text": [
      "t = 3.354: : 95it [07:48,  3.71s/it]"
     ]
    },
    {
     "name": "stdout",
     "output_type": "stream",
     "text": [
      "Current time: 3.3539624657830487\n",
      "Current state: [ 7.00512658e-01  3.82317610e+00 -4.47123770e-14]\n"
     ]
    },
    {
     "name": "stderr",
     "output_type": "stream",
     "text": [
      "t = 3.354: : 96it [07:51,  3.56s/it]"
     ]
    },
    {
     "name": "stdout",
     "output_type": "stream",
     "text": [
      "Feasibility: 0.0\n",
      "Current time: 3.4514976407770632\n",
      "Current state: [ 7.28993363e-01  3.52791336e+00 -5.79633083e-14]\n"
     ]
    },
    {
     "name": "stderr",
     "output_type": "stream",
     "text": [
      "t = 3.451: : 97it [08:00,  5.34s/it]"
     ]
    },
    {
     "name": "stdout",
     "output_type": "stream",
     "text": [
      "Current time: 3.4514976407770632\n",
      "Current state: [ 7.28994221e-01  3.52790472e+00 -8.23416195e-14]\n"
     ]
    },
    {
     "name": "stderr",
     "output_type": "stream",
     "text": [
      "t = 3.451: : 98it [08:04,  4.71s/it]"
     ]
    },
    {
     "name": "stdout",
     "output_type": "stream",
     "text": [
      "Current time: 3.4514976407770632\n",
      "Current state: [ 7.28994183e-01  3.52790510e+00 -5.24394247e-14]\n"
     ]
    },
    {
     "name": "stderr",
     "output_type": "stream",
     "text": [
      "t = 3.451: : 99it [08:07,  4.26s/it]"
     ]
    },
    {
     "name": "stdout",
     "output_type": "stream",
     "text": [
      "Feasibility: 0.0\n",
      "Current time: 3.5490328157710778\n",
      "Current state: [ 7.57145067e-01  3.23559298e+00 -4.58991679e-14]\n"
     ]
    },
    {
     "name": "stderr",
     "output_type": "stream",
     "text": [
      "t = 3.549: : 100it [08:14,  5.00s/it]"
     ]
    },
    {
     "name": "stdout",
     "output_type": "stream",
     "text": [
      "Current time: 3.5490328157710778\n",
      "Current state: [ 7.57145970e-01  3.23558388e+00 -8.30352661e-14]\n"
     ]
    },
    {
     "name": "stderr",
     "output_type": "stream",
     "text": [
      "t = 3.549: : 101it [08:17,  4.48s/it]"
     ]
    },
    {
     "name": "stdout",
     "output_type": "stream",
     "text": [
      "Current time: 3.5490328157710778\n",
      "Current state: [ 7.57145927e-01  3.23558431e+00 -5.32321332e-14]\n"
     ]
    },
    {
     "name": "stderr",
     "output_type": "stream",
     "text": [
      "t = 3.549: : 102it [08:20,  4.15s/it]"
     ]
    },
    {
     "name": "stdout",
     "output_type": "stream",
     "text": [
      "Feasibility: 0.0\n",
      "Current time: 3.6465679907650923\n",
      "Current state: [ 7.84752716e-01  2.94838095e+00 -6.09241815e-14]\n"
     ]
    },
    {
     "name": "stderr",
     "output_type": "stream",
     "text": [
      "t = 3.647: : 103it [08:27,  4.87s/it]"
     ]
    },
    {
     "name": "stdout",
     "output_type": "stream",
     "text": [
      "Current time: 3.6465679907650923\n",
      "Current state: [ 7.84754161e-01  2.94836640e+00 -1.05642475e-13]\n"
     ]
    },
    {
     "name": "stderr",
     "output_type": "stream",
     "text": [
      "t = 3.647: : 104it [08:30,  4.45s/it]"
     ]
    },
    {
     "name": "stdout",
     "output_type": "stream",
     "text": [
      "Current time: 3.6465679907650923\n",
      "Current state: [ 7.84754087e-01  2.94836714e+00 -5.46936089e-14]\n"
     ]
    },
    {
     "name": "stderr",
     "output_type": "stream",
     "text": [
      "t = 3.647: : 105it [08:33,  4.09s/it]"
     ]
    },
    {
     "name": "stdout",
     "output_type": "stream",
     "text": [
      "Feasibility: 0.0\n",
      "Current time: 3.744103165759107\n",
      "Current state: [ 8.11595527e-01  2.66850360e+00 -6.88001885e-14]\n"
     ]
    },
    {
     "name": "stderr",
     "output_type": "stream",
     "text": [
      "t = 3.744: : 106it [08:44,  5.91s/it]"
     ]
    },
    {
     "name": "stdout",
     "output_type": "stream",
     "text": [
      "Current time: 3.744103165759107\n",
      "Current state: [ 8.11597341e-01  2.66848532e+00 -1.20442718e-13]\n"
     ]
    },
    {
     "name": "stderr",
     "output_type": "stream",
     "text": [
      "t = 3.744: : 107it [08:47,  5.12s/it]"
     ]
    },
    {
     "name": "stdout",
     "output_type": "stream",
     "text": [
      "Current time: 3.744103165759107\n",
      "Current state: [ 8.11597242e-01  2.66848632e+00 -6.06681966e-14]\n"
     ]
    },
    {
     "name": "stderr",
     "output_type": "stream",
     "text": [
      "t = 3.744: : 108it [08:50,  4.59s/it]"
     ]
    },
    {
     "name": "stdout",
     "output_type": "stream",
     "text": [
      "Feasibility: 0.0\n",
      "Current time: 3.8416383407531214\n",
      "Current state: [ 8.37451623e-01  2.39820109e+00 -6.25917485e-14]\n"
     ]
    },
    {
     "name": "stderr",
     "output_type": "stream",
     "text": [
      "t = 3.842: : 109it [08:57,  5.19s/it]"
     ]
    },
    {
     "name": "stdout",
     "output_type": "stream",
     "text": [
      "Current time: 3.8416383407531214\n",
      "Current state: [ 8.37453380e-01  2.39818336e+00 -1.22061355e-13]\n"
     ]
    },
    {
     "name": "stderr",
     "output_type": "stream",
     "text": [
      "t = 3.842: : 110it [09:00,  4.64s/it]"
     ]
    },
    {
     "name": "stdout",
     "output_type": "stream",
     "text": [
      "Current time: 3.8416383407531214\n",
      "Current state: [ 8.37453276e-01  2.39818441e+00 -6.20749683e-14]\n"
     ]
    },
    {
     "name": "stderr",
     "output_type": "stream",
     "text": [
      "t = 3.842: : 111it [09:03,  4.24s/it]"
     ]
    },
    {
     "name": "stdout",
     "output_type": "stream",
     "text": [
      "Feasibility: 0.0\n",
      "Current time: 3.9179482744072396\n",
      "Current state: [ 8.56854340e-01  2.19479898e+00 -6.25209543e-14]\n"
     ]
    },
    {
     "name": "stderr",
     "output_type": "stream",
     "text": [
      "t = 3.918: : 112it [09:10,  4.92s/it]"
     ]
    },
    {
     "name": "stdout",
     "output_type": "stream",
     "text": [
      "Current time: 3.9179482744072396\n",
      "Current state: [ 8.56855038e-01  2.19479192e+00 -7.88349353e-14]\n"
     ]
    },
    {
     "name": "stderr",
     "output_type": "stream",
     "text": [
      "t = 3.918: : 113it [09:13,  4.48s/it]"
     ]
    },
    {
     "name": "stdout",
     "output_type": "stream",
     "text": [
      "Current time: 3.9179482744072396\n",
      "Current state: [ 8.56855010e-01  2.19479220e+00 -6.70757025e-14]\n"
     ]
    },
    {
     "name": "stderr",
     "output_type": "stream",
     "text": [
      "t = 3.918: : 114it [09:17,  4.12s/it]"
     ]
    },
    {
     "name": "stdout",
     "output_type": "stream",
     "text": [
      "Feasibility: 0.0\n",
      "Current time: 3.994258208061358\n",
      "Current state: [ 8.75424686e-01  1.99956852e+00 -7.67571023e-14]\n"
     ]
    },
    {
     "name": "stderr",
     "output_type": "stream",
     "text": [
      "t = 3.994: : 115it [09:23,  4.85s/it]"
     ]
    },
    {
     "name": "stdout",
     "output_type": "stream",
     "text": [
      "Current time: 3.994258208061358\n",
      "Current state: [ 8.75424772e-01  1.99956763e+00 -6.96366423e-14]\n"
     ]
    },
    {
     "name": "stderr",
     "output_type": "stream",
     "text": [
      "t = 3.994: : 116it [09:26,  4.36s/it]"
     ]
    },
    {
     "name": "stdout",
     "output_type": "stream",
     "text": [
      "Feasibility: 0.0\n",
      "Current time: 4.0\n",
      "Current state: [ 8.76785858e-01  1.98523414e+00 -6.80989066e-14]\n"
     ]
    },
    {
     "name": "stderr",
     "output_type": "stream",
     "text": [
      "t = 4.000: : 117it [09:37,  6.13s/it]"
     ]
    },
    {
     "name": "stdout",
     "output_type": "stream",
     "text": [
      "Current time: 4.0\n",
      "Current state: [ 8.76785858e-01  1.98523414e+00 -6.82139727e-14]\n"
     ]
    },
    {
     "name": "stderr",
     "output_type": "stream",
     "text": [
      "t = 4.000: : 118it [09:40,  5.28s/it]"
     ]
    },
    {
     "name": "stdout",
     "output_type": "stream",
     "text": [
      "Feasibility: 0.0\n"
     ]
    },
    {
     "name": "stderr",
     "output_type": "stream",
     "text": [
      "t = 4.000: : 118it [09:43,  4.95s/it]\n"
     ]
    }
   ],
   "source": [
    "ts = np.linspace(0, 4, 100)  # Desired integration resolution and interval (startpoint (min), endpoint (min), calculations inbetween?)\n",
    "y0 = [0.1, 10, 0] # Define starting concentrations (i.e. 0.1 g/L biomass, 10 g/L Glucose, 0.1 g/L ethanol)\n",
    "\n",
    "with tqdm() as pbar:\n",
    "    dynamic_system.pbar = pbar\n",
    "\n",
    "    sol = solve_ivp(\n",
    "        fun=dynamic_system,\n",
    "        events=[infeasible_event],\n",
    "        t_span=(ts.min(), ts.max()),\n",
    "        y0=y0,\n",
    "        t_eval=ts,\n",
    "        rtol=1e-6, #relative tolerane, increase this value if infeasable event\n",
    "        atol=1e-8, #absolute tolerance, increase when infeasable event\n",
    "        method='BDF'\n",
    "    )"
   ]
  },
  {
   "cell_type": "markdown",
   "metadata": {},
   "source": [
    "Looking at the data output and plotting it:"
   ]
  },
  {
   "cell_type": "code",
   "execution_count": 11,
   "metadata": {},
   "outputs": [
    {
     "data": {
      "text/plain": [
       "  message: The solver successfully reached the end of the integration interval.\n",
       "  success: True\n",
       "   status: 0\n",
       "        t: [ 0.000e+00  4.040e-02 ...  3.960e+00  4.000e+00]\n",
       "        y: [[ 1.000e-01  1.027e-01 ...  8.671e-01  8.768e-01]\n",
       "            [ 1.000e+01  9.973e+00 ...  2.087e+00  1.985e+00]\n",
       "            [ 0.000e+00 -3.566e-17 ... -6.774e-14 -6.810e-14]]\n",
       "      sol: None\n",
       " t_events: [array([], dtype=float64)]\n",
       " y_events: [array([], dtype=float64)]\n",
       "     nfev: 113\n",
       "     njev: 1\n",
       "      nlu: 11"
      ]
     },
     "execution_count": 11,
     "metadata": {},
     "output_type": "execute_result"
    }
   ],
   "source": [
    "sol"
   ]
  },
  {
   "cell_type": "code",
   "execution_count": 12,
   "metadata": {},
   "outputs": [
    {
     "data": {
      "text/plain": [
       "Text(0, 0.5, 'Glucose')"
      ]
     },
     "execution_count": 12,
     "metadata": {},
     "output_type": "execute_result"
    },
    {
     "data": {
      "image/png": "[encoded data removed]",
      "text/plain": [
       "<Figure size 640x480 with 2 Axes>"
      ]
     },
     "metadata": {},
     "output_type": "display_data"
    }
   ],
   "source": [
    "ax = plt.subplot(111)\n",
    "ax.plot(sol.t, sol.y.T[:, 0])\n",
    "ax2 = plt.twinx(ax)\n",
    "ax2.plot(sol.t, sol.y.T[:, 1], color='r')\n",
    "#ax3 = plt.twinx(ax2)\n",
    "#ax.plot(sol.t, sol.y.T[:, 2], label='Third Variable', color='g')\n",
    "\n",
    "\n",
    "ax.set_ylabel('Biomass', color='b')\n",
    "ax2.set_ylabel('Glucose', color='r')\n",
    "#ax.plot(sol.t, sol.y.T[:, 2], label='Third Variable', color='g')\n"
   ]
  },
  {
   "cell_type": "code",
   "execution_count": 13,
   "metadata": {},
   "outputs": [
    {
     "data": {
      "text/plain": [
       "Text(0, 0.5, 'Ethylene')"
      ]
     },
     "execution_count": 13,
     "metadata": {},
     "output_type": "execute_result"
    },
    {
     "data": {
      "image/png": "[encoded data removed]",
      "text/plain": [
       "<Figure size 640x480 with 2 Axes>"
      ]
     },
     "metadata": {},
     "output_type": "display_data"
    }
   ],
   "source": [
    "ax = plt.subplot(111)\n",
    "ax.plot(sol.t, sol.y.T[:, 0])\n",
    "ax2 = plt.twinx(ax)\n",
    "ax2.plot(sol.t, sol.y.T[:, 2], color='g')\n",
    "#ax3 = plt.twinx(ax2)\n",
    "#ax.plot(sol.t, sol.y.T[:, 2], label='Third Variable', color='g')\n",
    "\n",
    "\n",
    "ax.set_ylabel('Biomass', color='b')\n",
    "ax2.set_ylabel('Ethylene', color='g')\n",
    "#ax.plot(sol.t, sol.y.T[:, 2], label='Third Variable', color='g')\n"
   ]
  }
 ],
 "metadata": {
  "kernelspec": {
   "display_name": "Python 3",
   "language": "python",
   "name": "python3"
  },
  "language_info": {
   "codemirror_mode": {
    "name": "ipython",
    "version": 3
   },
   "file_extension": ".py",
   "mimetype": "text/x-python",
   "name": "python",
   "nbconvert_exporter": "python",
   "pygments_lexer": "ipython3",
   "version": "3.10.8"
  }
 },
 "nbformat": 4,
 "nbformat_minor": 2
}
